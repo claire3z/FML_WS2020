{
 "cells": [
  {
   "cell_type": "markdown",
   "metadata": {},
   "source": [
    "# IFML, exc01b\n",
    "Johannes Kammerer, Zhao Sun, Tong Yu"
   ]
  },
  {
   "cell_type": "code",
   "execution_count": 1,
   "metadata": {},
   "outputs": [],
   "source": [
    "import numpy as np\n",
    "import matplotlib.pyplot as plt\n",
    "import pandas as pd\n",
    "from numpy import random\n",
    "# Scikit-learn\n",
    "from sklearn.datasets import load_digits\n",
    "from sklearn import model_selection"
   ]
  },
  {
   "cell_type": "markdown",
   "metadata": {},
   "source": [
    "## 3.1 Exploring the data"
   ]
  },
  {
   "cell_type": "code",
   "execution_count": 2,
   "metadata": {},
   "outputs": [
    {
     "name": "stdout",
     "output_type": "stream",
     "text": [
      "dict_keys(['data', 'target', 'target_names', 'images', 'DESCR'])\n",
      "float64\n"
     ]
    }
   ],
   "source": [
    "digits = load_digits()\n",
    "print ( digits.keys())\n",
    "data = digits [\"data\"]\n",
    "images = digits [\"images\"]\n",
    "target = digits [\"target\"]\n",
    "target_names = digits [\"target_names\"]\n",
    "print ( data.dtype )"
   ]
  },
  {
   "cell_type": "code",
   "execution_count": 3,
   "metadata": {},
   "outputs": [
    {
     "data": {
      "image/png": "[encoded data removed]",
      "text/plain": [
       "<Figure size 432x216 with 2 Axes>"
      ]
     },
     "metadata": {
      "needs_background": "light"
     },
     "output_type": "display_data"
    }
   ],
   "source": [
    "img = digits.images[3]\n",
    "assert 2 == len(img.shape)\n",
    "\n",
    "fig = plt.figure(figsize = (6, 3), tight_layout = True)\n",
    "\n",
    "plt.gray ()\n",
    "plt.subplot(121)\n",
    "plt.imshow(img, interpolation = \"nearest\") # also try interpolation =\" bicubic \"\n",
    "\n",
    "plt.subplot(122)\n",
    "plt.imshow(img, interpolation = \"bicubic\") # also try interpolation =\" bicubic \"\n",
    "\n",
    "plt.show ()"
   ]
  },
  {
   "cell_type": "code",
   "execution_count": 4,
   "metadata": {},
   "outputs": [
    {
     "data": {
      "text/plain": [
       "array([[ 0.,  0.,  7., 15., 13.,  1.,  0.,  0.],\n",
       "       [ 0.,  8., 13.,  6., 15.,  4.,  0.,  0.],\n",
       "       [ 0.,  2.,  1., 13., 13.,  0.,  0.,  0.],\n",
       "       [ 0.,  0.,  2., 15., 11.,  1.,  0.,  0.],\n",
       "       [ 0.,  0.,  0.,  1., 12., 12.,  1.,  0.],\n",
       "       [ 0.,  0.,  0.,  0.,  1., 10.,  8.,  0.],\n",
       "       [ 0.,  0.,  8.,  4.,  5., 14.,  9.,  0.],\n",
       "       [ 0.,  0.,  7., 13., 13.,  9.,  0.,  0.]])"
      ]
     },
     "execution_count": 4,
     "metadata": {},
     "output_type": "execute_result"
    }
   ],
   "source": [
    "digits.images[3]"
   ]
  },
  {
   "cell_type": "code",
   "execution_count": 5,
   "metadata": {},
   "outputs": [],
   "source": [
    "X_all = data\n",
    "y_all = target\n",
    "X_train , X_test , y_train , y_test = model_selection.train_test_split ( digits.data , digits.target ,\n",
    "                                                                        test_size = 0.4 , random_state = 0)"
   ]
  },
  {
   "cell_type": "code",
   "execution_count": 6,
   "metadata": {},
   "outputs": [
    {
     "data": {
      "text/plain": [
       "array([ 0.,  0.,  0.,  8., 15., 10.,  0.,  0.,  0.,  0.,  8., 13.,  6.,\n",
       "        1.,  0.,  0.,  0.,  1., 16.,  2.,  0.,  0.,  0.,  0.,  0.,  4.,\n",
       "       11.,  0.,  0.,  0.,  0.,  0.,  0.,  4., 16., 12., 12.,  9.,  2.,\n",
       "        0.,  0.,  1., 15.,  1.,  0.,  9., 10.,  0.,  0.,  0., 10.,  9.,\n",
       "        4., 13.,  3.,  0.,  0.,  0.,  0., 11., 15.,  5.,  0.,  0.])"
      ]
     },
     "execution_count": 6,
     "metadata": {},
     "output_type": "execute_result"
    }
   ],
   "source": [
    "X_train[0]"
   ]
  },
  {
   "cell_type": "markdown",
   "metadata": {},
   "source": [
    "## 3.2 Distance function with loops"
   ]
  },
  {
   "cell_type": "code",
   "execution_count": 11,
   "metadata": {},
   "outputs": [],
   "source": [
    "def dist_loop(training, test):\n",
    "    N = training.shape[0]\n",
    "    M = test.shape[0]\n",
    "    D = training.shape[1]\n",
    "    assert D == test.shape[1]\n",
    "    dist = np.zeros((N, M))\n",
    "    for n in range(N):\n",
    "        for m in range(M):\n",
    "            dist[n, m] = np.linalg.norm(training[n] - test[m]) # Euclidean distance (Frobenius norm)\n",
    "    return dist # NxM distance matrix"
   ]
  },
  {
   "cell_type": "code",
   "execution_count": 10,
   "metadata": {},
   "outputs": [
    {
     "name": "stdout",
     "output_type": "stream",
     "text": [
      "8.28 s ± 223 ms per loop (mean ± std. dev. of 7 runs, 1 loop each)\n"
     ]
    }
   ],
   "source": [
    "%timeit dist_loop(training = X_train, test = X_test)"
   ]
  },
  {
   "cell_type": "markdown",
   "metadata": {},
   "source": [
    "## 3.3 Distance function with vectorization"
   ]
  },
  {
   "cell_type": "code",
   "execution_count": 13,
   "metadata": {},
   "outputs": [],
   "source": [
    "def dist_vec(training, test):\n",
    "    N = training.shape[0]\n",
    "    M = test.shape[0]\n",
    "    D = training.shape[1]\n",
    "    assert D == test.shape[1]\n",
    "    dist = np.zeros((N, M))\n",
    "    for n in range(N):\n",
    "        dist[n, :] = np.linalg.norm((training[n]-test[:]), axis = 1) # Euclidean distance (Frobenius norm)\n",
    "    return dist # NxM distance matrix"
   ]
  },
  {
   "cell_type": "code",
   "execution_count": 14,
   "metadata": {},
   "outputs": [
    {
     "name": "stdout",
     "output_type": "stream",
     "text": [
      "227 ms ± 2.02 ms per loop (mean ± std. dev. of 7 runs, 1 loop each)\n"
     ]
    }
   ],
   "source": [
    "%timeit dist_vec(training = X_train, test = X_test)"
   ]
  },
  {
   "cell_type": "code",
   "execution_count": 16,
   "metadata": {},
   "outputs": [
    {
     "data": {
      "text/plain": [
       "True"
      ]
     },
     "execution_count": 16,
     "metadata": {},
     "output_type": "execute_result"
    }
   ],
   "source": [
    "(dist_vec(training = X_train, test = X_test) == dist_loop(training = X_train, test = X_test)).all()"
   ]
  },
  {
   "cell_type": "markdown",
   "metadata": {},
   "source": [
    "## 3.4 k nearest neighbor classifier"
   ]
  },
  {
   "cell_type": "code",
   "execution_count": 101,
   "metadata": {},
   "outputs": [],
   "source": [
    "# partly from Claire\n",
    "\n",
    "def kNN_classifier(k, X_train, X_test, y_train):\n",
    "    N, D = X_train.shape\n",
    "    M, D2 = X_test.shape\n",
    "    assert D == D2\n",
    "    \n",
    "    dist = dist_vec(X_train, X_test)\n",
    "    pred = np.zeros(M)\n",
    "    k_indices = dist.argsort(axis = 0)[:k] # choose the top k rows \n",
    "    \n",
    "    for m in range(M):\n",
    "        k_labels = y_train[k_indices[:,m]] \n",
    "        idx = y_train.argsort()[:k]\n",
    "        labels, counts = np.unique(k_labels,return_counts=True)\n",
    "        idx = np.argmax(counts)\n",
    "        pred[m] = labels[idx]\n",
    "        \n",
    "    return pred"
   ]
  },
  {
   "cell_type": "code",
   "execution_count": 119,
   "metadata": {},
   "outputs": [],
   "source": [
    "def err(k, X_train, X_test, y_train, y_test):\n",
    "    pred = kNN_classifier(k, X_train, X_test, y_train)\n",
    "    err = (pred != y_test).sum() / y_test.shape[0]\n",
    "    return err"
   ]
  },
  {
   "cell_type": "code",
   "execution_count": 120,
   "metadata": {},
   "outputs": [],
   "source": [
    "cond_train = (y_train == 3) | (y_train == 9)\n",
    "cond_test = (y_test == 3) | (y_test == 9)"
   ]
  },
  {
   "cell_type": "code",
   "execution_count": 121,
   "metadata": {},
   "outputs": [
    {
     "data": {
      "text/plain": [
       "array([9., 9., 9., 9., 3., 9., 9., 3., 3., 9., 9., 3., 9., 3., 3., 9., 9.,\n",
       "       3., 9., 3., 9., 9., 9., 9., 9., 9., 9., 9., 9., 9., 3., 9., 9., 3.,\n",
       "       3., 3., 3., 3., 9., 3., 3., 9., 9., 9., 9., 3., 3., 3., 9., 3., 3.,\n",
       "       9., 3., 9., 9., 3., 3., 3., 3., 9., 3., 9., 9., 9., 3., 9., 9., 9.,\n",
       "       9., 3., 3., 9., 3., 3., 3., 3., 3., 3., 3., 9., 3., 3., 3., 9., 3.,\n",
       "       9., 3., 3., 3., 9., 3., 9., 9., 3., 3., 9., 3., 3., 9., 3., 3., 9.,\n",
       "       9., 3., 3., 3., 9., 9., 9., 3., 9., 9., 3., 9., 9., 9., 9., 3., 3.,\n",
       "       3., 3., 3., 3., 9., 9., 9., 3., 3., 9., 3., 9., 3., 3., 9., 9., 9.,\n",
       "       9., 9., 3., 3., 3., 3., 9., 9.])"
      ]
     },
     "execution_count": 121,
     "metadata": {},
     "output_type": "execute_result"
    }
   ],
   "source": [
    "kNN_classifier(10, X_train[cond_train], X_test[cond_test], y_train[cond_train])"
   ]
  },
  {
   "cell_type": "code",
   "execution_count": 129,
   "metadata": {},
   "outputs": [],
   "source": [
    "k_val = np.array([1,3,5,9,17,33])\n",
    "err_val = [err(k_val[i], X_train[cond_train], X_test[cond_test], y_train[cond_train], y_test[cond_test]) for i in range(len(k_val))]"
   ]
  },
  {
   "cell_type": "code",
   "execution_count": 132,
   "metadata": {},
   "outputs": [
    {
     "data": {
      "text/plain": [
       "[<matplotlib.lines.Line2D at 0x17d1afaf408>]"
      ]
     },
     "execution_count": 132,
     "metadata": {},
     "output_type": "execute_result"
    },
    {
     "data": {
      "image/png": "[encoded data removed]",
      "text/plain": [
       "<Figure size 432x288 with 1 Axes>"
      ]
     },
     "metadata": {
      "needs_background": "light"
     },
     "output_type": "display_data"
    }
   ],
   "source": [
    "plt.plot(k_val, err_val, 'o')"
   ]
  },
  {
   "cell_type": "code",
   "execution_count": 136,
   "metadata": {},
   "outputs": [],
   "source": [
    "k_val = np.arange(1, 35)\n",
    "err_val = [err(k_val[i], X_train[cond_train], X_test[cond_test], y_train[cond_train], y_test[cond_test]) for i in range(len(k_val))]"
   ]
  },
  {
   "cell_type": "code",
   "execution_count": 138,
   "metadata": {},
   "outputs": [
    {
     "data": {
      "text/plain": [
       "[<matplotlib.lines.Line2D at 0x17d1addb848>]"
      ]
     },
     "execution_count": 138,
     "metadata": {},
     "output_type": "execute_result"
    },
    {
     "data": {
      "image/png": "[encoded data removed]",
      "text/plain": [
       "<Figure size 432x288 with 1 Axes>"
      ]
     },
     "metadata": {
      "needs_background": "light"
     },
     "output_type": "display_data"
    }
   ],
   "source": [
    "plt.plot(k_val, err_val)"
   ]
  },
  {
   "cell_type": "code",
   "execution_count": null,
   "metadata": {},
   "outputs": [],
   "source": []
  }
 ],
 "metadata": {
  "kernelspec": {
   "display_name": "Python 3",
   "language": "python",
   "name": "python3"
  },
  "language_info": {
   "codemirror_mode": {
    "name": "ipython",
    "version": 3
   },
   "file_extension": ".py",
   "mimetype": "text/x-python",
   "name": "python",
   "nbconvert_exporter": "python",
   "pygments_lexer": "ipython3",
   "version": "3.7.4"
  }
 },
 "nbformat": 4,
 "nbformat_minor": 2
}
