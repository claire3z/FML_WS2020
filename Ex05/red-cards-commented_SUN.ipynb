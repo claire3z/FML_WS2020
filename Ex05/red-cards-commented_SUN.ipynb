{
 "cells": [
  {
   "cell_type": "markdown",
   "metadata": {},
   "source": [
    "# Fundamentals of Machine Learning - Exercise 4(a)\n",
    "Deadline: 12.01.2021, 16:00\n",
    "\n",
    "Johannes Kammerer, Zhao Sun, Tong Yu"
   ]
  },
  {
   "cell_type": "code",
   "execution_count": 1,
   "metadata": {},
   "outputs": [],
   "source": [
    "import pandas as pd                                    \n",
    "import numpy as np                                      \n",
    "import matplotlib.pyplot as plt         \n",
    "%matplotlib inline\n",
    "import seaborn as sns\n",
    "from IPython.display import display, Markdown, Latex"
   ]
  },
  {
   "cell_type": "markdown",
   "metadata": {},
   "source": [
    "## Red Cards Study\n",
    "### 1. Loading and Cleaning the Data (10 points)\n",
    "\n",
    "\n",
    "- What do the feature names (e.g. column games) stand for?\n",
    "- Which irrelevant features might be dropped?\n",
    "- What relevant features might be missing, but can be computed? E.g., you can obtain the age of a player (which might be relevant) from his birthday, or create entirely new features by non-linear combinations of existing ones.\n",
    "- Are there missing data values (e.g. missing skin color ratings), and how should they be dealt with? (see https://en.wikipedia.org/wiki/Missing_data)\n",
    "- How good are the skin color ratings? Do the raters agree?\n",
    "- Should referees with very few appearances be excluded from the dataset?\n",
    "- Should features be normalized and/or centralized? \n",
    "\n",
    "Categorical features (e.g. league) should be transformed to a one-hot encoding (see https://en.wikipedia.org/wiki/One-hot). In case of league, you can also repreat the experiment independently for the different leagues to check if there are differences between countries. Provide a detailed description and justification of your data preparation."
   ]
  },
  {
   "cell_type": "code",
   "execution_count": 2,
   "metadata": {
    "scrolled": true
   },
   "outputs": [
    {
     "name": "stderr",
     "output_type": "stream",
     "text": [
      "C:\\ProgramData\\Anaconda3\\lib\\site-packages\\ipykernel_launcher.py:6: FutureWarning: Passing a negative integer is deprecated in version 1.0 and will not be supported in future version. Instead, use None to not limit the column width.\n",
      "  \n"
     ]
    },
    {
     "data": {
      "text/plain": [
       "Index(['playerShort', 'player', 'club', 'leagueCountry', 'birthday', 'height',\n",
       "       'weight', 'position', 'games', 'victories', 'ties', 'defeats', 'goals',\n",
       "       'yellowCards', 'yellowReds', 'redCards', 'photoID', 'rater1', 'rater2',\n",
       "       'refNum', 'refCountry', 'Alpha_3', 'meanIAT', 'nIAT', 'seIAT',\n",
       "       'meanExp', 'nExp', 'seExp'],\n",
       "      dtype='object')"
      ]
     },
     "metadata": {},
     "output_type": "display_data"
    },
    {
     "data": {
      "text/plain": [
       "4088784"
      ]
     },
     "metadata": {},
     "output_type": "display_data"
    },
    {
     "data": {
      "text/html": [
       "<div>\n",
       "<style scoped>\n",
       "    .dataframe tbody tr th:only-of-type {\n",
       "        vertical-align: middle;\n",
       "    }\n",
       "\n",
       "    .dataframe tbody tr th {\n",
       "        vertical-align: top;\n",
       "    }\n",
       "\n",
       "    .dataframe thead th {\n",
       "        text-align: right;\n",
       "    }\n",
       "</style>\n",
       "<table border=\"1\" class=\"dataframe\">\n",
       "  <thead>\n",
       "    <tr style=\"text-align: right;\">\n",
       "      <th></th>\n",
       "      <th>playerShort</th>\n",
       "      <th>player</th>\n",
       "      <th>club</th>\n",
       "      <th>leagueCountry</th>\n",
       "      <th>birthday</th>\n",
       "      <th>height</th>\n",
       "      <th>weight</th>\n",
       "      <th>position</th>\n",
       "      <th>games</th>\n",
       "      <th>victories</th>\n",
       "      <th>ties</th>\n",
       "      <th>defeats</th>\n",
       "      <th>goals</th>\n",
       "      <th>yellowCards</th>\n",
       "      <th>yellowReds</th>\n",
       "      <th>redCards</th>\n",
       "      <th>photoID</th>\n",
       "      <th>rater1</th>\n",
       "      <th>rater2</th>\n",
       "      <th>refNum</th>\n",
       "      <th>refCountry</th>\n",
       "      <th>Alpha_3</th>\n",
       "      <th>meanIAT</th>\n",
       "      <th>nIAT</th>\n",
       "      <th>seIAT</th>\n",
       "      <th>meanExp</th>\n",
       "      <th>nExp</th>\n",
       "      <th>seExp</th>\n",
       "    </tr>\n",
       "  </thead>\n",
       "  <tbody>\n",
       "    <tr>\n",
       "      <th>0</th>\n",
       "      <td>lucas-wilchez</td>\n",
       "      <td>Lucas Wilchez</td>\n",
       "      <td>Real Zaragoza</td>\n",
       "      <td>Spain</td>\n",
       "      <td>31.08.1983</td>\n",
       "      <td>177.0</td>\n",
       "      <td>72.0</td>\n",
       "      <td>Attacking Midfielder</td>\n",
       "      <td>1</td>\n",
       "      <td>0</td>\n",
       "      <td>0</td>\n",
       "      <td>1</td>\n",
       "      <td>0</td>\n",
       "      <td>0</td>\n",
       "      <td>0</td>\n",
       "      <td>0</td>\n",
       "      <td>95212.jpg</td>\n",
       "      <td>0.25</td>\n",
       "      <td>0.50</td>\n",
       "      <td>1</td>\n",
       "      <td>1</td>\n",
       "      <td>GRC</td>\n",
       "      <td>0.326391</td>\n",
       "      <td>712.0</td>\n",
       "      <td>0.000564</td>\n",
       "      <td>0.396000</td>\n",
       "      <td>750.0</td>\n",
       "      <td>0.002696</td>\n",
       "    </tr>\n",
       "    <tr>\n",
       "      <th>1</th>\n",
       "      <td>john-utaka</td>\n",
       "      <td>John Utaka</td>\n",
       "      <td>Montpellier HSC</td>\n",
       "      <td>France</td>\n",
       "      <td>08.01.1982</td>\n",
       "      <td>179.0</td>\n",
       "      <td>82.0</td>\n",
       "      <td>Right Winger</td>\n",
       "      <td>1</td>\n",
       "      <td>0</td>\n",
       "      <td>0</td>\n",
       "      <td>1</td>\n",
       "      <td>0</td>\n",
       "      <td>1</td>\n",
       "      <td>0</td>\n",
       "      <td>0</td>\n",
       "      <td>1663.jpg</td>\n",
       "      <td>0.75</td>\n",
       "      <td>0.75</td>\n",
       "      <td>2</td>\n",
       "      <td>2</td>\n",
       "      <td>ZMB</td>\n",
       "      <td>0.203375</td>\n",
       "      <td>40.0</td>\n",
       "      <td>0.010875</td>\n",
       "      <td>-0.204082</td>\n",
       "      <td>49.0</td>\n",
       "      <td>0.061504</td>\n",
       "    </tr>\n",
       "    <tr>\n",
       "      <th>2</th>\n",
       "      <td>abdon-prats</td>\n",
       "      <td>Abdón Prats</td>\n",
       "      <td>RCD Mallorca</td>\n",
       "      <td>Spain</td>\n",
       "      <td>17.12.1992</td>\n",
       "      <td>181.0</td>\n",
       "      <td>79.0</td>\n",
       "      <td>NaN</td>\n",
       "      <td>1</td>\n",
       "      <td>0</td>\n",
       "      <td>1</td>\n",
       "      <td>0</td>\n",
       "      <td>0</td>\n",
       "      <td>1</td>\n",
       "      <td>0</td>\n",
       "      <td>0</td>\n",
       "      <td>NaN</td>\n",
       "      <td>NaN</td>\n",
       "      <td>NaN</td>\n",
       "      <td>3</td>\n",
       "      <td>3</td>\n",
       "      <td>ESP</td>\n",
       "      <td>0.369894</td>\n",
       "      <td>1785.0</td>\n",
       "      <td>0.000229</td>\n",
       "      <td>0.588297</td>\n",
       "      <td>1897.0</td>\n",
       "      <td>0.001002</td>\n",
       "    </tr>\n",
       "    <tr>\n",
       "      <th>3</th>\n",
       "      <td>pablo-mari</td>\n",
       "      <td>Pablo Marí</td>\n",
       "      <td>RCD Mallorca</td>\n",
       "      <td>Spain</td>\n",
       "      <td>31.08.1993</td>\n",
       "      <td>191.0</td>\n",
       "      <td>87.0</td>\n",
       "      <td>Center Back</td>\n",
       "      <td>1</td>\n",
       "      <td>1</td>\n",
       "      <td>0</td>\n",
       "      <td>0</td>\n",
       "      <td>0</td>\n",
       "      <td>0</td>\n",
       "      <td>0</td>\n",
       "      <td>0</td>\n",
       "      <td>NaN</td>\n",
       "      <td>NaN</td>\n",
       "      <td>NaN</td>\n",
       "      <td>3</td>\n",
       "      <td>3</td>\n",
       "      <td>ESP</td>\n",
       "      <td>0.369894</td>\n",
       "      <td>1785.0</td>\n",
       "      <td>0.000229</td>\n",
       "      <td>0.588297</td>\n",
       "      <td>1897.0</td>\n",
       "      <td>0.001002</td>\n",
       "    </tr>\n",
       "    <tr>\n",
       "      <th>4</th>\n",
       "      <td>ruben-pena</td>\n",
       "      <td>Rubén Peña</td>\n",
       "      <td>Real Valladolid</td>\n",
       "      <td>Spain</td>\n",
       "      <td>18.07.1991</td>\n",
       "      <td>172.0</td>\n",
       "      <td>70.0</td>\n",
       "      <td>Right Midfielder</td>\n",
       "      <td>1</td>\n",
       "      <td>1</td>\n",
       "      <td>0</td>\n",
       "      <td>0</td>\n",
       "      <td>0</td>\n",
       "      <td>0</td>\n",
       "      <td>0</td>\n",
       "      <td>0</td>\n",
       "      <td>NaN</td>\n",
       "      <td>NaN</td>\n",
       "      <td>NaN</td>\n",
       "      <td>3</td>\n",
       "      <td>3</td>\n",
       "      <td>ESP</td>\n",
       "      <td>0.369894</td>\n",
       "      <td>1785.0</td>\n",
       "      <td>0.000229</td>\n",
       "      <td>0.588297</td>\n",
       "      <td>1897.0</td>\n",
       "      <td>0.001002</td>\n",
       "    </tr>\n",
       "  </tbody>\n",
       "</table>\n",
       "</div>"
      ],
      "text/plain": [
       "     playerShort         player             club leagueCountry    birthday  height  weight              position  games  victories  ties  defeats  goals  yellowCards  yellowReds  redCards    photoID  rater1  rater2  refNum  refCountry Alpha_3   meanIAT    nIAT     seIAT   meanExp    nExp     seExp\n",
       "0  lucas-wilchez  Lucas Wilchez  Real Zaragoza    Spain         31.08.1983  177.0   72.0    Attacking Midfielder  1      0          0     1        0      0            0           0         95212.jpg  0.25    0.50    1       1           GRC     0.326391  712.0   0.000564  0.396000  750.0   0.002696\n",
       "1  john-utaka     John Utaka     Montpellier HSC  France        08.01.1982  179.0   82.0    Right Winger          1      0          0     1        0      1            0           0         1663.jpg   0.75    0.75    2       2           ZMB     0.203375  40.0    0.010875 -0.204082  49.0    0.061504\n",
       "2  abdon-prats     Abdón Prats   RCD Mallorca     Spain         17.12.1992  181.0   79.0    NaN                   1      0          1     0        0      1            0           0         NaN       NaN     NaN      3       3           ESP     0.369894  1785.0  0.000229  0.588297  1897.0  0.001002\n",
       "3  pablo-mari      Pablo Marí    RCD Mallorca     Spain         31.08.1993  191.0   87.0    Center Back           1      1          0     0        0      0            0           0         NaN       NaN     NaN      3       3           ESP     0.369894  1785.0  0.000229  0.588297  1897.0  0.001002\n",
       "4  ruben-pena      Rubén Peña    Real Valladolid  Spain         18.07.1991  172.0   70.0    Right Midfielder      1      1          0     0        0      0            0           0         NaN       NaN     NaN      3       3           ESP     0.369894  1785.0  0.000229  0.588297  1897.0  0.001002"
      ]
     },
     "metadata": {},
     "output_type": "display_data"
    }
   ],
   "source": [
    "df = pd.read_csv('CrowdstormingDataJuly1st.csv')\n",
    "\n",
    "# set options to display full range of columns\n",
    "pd.set_option('display.max_columns', None)  \n",
    "pd.set_option('display.expand_frame_repr', False)\n",
    "pd.set_option('max_colwidth', -1)\n",
    "\n",
    "display(df.columns, df.size, df.head())"
   ]
  },
  {
   "cell_type": "code",
   "execution_count": 312,
   "metadata": {},
   "outputs": [
    {
     "data": {
      "text/markdown": [
       "Num of dyads with missing photos = 21407 (14.659517% of total dyads) "
      ],
      "text/plain": [
       "<IPython.core.display.Markdown object>"
      ]
     },
     "metadata": {},
     "output_type": "display_data"
    },
    {
     "data": {
      "text/markdown": [
       "Num of players with missing photos = 468 (23.008850% of unique players) "
      ],
      "text/plain": [
       "<IPython.core.display.Markdown object>"
      ]
     },
     "metadata": {},
     "output_type": "display_data"
    },
    {
     "data": {
      "image/png": "[encoded data removed]",
      "text/plain": [
       "<Figure size 432x288 with 1 Axes>"
      ]
     },
     "metadata": {
      "needs_background": "light"
     },
     "output_type": "display_data"
    },
    {
     "data": {
      "text/markdown": [
       "% of redCards (all) = 1.238804% vs. <br>% of redCards (without photos) = 1.139814%"
      ],
      "text/plain": [
       "<IPython.core.display.Markdown object>"
      ]
     },
     "metadata": {},
     "output_type": "display_data"
    },
    {
     "data": {
      "text/markdown": [
       "As evidenced above, we can assume the missing photos are at random and therefore treat missing values by omission, i.e. dropping all NaNs from dataset."
      ],
      "text/plain": [
       "<IPython.core.display.Markdown object>"
      ]
     },
     "metadata": {},
     "output_type": "display_data"
    }
   ],
   "source": [
    "# Consider missing photos\n",
    "df['redCards'].value_counts() #144219 #1784 #25\n",
    "df['redCards'][df.photoID.isna()].value_counts() #21163 #243 #1\n",
    "\n",
    "display(Markdown(\"Num of dyads with missing photos = {} ({:%} of total dyads) \".format(len(df['redCards'][df.photoID.isna()]), len(df['redCards'][df.photoID.isna()])/len(df['redCards']))))\n",
    "\n",
    "display(Markdown(\"Num of players with missing photos = {} ({:%} of unique players) \".format(len(df['player'][df.photoID.isna()].unique()),len(df['player'][df.photoID.isna()].unique())/len(df['player'].unique()))))\n",
    "\n",
    "\n",
    "(df['redCards'][df.photoID.isna()].value_counts() / df['redCards'].value_counts()).plot.bar(rot=0, color='red')\n",
    "plt.title(\"% of missing photos vs num of red cards\"), plt.xlabel('num of redcards'), plt.ylabel('% of missing photos')\n",
    "plt.show()\n",
    "\n",
    "display(Markdown('% of redCards (all) = {:%} vs. <br>% of redCards (without photos) = {:%}'.format(df['redCards'][df.redCards!=0].count() / df['redCards'].count(), df['redCards'][df.photoID.isna()][df.redCards!=0].count() / df['redCards'][df.photoID.isna()].count())))\n",
    "display(Markdown('As evidenced above, we can assume the missing photos are at random and therefore treat missing values by omission, i.e. dropping all NaNs from dataset.'))\n"
   ]
  },
  {
   "cell_type": "markdown",
   "metadata": {},
   "source": [
    "<font color=green> **COMMENTS:** \n",
    "    We have found the same number of missing photos which means we have loaded the raw data successfully.\n",
    "\n",
    "</font>"
   ]
  },
  {
   "cell_type": "code",
   "execution_count": 417,
   "metadata": {},
   "outputs": [
    {
     "data": {
      "text/markdown": [
       "Observation: c. 2/3 of all referees were involved in less than 22 dyads, i.e. not full game information"
      ],
      "text/plain": [
       "<IPython.core.display.Markdown object>"
      ]
     },
     "metadata": {},
     "output_type": "display_data"
    },
    {
     "data": {
      "image/png": "[encoded data removed]",
      "text/plain": [
       "<Figure size 432x288 with 1 Axes>"
      ]
     },
     "metadata": {
      "needs_background": "light"
     },
     "output_type": "display_data"
    },
    {
     "data": {
      "text/markdown": [
       "% of referees who has at least 22 dyads = 31.712742%"
      ],
      "text/plain": [
       "<IPython.core.display.Markdown object>"
      ]
     },
     "metadata": {},
     "output_type": "display_data"
    },
    {
     "data": {
      "text/markdown": [
       "% of dyads with referees who has at least 22 dyads = 91.421508%"
      ],
      "text/plain": [
       "<IPython.core.display.Markdown object>"
      ]
     },
     "metadata": {},
     "output_type": "display_data"
    },
    {
     "data": {
      "text/markdown": [
       "% of red cards issues by referees with at least 22 dyads:"
      ],
      "text/plain": [
       "<IPython.core.display.Markdown object>"
      ]
     },
     "metadata": {},
     "output_type": "display_data"
    },
    {
     "data": {
      "text/plain": [
       "0    0.913846\n",
       "1    0.942825\n",
       "2    1.000000\n",
       "Name: redCards, dtype: float64"
      ]
     },
     "metadata": {},
     "output_type": "display_data"
    },
    {
     "data": {
      "text/markdown": [
       "**However, if we do not consider referee as a particular feature of the player, then we should not exclude any referee.**"
      ],
      "text/plain": [
       "<IPython.core.display.Markdown object>"
      ]
     },
     "metadata": {},
     "output_type": "display_data"
    }
   ],
   "source": [
    "# Consider referees with few games\n",
    "display(Markdown(\"Observation: c. 2/3 of all referees were involved in less than 22 dyads, i.e. not full game information\"))\n",
    "plt.plot(-np.sort(-df.refNum.value_counts())) # sort by descending order\n",
    "plt.hlines(y = 22, xmin=0, xmax=3000,colors='red', linestyles='dashdot', label='y=22', )\n",
    "plt.xlabel('num of referees')\n",
    "plt.ylabel('num of dyads')\n",
    "plt.legend()\n",
    "plt.show()\n",
    "\n",
    "refNum22 = df.refNum.value_counts()[df.refNum.value_counts()>=22].index\n",
    "display(Markdown('% of referees who has at least 22 dyads = {:%}'.format(len(refNum22) / len(df.refNum.unique()))))\n",
    "display(Markdown('% of dyads with referees who has at least 22 dyads = {:%}'.format(df.refNum.isin(refNum22).sum() / len(df.refNum))))\n",
    "\n",
    "display(Markdown('% of red cards issues by referees with at least 22 dyads:'))\n",
    "display(df.redCards[df.refNum.isin(refNum22)].value_counts() / df.redCards.value_counts())\n",
    "\n",
    "display(Markdown(\"**However, if we do not consider referee as a particular feature of the player, then we should not exclude any referee.**\"))\n"
   ]
  },
  {
   "cell_type": "markdown",
   "metadata": {},
   "source": [
    "<font color=green> **COMMENTS:** \n",
    "    Like the solution provided, we have also concluded that referees and the related statistical features are irrelevant for our analysis and therefore they are excluded from the subsquent procedures.\n",
    "    \n",
    "We selected mostly similar features as the solution provided, with the exceptions of yellowCards, as we believed that it might be a relevant feature: a yellow card might be leading to a red card or might deter players from getting a red card [to be investigated].\n",
    "    \n",
    "\n",
    "</font>"
   ]
  },
  {
   "cell_type": "code",
   "execution_count": 37,
   "metadata": {},
   "outputs": [
    {
     "data": {
      "text/plain": [
       "games            0  \n",
       "victories        0  \n",
       "ties             0  \n",
       "defeats          0  \n",
       "goals            0  \n",
       "yellowCards      0  \n",
       "yellowReds       0  \n",
       "redCards         0  \n",
       "rater1           468\n",
       "rater2           468\n",
       "club             0  \n",
       "leagueCountry    0  \n",
       "birthday         0  \n",
       "height           20 \n",
       "weight           80 \n",
       "position         367\n",
       "dtype: int64"
      ]
     },
     "execution_count": 37,
     "metadata": {},
     "output_type": "execute_result"
    }
   ],
   "source": [
    "df_1 = df[['playerShort','games','victories','ties', 'defeats', 'goals', 'yellowCards', 'yellowReds', 'redCards']].groupby(by=\"playerShort\").sum()\n",
    "\n",
    "df_2 = df[['playerShort','rater1', 'rater2','club', 'leagueCountry', 'birthday', 'height', 'weight', 'position',]].groupby(by=\"playerShort\").first()\n",
    "df_ = df_1.join(df_2) #.dropna() #2053 rows × 16 columns --> 1419 rows × 16 columns\n",
    "\n",
    "df_.isna().sum()\n"
   ]
  },
  {
   "cell_type": "markdown",
   "metadata": {},
   "source": [
    "<font color=green> **COMMENTS:** \n",
    "-     Exactly like the solution provided, we grouped our data by 'playerShort' and took the sum of the variable features such as num of games, victories, redCards, etc. while using one-hot coding for the categorical static features.\n",
    "-     In addition, we also just took the simple average of the two skinColor ratings.\n",
    "    \n",
    "\n",
    "</font>"
   ]
  },
  {
   "cell_type": "code",
   "execution_count": 66,
   "metadata": {},
   "outputs": [
    {
     "data": {
      "text/markdown": [
       "**Selecting relevant features and group-by players**"
      ],
      "text/plain": [
       "<IPython.core.display.Markdown object>"
      ]
     },
     "metadata": {},
     "output_type": "display_data"
    },
    {
     "data": {
      "text/html": [
       "<div>\n",
       "<style scoped>\n",
       "    .dataframe tbody tr th:only-of-type {\n",
       "        vertical-align: middle;\n",
       "    }\n",
       "\n",
       "    .dataframe tbody tr th {\n",
       "        vertical-align: top;\n",
       "    }\n",
       "\n",
       "    .dataframe thead th {\n",
       "        text-align: right;\n",
       "    }\n",
       "</style>\n",
       "<table border=\"1\" class=\"dataframe\">\n",
       "  <thead>\n",
       "    <tr style=\"text-align: right;\">\n",
       "      <th></th>\n",
       "      <th>games</th>\n",
       "      <th>victories</th>\n",
       "      <th>ties</th>\n",
       "      <th>defeats</th>\n",
       "      <th>goals</th>\n",
       "      <th>yellowCards</th>\n",
       "      <th>yellowReds</th>\n",
       "      <th>redCards</th>\n",
       "      <th>rater1</th>\n",
       "      <th>rater2</th>\n",
       "      <th>club</th>\n",
       "      <th>leagueCountry</th>\n",
       "      <th>birthday</th>\n",
       "      <th>height</th>\n",
       "      <th>weight</th>\n",
       "      <th>position</th>\n",
       "    </tr>\n",
       "    <tr>\n",
       "      <th>playerShort</th>\n",
       "      <th></th>\n",
       "      <th></th>\n",
       "      <th></th>\n",
       "      <th></th>\n",
       "      <th></th>\n",
       "      <th></th>\n",
       "      <th></th>\n",
       "      <th></th>\n",
       "      <th></th>\n",
       "      <th></th>\n",
       "      <th></th>\n",
       "      <th></th>\n",
       "      <th></th>\n",
       "      <th></th>\n",
       "      <th></th>\n",
       "      <th></th>\n",
       "    </tr>\n",
       "  </thead>\n",
       "  <tbody>\n",
       "    <tr>\n",
       "      <th>aaron-hughes</th>\n",
       "      <td>654</td>\n",
       "      <td>247</td>\n",
       "      <td>179</td>\n",
       "      <td>228</td>\n",
       "      <td>9</td>\n",
       "      <td>19</td>\n",
       "      <td>0</td>\n",
       "      <td>0</td>\n",
       "      <td>0.25</td>\n",
       "      <td>0.00</td>\n",
       "      <td>Fulham FC</td>\n",
       "      <td>England</td>\n",
       "      <td>08.11.1979</td>\n",
       "      <td>182.0</td>\n",
       "      <td>71.0</td>\n",
       "      <td>Center Back</td>\n",
       "    </tr>\n",
       "    <tr>\n",
       "      <th>aaron-hunt</th>\n",
       "      <td>336</td>\n",
       "      <td>141</td>\n",
       "      <td>73</td>\n",
       "      <td>122</td>\n",
       "      <td>62</td>\n",
       "      <td>42</td>\n",
       "      <td>0</td>\n",
       "      <td>1</td>\n",
       "      <td>0.00</td>\n",
       "      <td>0.25</td>\n",
       "      <td>Werder Bremen</td>\n",
       "      <td>Germany</td>\n",
       "      <td>04.09.1986</td>\n",
       "      <td>183.0</td>\n",
       "      <td>73.0</td>\n",
       "      <td>Attacking Midfielder</td>\n",
       "    </tr>\n",
       "    <tr>\n",
       "      <th>aaron-lennon</th>\n",
       "      <td>412</td>\n",
       "      <td>200</td>\n",
       "      <td>97</td>\n",
       "      <td>115</td>\n",
       "      <td>31</td>\n",
       "      <td>11</td>\n",
       "      <td>0</td>\n",
       "      <td>0</td>\n",
       "      <td>0.25</td>\n",
       "      <td>0.25</td>\n",
       "      <td>Tottenham Hotspur</td>\n",
       "      <td>England</td>\n",
       "      <td>16.04.1987</td>\n",
       "      <td>165.0</td>\n",
       "      <td>63.0</td>\n",
       "      <td>Right Midfielder</td>\n",
       "    </tr>\n",
       "  </tbody>\n",
       "</table>\n",
       "</div>"
      ],
      "text/plain": [
       "              games  victories  ties  defeats  goals  yellowCards  yellowReds  redCards  rater1  rater2               club leagueCountry    birthday  height  weight              position\n",
       "playerShort                                                                                                                                                                               \n",
       "aaron-hughes  654    247        179   228      9      19           0           0         0.25    0.00    Fulham FC          England       08.11.1979  182.0   71.0    Center Back         \n",
       "aaron-hunt    336    141        73    122      62     42           0           1         0.00    0.25    Werder Bremen      Germany       04.09.1986  183.0   73.0    Attacking Midfielder\n",
       "aaron-lennon  412    200        97    115      31     11           0           0         0.25    0.25    Tottenham Hotspur  England       16.04.1987  165.0   63.0    Right Midfielder    "
      ]
     },
     "metadata": {},
     "output_type": "display_data"
    },
    {
     "data": {
      "text/markdown": [
       "**Overview of missing data after grouping by players**"
      ],
      "text/plain": [
       "<IPython.core.display.Markdown object>"
      ]
     },
     "metadata": {},
     "output_type": "display_data"
    },
    {
     "data": {
      "text/plain": [
       "games            0  \n",
       "victories        0  \n",
       "ties             0  \n",
       "defeats          0  \n",
       "goals            0  \n",
       "yellowCards      0  \n",
       "yellowReds       0  \n",
       "redCards         0  \n",
       "rater1           468\n",
       "rater2           468\n",
       "club             0  \n",
       "leagueCountry    0  \n",
       "birthday         0  \n",
       "height           20 \n",
       "weight           80 \n",
       "position         367\n",
       "dtype: int64"
      ]
     },
     "metadata": {},
     "output_type": "display_data"
    },
    {
     "data": {
      "text/markdown": [
       "num of players with missing photos (removed) = 468 (22.8% of unique players) "
      ],
      "text/plain": [
       "<IPython.core.display.Markdown object>"
      ]
     },
     "metadata": {},
     "output_type": "display_data"
    },
    {
     "data": {
      "text/markdown": [
       "**Overview after removing all #NaN**"
      ],
      "text/plain": [
       "<IPython.core.display.Markdown object>"
      ]
     },
     "metadata": {},
     "output_type": "display_data"
    },
    {
     "data": {
      "text/markdown": [
       "num of unique players: 1419 (69.1% of total 2053)"
      ],
      "text/plain": [
       "<IPython.core.display.Markdown object>"
      ]
     },
     "metadata": {},
     "output_type": "display_data"
    },
    {
     "data": {
      "text/markdown": [
       "num of clubs: 92 (78.0% of total 118)"
      ],
      "text/plain": [
       "<IPython.core.display.Markdown object>"
      ]
     },
     "metadata": {},
     "output_type": "display_data"
    },
    {
     "data": {
      "text/markdown": [
       "league countries: ['England' 'Germany' 'France' 'Spain'] (100.0% of total 4)"
      ],
      "text/plain": [
       "<IPython.core.display.Markdown object>"
      ]
     },
     "metadata": {},
     "output_type": "display_data"
    },
    {
     "data": {
      "text/markdown": [
       "num of positions: 12 ['Center Back' 'Attacking Midfielder' 'Right Midfielder'\n",
       " 'Center Midfielder' 'Goalkeeper' 'Defensive Midfielder' 'Left Fullback'\n",
       " 'Left Midfielder' 'Right Fullback' 'Center Forward' 'Left Winger'\n",
       " 'Right Winger']"
      ],
      "text/plain": [
       "<IPython.core.display.Markdown object>"
      ]
     },
     "metadata": {},
     "output_type": "display_data"
    },
    {
     "data": {
      "text/markdown": [
       "position excluded from original dataset:"
      ],
      "text/plain": [
       "<IPython.core.display.Markdown object>"
      ]
     },
     "metadata": {},
     "output_type": "display_data"
    },
    {
     "name": "stdout",
     "output_type": "stream",
     "text": [
      "nan\n"
     ]
    },
    {
     "data": {
      "image/png": "[encoded data removed]",
      "text/plain": [
       "<Figure size 720x360 with 1 Axes>"
      ]
     },
     "metadata": {
      "needs_background": "light"
     },
     "output_type": "display_data"
    }
   ],
   "source": [
    "# Preprocessing: removing NAN and keeping only revelant features\n",
    "\n",
    "relevant_features = ['playerShort', 'club', 'leagueCountry', 'birthday', 'height', 'weight', 'position', \n",
    "                     'games', 'victories', 'ties', 'defeats', 'goals', 'yellowCards', 'yellowReds', 'redCards', 'rater1', 'rater2']\n",
    "\n",
    "#df1 = df[relevant_features][df.refNum.isin(refNum22)].dropna().drop_duplicates() #len(df1) #146028 --dropna #115603 -- drop_duplicates #115603\n",
    "#df1 = df[relevant_features].dropna().drop_duplicates()\n",
    "\n",
    "df1 = df[['playerShort','games','victories','ties', 'defeats', 'goals', 'yellowCards', 'yellowReds', 'redCards']].groupby(by=\"playerShort\").sum()\n",
    "df1 = df1.join(df[['playerShort','rater1', 'rater2','club', 'leagueCountry', 'birthday', 'height', 'weight', 'position',]].groupby(by=\"playerShort\").first())\n",
    "display(Markdown('**Selecting relevant features and group-by players**'))\n",
    "display(df1.head(3))\n",
    "display(Markdown('**Overview of missing data after grouping by players**'))\n",
    "display(df1.isna().sum())\n",
    "display(Markdown(\"num of players with missing photos (removed) = {} ({:.1%} of unique players) \".format(len(df['playerShort'][df.photoID.isna()].unique()),len(df['playerShort'][df.photoID.isna()].unique())/len(df['playerShort'].unique()))))\n",
    "\n",
    "df1 = df1.dropna()\n",
    "\n",
    "display(Markdown('**Overview after removing all #NaN**'))\n",
    "#display(Markdown(\"num of referees: {} ({:%} of total)\".format(len(df1.refNum.value_counts()), len(df1.refNum.unique())/len(df.refNum.unique())))) #2904\n",
    "#display(Markdown(\"num of referee countries: {}\".format(len(df1.refCountry.unique()))))\n",
    "#display(Markdown(\"num of dyads: {} ({:%} of total)\".format(len(df1), len(df1)/len(df))))\n",
    "\n",
    "display(Markdown('num of unique players: {} ({:.1%} of total {})'.format(len(df1),len(df1)/df.playerShort.unique().size,df.playerShort.unique().size))) #1406\n",
    "\n",
    "display(Markdown('num of clubs: {} ({:.1%} of total {})'.format(len(df1.club.value_counts()),len(df1.club.unique())/len(df.club.unique()),len(df.club.unique())))) #92 unique clubs\n",
    "display(Markdown('league countries: {} ({:.1%} of total {})'.format(df1.leagueCountry.unique(),len(df1.leagueCountry.unique())/len(df.leagueCountry.unique()),len(df.leagueCountry.unique())))) #array(['Spain', 'France', 'England', 'Germany'], dtype=object)\n",
    "display(Markdown(\"num of positions: {} {}\".format(len(df1.position.unique()),df1.position.unique())))\n",
    "display(Markdown(\"position excluded from original dataset:\"))\n",
    "for x in df.position.unique():\n",
    "    if x not in df1.position.unique():\n",
    "        print(x)\n",
    "\n",
    "counts = np.arange(16)\n",
    "plt.figure(figsize=(10,5))\n",
    "plt.hist(df1.redCards,bins=counts,color='red')\n",
    "plt.title(\"Histogram of redCards distribution amongst players\")\n",
    "plt.xlabel('Num of red cards')\n",
    "plt.ylabel('Num of players')\n",
    "plt.xticks(ticks = counts+0.5, labels = counts);"
   ]
  },
  {
   "cell_type": "code",
   "execution_count": 67,
   "metadata": {},
   "outputs": [
    {
     "data": {
      "text/markdown": [
       "**Discrepency of skin tone ratings**"
      ],
      "text/plain": [
       "<IPython.core.display.Markdown object>"
      ]
     },
     "metadata": {},
     "output_type": "display_data"
    },
    {
     "data": {
      "text/plain": [
       "Text(0.5, 1.0, 'Delta (rater2 - rater1)')"
      ]
     },
     "execution_count": 67,
     "metadata": {},
     "output_type": "execute_result"
    },
    {
     "data": {
      "image/png": "[encoded data removed]",
      "text/plain": [
       "<Figure size 1440x432 with 2 Axes>"
      ]
     },
     "metadata": {
      "needs_background": "light"
     },
     "output_type": "display_data"
    }
   ],
   "source": [
    "display(Markdown(\"**Discrepency of skin tone ratings**\"))\n",
    "\n",
    "df2 = df1[['rater1','rater2']].sort_values(by=['rater1'])\n",
    "\n",
    "fig, ax = plt.subplots(2,1,sharex=True,figsize=(20,6),tight_layout = True)\n",
    "\n",
    "ax[0].bar(x=np.arange(len(df2))+0.4, height=df2.rater2,color='orange',label='rater2')\n",
    "ax[0].bar(x=np.arange(len(df2))-0.4, height=df2.rater1,color='blue',label='rater1')\n",
    "ax[0].legend()\n",
    "ax[0].set_title('Skintone Ratings by rater1 and rater2')\n",
    "\n",
    "ax[1].bar(x=np.arange(len(df2))-0.4, height=df2.rater2-df2.rater1,color='green',label='rater2-rater1')\n",
    "ax[1].legend()\n",
    "ax[1].set_title(\"Delta (rater2 - rater1)\")"
   ]
  },
  {
   "cell_type": "code",
   "execution_count": 186,
   "metadata": {},
   "outputs": [
    {
     "name": "stdout",
     "output_type": "stream",
     "text": [
      "player: (1419,)\n",
      "redCards:(1419,)\n",
      "features:(1419, 132)\n"
     ]
    }
   ],
   "source": [
    "# Preprocessing: Adding new features: age (as of 2013.01.01) and BMI \n",
    "\n",
    "import datetime\n",
    "dateRef = datetime.datetime(2013,1,1)\n",
    "year = datetime.timedelta(days=365)\n",
    "df1['age_2013'] = (dateRef - pd.to_datetime(df1.birthday))/year\n",
    "df1['BMI'] = df1.weight / np.square(df1.height/100)\n",
    "df1['skinTone'] = (df1.rater1+df1.rater2)/2 \n",
    "\n",
    "['height', 'weight','games', 'victories', 'ties', 'defeats', 'goals']\n",
    "\n",
    "\n",
    "# Preprocessing: normalize data\n",
    "\n",
    "df1[['age_n','BMI_n','skinTone_n','height_n', 'weight_n','games_n', 'victories_n', 'ties_n', 'defeats_n', 'goals_n']] = df1[['age_2013','BMI','skinTone','height', 'weight','games', 'victories', 'ties', 'defeats', 'goals']].apply(lambda x: (x.max()-x)/(x.max()-x.min()), axis=0)\n",
    "\n",
    "#df1.skinTone =  df1.skinTone - df1.skinTone.mean()\n",
    "#df1.age_2013 = df1.age_2013 - df1.age_2013.mean()\n",
    "#df1.height = df1.height - df1.height.mean()\n",
    "#df1.weight = df1.weight - df1.weight.mean()\n",
    "#df1.BMI = df1.BMI - df1.BMI.mean()\n",
    "#df1.games= df1.games = df1.game.mean()\n",
    "\n",
    "# Preprocessing: One-hot encodeing for all categorical features\n",
    "\n",
    "leagueCountry = pd.get_dummies(df1[\"leagueCountry\"],prefix='country')\n",
    "leagueCountry.index=df1.index #playerShort\n",
    "\n",
    "club = pd.get_dummies(df1['club'],prefix='club')\n",
    "club.index=df1.index #playerShort\n",
    "\n",
    "position = pd.get_dummies(df1['position'], prefix='position')\n",
    "position.index=df1.index #playerShort\n",
    "\n",
    "\n",
    "# Combining into new dataframe\n",
    "df2 = df1.join([leagueCountry, club, position])\n",
    "\n",
    "redCards = (df2.redCards/df2.games) # Yi = Ni,red/Ni,\n",
    "redCards_normalized = (redCards-redCards.min())/(redCards.max()-redCards.min())\n",
    "players = df2.index\n",
    "features = df2.drop(columns=['redCards','birthday','club','leagueCountry','position'])\n",
    "\n",
    "print(f\"player: {players.shape}\")\n",
    "print(f\"redCards:{redCards_normalized.shape}\")\n",
    "print(f\"features:{features.shape}\")"
   ]
  },
  {
   "cell_type": "markdown",
   "metadata": {},
   "source": [
    "<font color=green> **COMMENTS:** \n",
    "-     Similar to the solution, We have converted the birthday to age (as of 2013.01.01 rather than 2015 since most of the data were collected before 2013).\n",
    "-     We also normalized data to between 0-1\n",
    "    \n",
    "\n",
    "</font>"
   ]
  },
  {
   "cell_type": "code",
   "execution_count": 194,
   "metadata": {},
   "outputs": [
    {
     "data": {
      "text/plain": [
       "['games',\n",
       " 'victories',\n",
       " 'ties',\n",
       " 'defeats',\n",
       " 'goals',\n",
       " 'yellowCards',\n",
       " 'yellowReds',\n",
       " 'redCards',\n",
       " 'rater1',\n",
       " 'rater2',\n",
       " 'club',\n",
       " 'leagueCountry',\n",
       " 'birthday',\n",
       " 'height',\n",
       " 'weight',\n",
       " 'position',\n",
       " 'age_2013',\n",
       " 'BMI',\n",
       " 'skinTone',\n",
       " 'height_n',\n",
       " 'weight_n',\n",
       " 'games_n',\n",
       " 'victories_n',\n",
       " 'ties_n',\n",
       " 'defeats_n',\n",
       " 'goals_n',\n",
       " 'age_n',\n",
       " 'BMI_n',\n",
       " 'skinTone_n',\n",
       " 'country_England',\n",
       " 'country_France',\n",
       " 'country_Germany',\n",
       " 'country_Spain',\n",
       " 'club_1. FC Nürnberg',\n",
       " 'club_1. FSV Mainz 05',\n",
       " 'club_1899 Hoffenheim',\n",
       " 'club_AC Ajaccio',\n",
       " 'club_AS Nancy',\n",
       " 'club_AS Saint-Étienne',\n",
       " 'club_Arsenal FC',\n",
       " 'club_Arsenal FC (R)',\n",
       " 'club_Aston Villa',\n",
       " 'club_Athletic Bilbao',\n",
       " 'club_Atlético Madrid',\n",
       " 'club_Bayer Leverkusen',\n",
       " 'club_Bayern München',\n",
       " 'club_Blackburn Rovers',\n",
       " 'club_Bolton Wanderers',\n",
       " 'club_Bor. Mönchengladbach',\n",
       " 'club_Borussia Dortmund',\n",
       " 'club_CA Osasuna',\n",
       " 'club_CF Badalona',\n",
       " 'club_Celta Vigo',\n",
       " 'club_Chelsea FC',\n",
       " 'club_Crewe Alexandra',\n",
       " 'club_Deportivo La Coruña',\n",
       " 'club_ESTAC Troyes',\n",
       " 'club_Eintracht Frankfurt',\n",
       " 'club_Espanyol Barcelona',\n",
       " 'club_Everton FC',\n",
       " 'club_FC Augsburg',\n",
       " 'club_FC Barcelona',\n",
       " 'club_FC Lorient',\n",
       " 'club_FC Schalke 04',\n",
       " 'club_FC Sochaux',\n",
       " 'club_Fortuna Düsseldorf',\n",
       " 'club_Fulham FC',\n",
       " 'club_Getafe CF',\n",
       " 'club_Girondins Bordeaux',\n",
       " 'club_Granada CF',\n",
       " 'club_Hamburger SV',\n",
       " 'club_Hannover 96',\n",
       " 'club_Leeds United',\n",
       " 'club_Levante UD',\n",
       " 'club_Lille OSC',\n",
       " 'club_Liverpool FC',\n",
       " 'club_Liverpool FC (R)',\n",
       " 'club_MSV Duisburg',\n",
       " 'club_Manchester City',\n",
       " 'club_Manchester United',\n",
       " 'club_Millwall FC',\n",
       " 'club_Montpellier HSC',\n",
       " 'club_Málaga CF',\n",
       " 'club_Newcastle United',\n",
       " 'club_Norwich City',\n",
       " 'club_Nottingham Forest',\n",
       " 'club_OGC Nice',\n",
       " 'club_Olympique Lyon',\n",
       " 'club_Olympique Marseille',\n",
       " 'club_Paris Saint-Germain',\n",
       " 'club_Queens Park Rangers',\n",
       " 'club_RCD Mallorca',\n",
       " 'club_Rayo Vallecano',\n",
       " 'club_Reading FC',\n",
       " 'club_Real Betis',\n",
       " 'club_Real Madrid',\n",
       " 'club_Real Madrid Castilla',\n",
       " 'club_Real Sociedad',\n",
       " 'club_Real Valladolid',\n",
       " 'club_Real Zaragoza',\n",
       " 'club_SC Bastia',\n",
       " 'club_SC Freiburg',\n",
       " 'club_SD Compostela',\n",
       " 'club_SV Sandhausen',\n",
       " 'club_Sevilla FC',\n",
       " 'club_Southampton FC',\n",
       " 'club_SpVgg Greuther Fürth',\n",
       " 'club_Stade Brest',\n",
       " 'club_Stade Reims',\n",
       " 'club_Stade Rennes',\n",
       " 'club_Stoke City',\n",
       " 'club_Sunderland AFC',\n",
       " 'club_Tottenham Hotspur',\n",
       " 'club_Tottenham Hotspur (R)',\n",
       " 'club_Toulouse FC',\n",
       " 'club_Valencia CF',\n",
       " 'club_Valenciennes FC',\n",
       " 'club_VfB Stuttgart',\n",
       " 'club_VfL Wolfsburg',\n",
       " 'club_Werder Bremen',\n",
       " 'club_West Bromwich Albion',\n",
       " 'club_West Ham United',\n",
       " 'club_Wigan Athletic',\n",
       " 'club_Wolverhampton Wanderers',\n",
       " 'club_Évian Thonon Gaillard',\n",
       " 'position_Attacking Midfielder',\n",
       " 'position_Center Back',\n",
       " 'position_Center Forward',\n",
       " 'position_Center Midfielder',\n",
       " 'position_Defensive Midfielder',\n",
       " 'position_Goalkeeper',\n",
       " 'position_Left Fullback',\n",
       " 'position_Left Midfielder',\n",
       " 'position_Left Winger',\n",
       " 'position_Right Fullback',\n",
       " 'position_Right Midfielder',\n",
       " 'position_Right Winger']"
      ]
     },
     "execution_count": 194,
     "metadata": {},
     "output_type": "execute_result"
    }
   ],
   "source": [
    "df2.columns.to_list()"
   ]
  },
  {
   "cell_type": "code",
   "execution_count": 109,
   "metadata": {},
   "outputs": [
    {
     "data": {
      "text/plain": [
       "(0.0, 1.0)"
      ]
     },
     "execution_count": 109,
     "metadata": {},
     "output_type": "execute_result"
    }
   ],
   "source": [
    "redCards_normalized.min(), redCards_normalized.max()"
   ]
  },
  {
   "cell_type": "markdown",
   "metadata": {},
   "source": []
  },
  {
   "cell_type": "markdown",
   "metadata": {},
   "source": [
    "### 2 Model Creation (8 points)\n",
    "\n",
    "Given features Xi of player i, we want to predict $Y_i = N_{i,red} / N_i$, the fraction of games where the player will receive a red card. We will solve this problem using two model types: linear regression and regression forests.\n",
    "\n",
    "Implement both models and determine their squared test errors by means of cross-validation. Alternatively (or in addition to this will result in bonus points), you can also try to predict $Y_i = p(red | X_i)$ via the posterior of a classification model."
   ]
  },
  {
   "cell_type": "markdown",
   "metadata": {},
   "source": [
    "<font color=green> **COMMENTS:** \n",
    "-     We used the same LinearRegression() model from sklearn lib and the RegressionTree() class as the solution.\n",
    "-     The solution implemented a customized cross validation procedure k_fold_cv(), whereas we just used the cross_val_predict from sklearn lib\n",
    "-     We only managed to run the models on a limited set of features as the training of full set of features took too long to complete - we suspect it is due to the inefficient code implementation    \n",
    "\n",
    "</font>"
   ]
  },
  {
   "cell_type": "code",
   "execution_count": 199,
   "metadata": {},
   "outputs": [
    {
     "data": {
      "image/png": "[encoded data removed]",
      "text/plain": [
       "<Figure size 432x288 with 1 Axes>"
      ]
     },
     "metadata": {
      "needs_background": "light"
     },
     "output_type": "display_data"
    },
    {
     "name": "stdout",
     "output_type": "stream",
     "text": [
      "Linear Regression - features=['skinTone_n', 'age_n', 'BMI_n', 'height_n', 'weight_n', 'games_n', 'goals_n']\n"
     ]
    }
   ],
   "source": [
    "# Linear Regression\n",
    "\n",
    "from sklearn.linear_model import LinearRegression\n",
    "from sklearn.model_selection import cross_val_predict\n",
    "\n",
    "LR_model = LinearRegression()\n",
    "\n",
    "#LR_model.fit(X=features, y =redCards)\n",
    "#LR_MSE = np.square(LR_model.predict(X=features) - redCards).sum()\n",
    "#display(Markdown('Linear Regression MSE score = {:f}'.format(LR_MSE)))\n",
    "\n",
    "#prediction = LR_model.predict(X=features)\n",
    "#plt.plot(prediction-redCards,color='blue',marker='.',linewidth=0)\n",
    "#plt.title(\"Linear Regression - delta between prediction and actual\")\n",
    "#plt.xlabel('player index')\n",
    "#plt.ylabel('$N_{i,red} / N_i$')\n",
    "\n",
    "selected = ['skinTone_n','age_n','BMI_n','height_n','weight_n','games_n','goals_n']\n",
    "\n",
    "predicted = cross_val_predict(LR_model, X = features[selected].to_numpy(), y = redCards_normalized.to_numpy(), cv=10)\n",
    "\n",
    "fig, ax = plt.subplots()\n",
    "ax.scatter(redCards_normalized, predicted) #, edgecolors=(0, 0, 0)\n",
    "ax.plot([redCards_normalized.min(), redCards_normalized.max()], [redCards_normalized.min(), redCards_normalized.max()], 'r--', lw=4)\n",
    "ax.set_xlabel('Groud Truth')\n",
    "ax.set_ylabel('Prediction')\n",
    "ax.set_xlim((redCards_normalized.min(), redCards_normalized.max()))\n",
    "ax.set_ylim((redCards_normalized.min(), redCards_normalized.max()))\n",
    "ax.set_title(\"Linear Regression\")\n",
    "plt.show()\n",
    "\n",
    "print(\"Linear Regression - features={}\".format(selected))"
   ]
  },
  {
   "cell_type": "code",
   "execution_count": 200,
   "metadata": {
    "scrolled": false
   },
   "outputs": [
    {
     "data": {
      "image/png": "[encoded data removed]",
      "text/plain": [
       "<Figure size 432x288 with 1 Axes>"
      ]
     },
     "metadata": {
      "needs_background": "light"
     },
     "output_type": "display_data"
    },
    {
     "name": "stdout",
     "output_type": "stream",
     "text": [
      "Linear Regression - features=['skinTone_n', 'age_n', 'BMI_n', 'height_n', 'weight_n', 'games_n', 'goals_n', 'country_England', 'country_France', 'country_Germany', 'country_Spain', 'position_Attacking Midfielder', 'position_Center Back', 'position_Center Forward', 'position_Center Midfielder', 'position_Defensive Midfielder', 'position_Goalkeeper', 'position_Left Fullback', 'position_Left Midfielder', 'position_Left Winger', 'position_Right Fullback', 'position_Right Midfielder', 'position_Right Winger']\n"
     ]
    }
   ],
   "source": [
    "selected = ['skinTone_n','age_n','BMI_n','height_n','weight_n','games_n','goals_n',\n",
    "            'country_England','country_France','country_Germany','country_Spain',\n",
    "           'position_Attacking Midfielder', 'position_Center Back', 'position_Center Forward', 'position_Center Midfielder','position_Defensive Midfielder', 'position_Goalkeeper', 'position_Left Fullback', 'position_Left Midfielder', 'position_Left Winger', 'position_Right Fullback', 'position_Right Midfielder', 'position_Right Winger']\n",
    "\n",
    "predicted = cross_val_predict(LR_model, X = features[selected].to_numpy(), y = redCards_normalized.to_numpy(), cv=10)\n",
    "\n",
    "fig, ax = plt.subplots()\n",
    "ax.scatter(redCards_normalized, predicted) #, edgecolors=(0, 0, 0)\n",
    "ax.plot([redCards_normalized.min(), redCards_normalized.max()], [redCards_normalized.min(), redCards_normalized.max()], 'r--', lw=4)\n",
    "ax.set_xlabel('Groud Truth')\n",
    "ax.set_ylabel('Prediction')\n",
    "ax.set_xlim((redCards_normalized.min(), redCards_normalized.max()))\n",
    "ax.set_ylim((redCards_normalized.min(), redCards_normalized.max()))\n",
    "ax.set_title(\"Linear Regression\")\n",
    "plt.show()\n",
    "print(\"Linear Regression - features={}\".format(selected))\n"
   ]
  },
  {
   "cell_type": "code",
   "execution_count": null,
   "metadata": {},
   "outputs": [],
   "source": []
  },
  {
   "cell_type": "code",
   "execution_count": 201,
   "metadata": {},
   "outputs": [],
   "source": [
    "# Regression Tree and Regression Forest\n",
    "\n",
    "class Node:\n",
    "    def __init__(self):\n",
    "        pass \n",
    "\n",
    "class Tree:\n",
    "    def __init__(self):\n",
    "        self.root = Node()\n",
    "    \n",
    "    def find_leaf(self, x):\n",
    "        node = self.root\n",
    "        while hasattr(node, \"feature\"): # leaf node has no 'feature' attribute\n",
    "            j = node.feature\n",
    "            if x[j] <= node.threshold:\n",
    "                node = node.left\n",
    "            else:\n",
    "                node = node.right\n",
    "        return node\n",
    "\n",
    "    \n",
    "class RegressionTree(Tree):\n",
    "    \n",
    "    def __init__(self):\n",
    "        super(RegressionTree, self).__init__()\n",
    "        \n",
    "    def train(self, data, labels, n_min=20):\n",
    "        '''\n",
    "        data: the feature matrix for all players\n",
    "        labels: the corresponding ground-truth whether the player has received red card(s)\n",
    "        n_min: termination criterion (don't split if a node contains fewer instances)\n",
    "        '''\n",
    "        N, D = data.shape\n",
    "            \n",
    "        D_try = int(np.sqrt(D))    # how many features to consider for each split decision\n",
    "\n",
    "        # initialize the root node\n",
    "        self.root.data = data\n",
    "        self.root.labels = labels        \n",
    "        stack = [self.root]        # put root in stack\n",
    "        \n",
    "        while len(stack): \n",
    "            node = stack.pop()     # check the last node on the stack\n",
    "            n = node.data.shape[0] # number of instances in present node\n",
    "            # note: when only 1 data point the shape is reduced to 1\n",
    "            #print('>>>>', n,node.data.shape)\n",
    "            \n",
    "            if(n >= n_min and len(node.data.shape)==2): # need to separate node with single datapoint\n",
    "                # Call 'make_decision_split_node()' with 'D_try' randomly selected feature indices. \n",
    "                # This turns 'node' into a split node and returns the two children, which must be placed on the 'stack'.\n",
    "                feature_indices = np.random.permutation(D)[:D_try]\n",
    "                left, right = make_decision_split_node(node, feature_indices)\n",
    "                \n",
    "                # put children in stack\n",
    "                stack.append(left)\n",
    "                stack.append(right)\n",
    "            else:\n",
    "                # Call 'make_decision_leaf_node()' to turn 'node' into a leaf node.\n",
    "                make_decision_leaf_node(node)\n",
    "                \n",
    "                \n",
    "    def predict(self, x): # here x is single data point        \n",
    "        leaf = self.find_leaf(x)\n",
    "        return leaf.response \n",
    "    \n",
    "\n",
    "    \n",
    "def calc_sse(labels):\n",
    "    \"Calculate the sum of squared errors between ground truth and prediction\"\n",
    "    sse = np.square(labels - labels.mean()).sum()\n",
    "    return sse\n",
    "\n",
    "\n",
    "\n",
    "def make_decision_split_node(node, feature_indices):\n",
    "    '''\n",
    "    node: the node to be split\n",
    "    feature_indices: a numpy array of length 'D_try', containing the feature \n",
    "                     indices to be considered in the present split\n",
    "    '''\n",
    "    try:\n",
    "        n, D = node.data.shape\n",
    "    except:\n",
    "        print(node.data.shape, node.data)\n",
    "        print(node.labels)\n",
    "        \n",
    "    # find best feature j (among 'feature_indices') and best threshold t for the split\n",
    "    j_min, t_min = 0, 0\n",
    "    \n",
    "    sse_parent = calc_sse(node.labels)\n",
    "    sse_min = sse_parent\n",
    "    left_min = 0\n",
    "    right_min = [i for i in range(len(node.labels))]\n",
    "    \n",
    "    for j in feature_indices:\n",
    "        # Hint: For each feature considered, first remove duplicate feature values using 'np.unique()'. \n",
    "        # Describe here why this is necessary --> this reduces the computation of looping over all training data to test all the mid-points in-between, where a lot of these pixels are of the same values\n",
    "        data_unique = np.sort(np.unique(node.data[:, j]))\n",
    "        \n",
    "        # Compute candidate thresholds\n",
    "        tj = 0.5*(data_unique[1:]+data_unique[:-1])\n",
    "        \n",
    "        # Illustration: for loop - hint: vectorized version is possible\n",
    "        for t in tj:\n",
    "            left_indices = node.data[:, j] <= t \n",
    "            right_indices = node.data[:, j] > t\n",
    "            \n",
    "            # Compute the sse scores for children\n",
    "            sse_left = calc_sse(node.labels[left_indices])\n",
    "            sse_right = calc_sse(node.labels[right_indices])\n",
    "            \n",
    "            # choose the best threshold with minimize the sum of children's sse scores\n",
    "            if (sse_left + sse_right) < sse_min :\n",
    "                sse_min = sse_left + sse_right\n",
    "                j_min = j\n",
    "                t_min = t\n",
    "                left_min = left_indices\n",
    "                right_min = right_indices\n",
    "        \n",
    "    # create children\n",
    "    left = Node()\n",
    "    right = Node()\n",
    "\n",
    "    # initialize 'left' and 'right' with the data subsets and labels according to the optimal split found above\n",
    "    left.data = node.data[left_min,:] # data in left node\n",
    "    left.labels = node.labels[left_min] # corresponding labels\n",
    "    right.data = node.data[right_min,:]\n",
    "    right.labels = node.labels[right_min]\n",
    "\n",
    "    # turn the current 'node' into a split node (store children and split condition)\n",
    "    node.left = left\n",
    "    node.right = right\n",
    "    node.feature = j_min\n",
    "    node.threshold = t_min\n",
    "\n",
    "    return left, right    \n",
    "\n",
    "\n",
    "\n",
    "def make_decision_leaf_node(node):\n",
    "    '''\n",
    "    node: the node to become a leaf\n",
    "    '''\n",
    "    # compute and store leaf response\n",
    "    node.N = node.labels.size\n",
    "\n",
    "    # The response of leaf bl is the average response of the training instances assigned to this leaf\n",
    "    node.response = node.labels.mean()\n",
    "    \n",
    "\n",
    "\n",
    "class RegressionForest():\n",
    "    \n",
    "    def __init__(self, n_trees):\n",
    "        # create ensemble\n",
    "        self.trees = [RegressionTree() for i in range(n_trees)]\n",
    "        self.n_trees = n_trees\n",
    "    \n",
    "    def train(self, data, labels, n_min=0):\n",
    "        N_total = len(labels)\n",
    "        N_subset = int(0.368*N_total)\n",
    "        for tree in self.trees:\n",
    "            # train each tree, using a bootstrap sample of the data\n",
    "            bootstrap_indices = np.random.permutation(N_total)[:N_subset]\n",
    "            tree.train(data[bootstrap_indices], labels[bootstrap_indices])\n",
    "            \n",
    "    def predict(self, x):\n",
    "        # compute the ensemble prediction\n",
    "        result = np.mean([tree.predict(x) for tree in self.trees], axis=0)\n",
    "        return result "
   ]
  },
  {
   "cell_type": "code",
   "execution_count": 202,
   "metadata": {},
   "outputs": [
    {
     "data": {
      "text/plain": [
       "(1419, 7)"
      ]
     },
     "metadata": {},
     "output_type": "display_data"
    },
    {
     "data": {
      "text/plain": [
       "(1419,)"
      ]
     },
     "metadata": {},
     "output_type": "display_data"
    },
    {
     "data": {
      "text/plain": [
       "'selected features: '"
      ]
     },
     "metadata": {},
     "output_type": "display_data"
    },
    {
     "data": {
      "text/plain": [
       "['skinTone_n', 'age_n', 'BMI_n', 'height_n', 'weight_n', 'games_n', 'goals_n']"
      ]
     },
     "metadata": {},
     "output_type": "display_data"
    },
    {
     "data": {
      "image/png": "[encoded data removed]",
      "text/plain": [
       "<Figure size 432x288 with 1 Axes>"
      ]
     },
     "metadata": {
      "needs_background": "light"
     },
     "output_type": "display_data"
    }
   ],
   "source": [
    "selected = ['skinTone_n','age_n','BMI_n','height_n','weight_n','games_n','goals_n']\n",
    "\n",
    "data = features[selected].to_numpy()\n",
    "labels = redCards_normalized.to_numpy()\n",
    "\n",
    "#display(data.shape, labels.shape)\n",
    "\n",
    "tree = RegressionTree()\n",
    "tree.train(data, labels)\n",
    "\n",
    "predictions = [tree.predict(x) for x in data]\n",
    "\n",
    "fig, ax = plt.subplots()\n",
    "ax.scatter(redCards_normalized, predictions)\n",
    "ax.plot([redCards_normalized.min(), redCards_normalized.max()], [redCards_normalized.min(), redCards_normalized.max()], 'r--', lw=4)\n",
    "ax.set_xlabel('Groud Truth')\n",
    "ax.set_ylabel('Prediction')\n",
    "ax.set_xlim((redCards_normalized.min(), redCards_normalized.max()))\n",
    "ax.set_ylim((redCards_normalized.min(), redCards_normalized.max()))\n",
    "ax.set_title(\"Regression Tree\")\n",
    "\n",
    "display(\"selected features: \", selected)"
   ]
  },
  {
   "cell_type": "code",
   "execution_count": 203,
   "metadata": {},
   "outputs": [
    {
     "ename": "KeyboardInterrupt",
     "evalue": "",
     "output_type": "error",
     "traceback": [
      "\u001b[1;31m---------------------------------------------------------------------------\u001b[0m",
      "\u001b[1;31mKeyboardInterrupt\u001b[0m                         Traceback (most recent call last)",
      "\u001b[1;32m<ipython-input-203-5755c0d00c32>\u001b[0m in \u001b[0;36m<module>\u001b[1;34m\u001b[0m\n\u001b[0;32m     11\u001b[0m \u001b[1;33m\u001b[0m\u001b[0m\n\u001b[0;32m     12\u001b[0m \u001b[0mtree\u001b[0m \u001b[1;33m=\u001b[0m \u001b[0mRegressionTree\u001b[0m\u001b[1;33m(\u001b[0m\u001b[1;33m)\u001b[0m\u001b[1;33m\u001b[0m\u001b[1;33m\u001b[0m\u001b[0m\n\u001b[1;32m---> 13\u001b[1;33m \u001b[0mtree\u001b[0m\u001b[1;33m.\u001b[0m\u001b[0mtrain\u001b[0m\u001b[1;33m(\u001b[0m\u001b[0mdata\u001b[0m\u001b[1;33m,\u001b[0m \u001b[0mlabels\u001b[0m\u001b[1;33m)\u001b[0m\u001b[1;33m\u001b[0m\u001b[1;33m\u001b[0m\u001b[0m\n\u001b[0m\u001b[0;32m     14\u001b[0m \u001b[1;33m\u001b[0m\u001b[0m\n\u001b[0;32m     15\u001b[0m \u001b[0mpredictions\u001b[0m \u001b[1;33m=\u001b[0m \u001b[1;33m[\u001b[0m\u001b[0mtree\u001b[0m\u001b[1;33m.\u001b[0m\u001b[0mpredict\u001b[0m\u001b[1;33m(\u001b[0m\u001b[0mx\u001b[0m\u001b[1;33m)\u001b[0m \u001b[1;32mfor\u001b[0m \u001b[0mx\u001b[0m \u001b[1;32min\u001b[0m \u001b[0mdata\u001b[0m\u001b[1;33m]\u001b[0m\u001b[1;33m\u001b[0m\u001b[1;33m\u001b[0m\u001b[0m\n",
      "\u001b[1;32m<ipython-input-201-b757480c156d>\u001b[0m in \u001b[0;36mtrain\u001b[1;34m(self, data, labels, n_min)\u001b[0m\n\u001b[0;32m     50\u001b[0m                 \u001b[1;31m# This turns 'node' into a split node and returns the two children, which must be placed on the 'stack'.\u001b[0m\u001b[1;33m\u001b[0m\u001b[1;33m\u001b[0m\u001b[1;33m\u001b[0m\u001b[0m\n\u001b[0;32m     51\u001b[0m                 \u001b[0mfeature_indices\u001b[0m \u001b[1;33m=\u001b[0m \u001b[0mnp\u001b[0m\u001b[1;33m.\u001b[0m\u001b[0mrandom\u001b[0m\u001b[1;33m.\u001b[0m\u001b[0mpermutation\u001b[0m\u001b[1;33m(\u001b[0m\u001b[0mD\u001b[0m\u001b[1;33m)\u001b[0m\u001b[1;33m[\u001b[0m\u001b[1;33m:\u001b[0m\u001b[0mD_try\u001b[0m\u001b[1;33m]\u001b[0m\u001b[1;33m\u001b[0m\u001b[1;33m\u001b[0m\u001b[0m\n\u001b[1;32m---> 52\u001b[1;33m                 \u001b[0mleft\u001b[0m\u001b[1;33m,\u001b[0m \u001b[0mright\u001b[0m \u001b[1;33m=\u001b[0m \u001b[0mmake_decision_split_node\u001b[0m\u001b[1;33m(\u001b[0m\u001b[0mnode\u001b[0m\u001b[1;33m,\u001b[0m \u001b[0mfeature_indices\u001b[0m\u001b[1;33m)\u001b[0m\u001b[1;33m\u001b[0m\u001b[1;33m\u001b[0m\u001b[0m\n\u001b[0m\u001b[0;32m     53\u001b[0m \u001b[1;33m\u001b[0m\u001b[0m\n\u001b[0;32m     54\u001b[0m                 \u001b[1;31m# put children in stack\u001b[0m\u001b[1;33m\u001b[0m\u001b[1;33m\u001b[0m\u001b[1;33m\u001b[0m\u001b[0m\n",
      "\u001b[1;32m<ipython-input-201-b757480c156d>\u001b[0m in \u001b[0;36mmake_decision_split_node\u001b[1;34m(node, feature_indices)\u001b[0m\n\u001b[0;32m     96\u001b[0m         \u001b[1;31m# Hint: For each feature considered, first remove duplicate feature values using 'np.unique()'.\u001b[0m\u001b[1;33m\u001b[0m\u001b[1;33m\u001b[0m\u001b[1;33m\u001b[0m\u001b[0m\n\u001b[0;32m     97\u001b[0m         \u001b[1;31m# Describe here why this is necessary --> this reduces the computation of looping over all training data to test all the mid-points in-between, where a lot of these pixels are of the same values\u001b[0m\u001b[1;33m\u001b[0m\u001b[1;33m\u001b[0m\u001b[1;33m\u001b[0m\u001b[0m\n\u001b[1;32m---> 98\u001b[1;33m         \u001b[0mdata_unique\u001b[0m \u001b[1;33m=\u001b[0m \u001b[0mnp\u001b[0m\u001b[1;33m.\u001b[0m\u001b[0msort\u001b[0m\u001b[1;33m(\u001b[0m\u001b[0mnp\u001b[0m\u001b[1;33m.\u001b[0m\u001b[0munique\u001b[0m\u001b[1;33m(\u001b[0m\u001b[0mnode\u001b[0m\u001b[1;33m.\u001b[0m\u001b[0mdata\u001b[0m\u001b[1;33m[\u001b[0m\u001b[1;33m:\u001b[0m\u001b[1;33m,\u001b[0m \u001b[0mj\u001b[0m\u001b[1;33m]\u001b[0m\u001b[1;33m)\u001b[0m\u001b[1;33m)\u001b[0m\u001b[1;33m\u001b[0m\u001b[1;33m\u001b[0m\u001b[0m\n\u001b[0m\u001b[0;32m     99\u001b[0m \u001b[1;33m\u001b[0m\u001b[0m\n\u001b[0;32m    100\u001b[0m         \u001b[1;31m# Compute candidate thresholds\u001b[0m\u001b[1;33m\u001b[0m\u001b[1;33m\u001b[0m\u001b[1;33m\u001b[0m\u001b[0m\n",
      "\u001b[1;32m<__array_function__ internals>\u001b[0m in \u001b[0;36msort\u001b[1;34m(*args, **kwargs)\u001b[0m\n",
      "\u001b[1;32mC:\\ProgramData\\Anaconda3\\lib\\site-packages\\numpy\\core\\fromnumeric.py\u001b[0m in \u001b[0;36msort\u001b[1;34m(a, axis, kind, order)\u001b[0m\n\u001b[0;32m    989\u001b[0m     \u001b[1;32melse\u001b[0m\u001b[1;33m:\u001b[0m\u001b[1;33m\u001b[0m\u001b[1;33m\u001b[0m\u001b[0m\n\u001b[0;32m    990\u001b[0m         \u001b[0ma\u001b[0m \u001b[1;33m=\u001b[0m \u001b[0masanyarray\u001b[0m\u001b[1;33m(\u001b[0m\u001b[0ma\u001b[0m\u001b[1;33m)\u001b[0m\u001b[1;33m.\u001b[0m\u001b[0mcopy\u001b[0m\u001b[1;33m(\u001b[0m\u001b[0morder\u001b[0m\u001b[1;33m=\u001b[0m\u001b[1;34m\"K\"\u001b[0m\u001b[1;33m)\u001b[0m\u001b[1;33m\u001b[0m\u001b[1;33m\u001b[0m\u001b[0m\n\u001b[1;32m--> 991\u001b[1;33m     \u001b[0ma\u001b[0m\u001b[1;33m.\u001b[0m\u001b[0msort\u001b[0m\u001b[1;33m(\u001b[0m\u001b[0maxis\u001b[0m\u001b[1;33m=\u001b[0m\u001b[0maxis\u001b[0m\u001b[1;33m,\u001b[0m \u001b[0mkind\u001b[0m\u001b[1;33m=\u001b[0m\u001b[0mkind\u001b[0m\u001b[1;33m,\u001b[0m \u001b[0morder\u001b[0m\u001b[1;33m=\u001b[0m\u001b[0morder\u001b[0m\u001b[1;33m)\u001b[0m\u001b[1;33m\u001b[0m\u001b[1;33m\u001b[0m\u001b[0m\n\u001b[0m\u001b[0;32m    992\u001b[0m     \u001b[1;32mreturn\u001b[0m \u001b[0ma\u001b[0m\u001b[1;33m\u001b[0m\u001b[1;33m\u001b[0m\u001b[0m\n\u001b[0;32m    993\u001b[0m \u001b[1;33m\u001b[0m\u001b[0m\n",
      "\u001b[1;31mKeyboardInterrupt\u001b[0m: "
     ]
    }
   ],
   "source": [
    "# note: this takes a long time to run... has to interrupt\n",
    "\n",
    "selected = ['skinTone_n','age_n','BMI_n','height_n','weight_n','games_n','goals_n',\n",
    "            'country_England','country_France','country_Germany','country_Spain',\n",
    "           'position_Attacking Midfielder', 'position_Center Back', 'position_Center Forward', 'position_Center Midfielder','position_Defensive Midfielder', 'position_Goalkeeper', 'position_Left Fullback', 'position_Left Midfielder', 'position_Left Winger', 'position_Right Fullback', 'position_Right Midfielder', 'position_Right Winger']\n",
    "\n",
    "data = features[selected].to_numpy()\n",
    "labels = redCards_normalized.to_numpy()\n",
    "\n",
    "#display(data.shape, labels.shape)\n",
    "\n",
    "tree = RegressionTree()\n",
    "tree.train(data, labels)\n",
    "\n",
    "predictions = [tree.predict(x) for x in data]\n",
    "\n",
    "fig, ax = plt.subplots()\n",
    "ax.scatter(redCards_normalized, predictions)\n",
    "ax.plot([redCards_normalized.min(), redCards_normalized.max()], [redCards_normalized.min(), redCards_normalized.max()], 'r--', lw=4)\n",
    "ax.set_xlabel('Groud Truth')\n",
    "ax.set_ylabel('Prediction')\n",
    "ax.set_xlim((redCards_normalized.min(), redCards_normalized.max()))\n",
    "ax.set_ylim((redCards_normalized.min(), redCards_normalized.max()))\n",
    "ax.set_title(\"Regression Tree - more features\")\n",
    "\n",
    "display(\"selected features: \", selected)"
   ]
  },
  {
   "cell_type": "markdown",
   "metadata": {},
   "source": [
    "<font color=green> **COMMENTS:** \n",
    "-     We did not create a dataset class as per the solution suggested - in hindsight, we definitely should, in order to make things more managable for later analysis\n",
    "-     However, we think we did most of the basic preprocessings correctly, such as categorical_to_onehot, birthday_to_age conversions, etc. \n",
    "-     Another mistake we made was to normalized data between 0-1 using min and max values, whereas we should have standardize them using mean and standard deviation instead.\n",
    "    \n",
    "\n",
    "</font>"
   ]
  },
  {
   "cell_type": "code",
   "execution_count": null,
   "metadata": {},
   "outputs": [],
   "source": [
    "# Regression Forest\n",
    "\n",
    "selected = ['skinTone_n','age_n','BMI_n','height_n','weight_n','games_n','goals_n']\n",
    "\n",
    "data = features[selected].to_numpy()\n",
    "labels = redCards_normalized.to_numpy()\n",
    "\n",
    "forest = RegressionForest(n_trees=20)\n",
    "forest.train(data, labels)\n",
    "\n",
    "predictions = [forest.predict(x) for x in data]\n",
    "\n",
    "fig, ax = plt.subplots()\n",
    "ax.scatter(redCards_normalized, predictions)\n",
    "ax.plot([redCards_normalized.min(), redCards_normalized.max()], [redCards_normalized.min(), redCards_normalized.max()], 'r--', lw=4)\n",
    "ax.set_xlabel('Groud Truth')\n",
    "ax.set_ylabel('Prediction')\n",
    "ax.set_xlim((redCards_normalized.min(), redCards_normalized.max()))\n",
    "ax.set_ylim((redCards_normalized.min(), redCards_normalized.max()))\n",
    "ax.set_title(\"Regression Forest\")\n",
    "\n",
    "display(\"selected features: \", selected)"
   ]
  },
  {
   "cell_type": "code",
   "execution_count": null,
   "metadata": {},
   "outputs": [],
   "source": [
    "# Regression Forest\n",
    "\n",
    "selected = ['skinTone_n','age_n','BMI_n','height_n','weight_n','games_n','goals_n',\n",
    "            'country_England','country_France','country_Germany','country_Spain',\n",
    "           'position_Attacking Midfielder', 'position_Center Back', 'position_Center Forward', 'position_Center Midfielder','position_Defensive Midfielder', 'position_Goalkeeper', 'position_Left Fullback', 'position_Left Midfielder', 'position_Left Winger', 'position_Right Fullback', 'position_Right Midfielder', 'position_Right Winger']\n",
    "\n",
    "data = features[selected].to_numpy()\n",
    "labels = redCards_normalized.to_numpy()\n",
    "\n",
    "forest = RegressionForest(n_trees=20)\n",
    "forest.train(data, labels)\n",
    "\n",
    "predictions = [forest.predict(x) for x in data]\n",
    "\n",
    "fig, ax = plt.subplots()\n",
    "ax.scatter(redCards_normalized, predictions)\n",
    "ax.plot([redCards_normalized.min(), redCards_normalized.max()], [redCards_normalized.min(), redCards_normalized.max()], 'r--', lw=4)\n",
    "ax.set_xlabel('Groud Truth')\n",
    "ax.set_ylabel('Prediction')\n",
    "ax.set_xlim((redCards_normalized.min(), redCards_normalized.max()))\n",
    "ax.set_ylim((redCards_normalized.min(), redCards_normalized.max()))\n",
    "ax.set_title(\"Regression Forest\")\n",
    "\n",
    "display(\"selected features: \", selected)"
   ]
  },
  {
   "cell_type": "markdown",
   "metadata": {},
   "source": [
    "### 3 Answering the Research Question (6 points)\n",
    "\n",
    "Now perform a permutation test to answer the research question. To this end, create 19 new training sets where the skin color variable is randomly shuffled among the players. Each dataset uses a different permutation of skin colors, but keeps all other features and the response intact. This ensures that any possible association between skin colors and responses $Y^∗_i$ is destroyed, whereas the marginal skin color distribution gets preserved.\n",
    "\n",
    "Determine the squared errors of the two model types on these new datasets by cross-validation as well. If all 19 datasets exhibit higher test errors than the original unscattered dataset, you can conclude that there is a skin color bias in red card decisions with a p-value of p = 1/20 = 0.05. If so, determine the direction of the bias by comparing the average of the $Y^∗_i$ for light and dark colored players"
   ]
  },
  {
   "cell_type": "markdown",
   "metadata": {},
   "source": [
    "<font color=green> **COMMENTS:** \n",
    "-     We did not manage to complete this part. Solution is duely noted.\n",
    "    \n",
    "\n",
    "</font>"
   ]
  },
  {
   "cell_type": "markdown",
   "metadata": {},
   "source": [
    "### 4 How to lie with statistics (6 points)\n",
    "\n",
    "Play with the data cleaning procedure with the following goal: Find two equally plausible cleaned datasets that give opposite answers to the research question, i.e. one uncovers a skin color bias, and the other does not. If you succeed in finding such datasets, it demonstrates how easy it is in practice to tweak the data in the direction of the desired outcome, and how careful one needs to be conducting statistical research and interpreting published results.\n"
   ]
  },
  {
   "cell_type": "markdown",
   "metadata": {},
   "source": [
    "<font color=green> **COMMENTS:** \n",
    "-     We did not manage to complete this part. Solution is duely noted.\n",
    "    \n",
    "\n",
    "</font>"
   ]
  },
  {
   "cell_type": "markdown",
   "metadata": {},
   "source": [
    "### 5 Alternative hypotheses (6 points)\n",
    "\n",
    "Keep in mind that a statistical analysis like this can only reveal correlations between features and response, but says nothing about the direction of causality (statistical analysis of causality is also possible, but requires more powerful methods and larger datasets). Provide two alternative plausible causal hypotheses, besides the obvious referees discriminate against dark colored players, that might explain a possible correlation. Test your hypotheses with the data at hand."
   ]
  },
  {
   "cell_type": "markdown",
   "metadata": {},
   "source": [
    "<font color=green> **COMMENTS:** \n",
    "-     We did not manage to complete this part. Solution is duely noted.    \n",
    "\n",
    "</font>"
   ]
  }
 ],
 "metadata": {
  "kernelspec": {
   "display_name": "Python 3",
   "language": "python",
   "name": "python3"
  },
  "language_info": {
   "codemirror_mode": {
    "name": "ipython",
    "version": 3
   },
   "file_extension": ".py",
   "mimetype": "text/x-python",
   "name": "python",
   "nbconvert_exporter": "python",
   "pygments_lexer": "ipython3",
   "version": "3.7.9"
  }
 },
 "nbformat": 4,
 "nbformat_minor": 4
}
