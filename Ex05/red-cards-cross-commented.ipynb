{
 "cells": [
  {
   "cell_type": "markdown",
   "metadata": {},
   "source": [
    "# Exercise 4a \n",
    "\n",
    "Maximilian Jalea, Theresa Häberle"
   ]
  },
  {
   "cell_type": "code",
   "execution_count": 1,
   "metadata": {},
   "outputs": [],
   "source": [
    "import pandas as pd                                     # for dealing with csv import\n",
    "import numpy as np                                      # arrays and other matlab like manipulation\n",
    "import os                                               # for joining paths and filenames sensibly"
   ]
  },
  {
   "cell_type": "markdown",
   "metadata": {},
   "source": [
    "## 1. Loading and Cleaning the Data"
   ]
  },
  {
   "cell_type": "code",
   "execution_count": 2,
   "metadata": {},
   "outputs": [
    {
     "name": "stdout",
     "output_type": "stream",
     "text": [
      "(146028, 28)\n"
     ]
    }
   ],
   "source": [
    "filename=os.path.join('data','CrowdstormingDataJuly1st.csv') \n",
    "df = pd.read_csv(filename)\n",
    "print(df.shape)"
   ]
  },
  {
   "cell_type": "markdown",
   "metadata": {},
   "source": [
    "<font color=green> **COMMENTS:**\n",
    "- data file loaded correctly\n",
    "- decision to drop referee and related features is correct\n",
    "- decision to drop birthday disagrees with solution provided\n",
    "- they also dropped a number of relevant features such as position, club, number of victories, ties, etc. unfortunately    \n",
    "</font>"
   ]
  },
  {
   "cell_type": "markdown",
   "metadata": {},
   "source": [
    "We decide to drop the following features that we deem irrelevant for our analysis or redundant, e.g.: \n",
    "- The birthday is irrelevant since games from the whole career of each player is contained in the data and we don't know the dates of each game, and hence cannot compute the age of the time of the game.\n",
    "- Almost all data describing the referees can be dropped\n",
    "- The IAT and Exp values describing the racial bias in the referee countries can be dropped since taking those into the account would go beyond the scope of this exercise"
   ]
  },
  {
   "cell_type": "code",
   "execution_count": 3,
   "metadata": {},
   "outputs": [],
   "source": [
    "df = df.drop(['player', 'club', 'birthday', 'position', 'victories', 'ties', 'defeats', 'photoID', 'refCountry', 'Alpha_3', 'meanIAT', 'nIAT', 'seIAT', 'meanExp', 'nExp', 'seExp'], axis=1)"
   ]
  },
  {
   "cell_type": "markdown",
   "metadata": {},
   "source": [
    "Rows with missing skin color ratings (about 15% of all rows) will be deleted:"
   ]
  },
  {
   "cell_type": "code",
   "execution_count": 4,
   "metadata": {},
   "outputs": [
    {
     "name": "stdout",
     "output_type": "stream",
     "text": [
      "(124621, 12)\n"
     ]
    }
   ],
   "source": [
    "df = df.dropna(subset=['rater1', 'rater2'])\n",
    "print(df.shape)"
   ]
  },
  {
   "cell_type": "markdown",
   "metadata": {},
   "source": [
    "We only keep a single skin color rating value as the mean of the 2 ratings."
   ]
  },
  {
   "cell_type": "code",
   "execution_count": 5,
   "metadata": {},
   "outputs": [],
   "source": [
    "df.insert(10, 'rating', df[['rater1', 'rater2']].mean(axis=1))\n",
    "df = df.drop(['rater1', 'rater2'], axis=1)"
   ]
  },
  {
   "cell_type": "markdown",
   "metadata": {},
   "source": [
    "<font color=green> **COMMENTS:**\n",
    "- remove nan data from skin color is done correctly\n",
    "- Also correct to take the average of two ratings to represent skin tone.    \n",
    "</font>"
   ]
  },
  {
   "cell_type": "markdown",
   "metadata": {},
   "source": [
    "Referees with 21 or less interactions are probably not working for one of the major leagues, but were included in the dataset for some game in the early career of some player. Therefore, we deem them irrelevant for our analysis and remove them from the dataset. There are now about 76% of the original rows left.\n",
    "\n",
    "After that, we can drop the refNum column."
   ]
  },
  {
   "cell_type": "code",
   "execution_count": 6,
   "metadata": {},
   "outputs": [],
   "source": [
    "allRefs = df.refNum.value_counts()\n",
    "goodRefs = allRefs[allRefs>21]\n",
    "df = df[~df['refNum'].isin(goodRefs)]\n",
    "\n",
    "df = df.drop(['refNum'], axis=1)"
   ]
  },
  {
   "cell_type": "code",
   "execution_count": 7,
   "metadata": {},
   "outputs": [
    {
     "data": {
      "text/html": [
       "<div>\n",
       "<style scoped>\n",
       "    .dataframe tbody tr th:only-of-type {\n",
       "        vertical-align: middle;\n",
       "    }\n",
       "\n",
       "    .dataframe tbody tr th {\n",
       "        vertical-align: top;\n",
       "    }\n",
       "\n",
       "    .dataframe thead th {\n",
       "        text-align: right;\n",
       "    }\n",
       "</style>\n",
       "<table border=\"1\" class=\"dataframe\">\n",
       "  <thead>\n",
       "    <tr style=\"text-align: right;\">\n",
       "      <th></th>\n",
       "      <th>playerShort</th>\n",
       "      <th>height</th>\n",
       "      <th>weight</th>\n",
       "      <th>rating</th>\n",
       "      <th>leagueCountry</th>\n",
       "      <th>games</th>\n",
       "      <th>goals</th>\n",
       "      <th>yellowCards</th>\n",
       "      <th>yellowReds</th>\n",
       "      <th>redCards</th>\n",
       "    </tr>\n",
       "  </thead>\n",
       "  <tbody>\n",
       "    <tr>\n",
       "      <th>0</th>\n",
       "      <td>aaron-hughes</td>\n",
       "      <td>182.0</td>\n",
       "      <td>71.0</td>\n",
       "      <td>0.125</td>\n",
       "      <td>England</td>\n",
       "      <td>575</td>\n",
       "      <td>8</td>\n",
       "      <td>14</td>\n",
       "      <td>0</td>\n",
       "      <td>0</td>\n",
       "    </tr>\n",
       "    <tr>\n",
       "      <th>1</th>\n",
       "      <td>aaron-hunt</td>\n",
       "      <td>183.0</td>\n",
       "      <td>73.0</td>\n",
       "      <td>0.125</td>\n",
       "      <td>Germany</td>\n",
       "      <td>326</td>\n",
       "      <td>60</td>\n",
       "      <td>41</td>\n",
       "      <td>0</td>\n",
       "      <td>1</td>\n",
       "    </tr>\n",
       "    <tr>\n",
       "      <th>2</th>\n",
       "      <td>aaron-lennon</td>\n",
       "      <td>165.0</td>\n",
       "      <td>63.0</td>\n",
       "      <td>0.250</td>\n",
       "      <td>England</td>\n",
       "      <td>353</td>\n",
       "      <td>30</td>\n",
       "      <td>9</td>\n",
       "      <td>0</td>\n",
       "      <td>0</td>\n",
       "    </tr>\n",
       "    <tr>\n",
       "      <th>3</th>\n",
       "      <td>aaron-ramsey</td>\n",
       "      <td>178.0</td>\n",
       "      <td>76.0</td>\n",
       "      <td>0.000</td>\n",
       "      <td>England</td>\n",
       "      <td>218</td>\n",
       "      <td>30</td>\n",
       "      <td>26</td>\n",
       "      <td>0</td>\n",
       "      <td>0</td>\n",
       "    </tr>\n",
       "    <tr>\n",
       "      <th>4</th>\n",
       "      <td>abdelhamid-el-kaoutari</td>\n",
       "      <td>180.0</td>\n",
       "      <td>73.0</td>\n",
       "      <td>0.250</td>\n",
       "      <td>France</td>\n",
       "      <td>107</td>\n",
       "      <td>1</td>\n",
       "      <td>7</td>\n",
       "      <td>4</td>\n",
       "      <td>2</td>\n",
       "    </tr>\n",
       "    <tr>\n",
       "      <th>...</th>\n",
       "      <td>...</td>\n",
       "      <td>...</td>\n",
       "      <td>...</td>\n",
       "      <td>...</td>\n",
       "      <td>...</td>\n",
       "      <td>...</td>\n",
       "      <td>...</td>\n",
       "      <td>...</td>\n",
       "      <td>...</td>\n",
       "      <td>...</td>\n",
       "    </tr>\n",
       "    <tr>\n",
       "      <th>1559</th>\n",
       "      <td>zoltan-gera</td>\n",
       "      <td>181.0</td>\n",
       "      <td>76.0</td>\n",
       "      <td>0.250</td>\n",
       "      <td>England</td>\n",
       "      <td>345</td>\n",
       "      <td>64</td>\n",
       "      <td>41</td>\n",
       "      <td>1</td>\n",
       "      <td>1</td>\n",
       "    </tr>\n",
       "    <tr>\n",
       "      <th>1560</th>\n",
       "      <td>zoltan-stieber</td>\n",
       "      <td>175.0</td>\n",
       "      <td>67.0</td>\n",
       "      <td>0.000</td>\n",
       "      <td>Germany</td>\n",
       "      <td>133</td>\n",
       "      <td>24</td>\n",
       "      <td>12</td>\n",
       "      <td>0</td>\n",
       "      <td>0</td>\n",
       "    </tr>\n",
       "    <tr>\n",
       "      <th>1561</th>\n",
       "      <td>zoumana-camara</td>\n",
       "      <td>182.0</td>\n",
       "      <td>76.0</td>\n",
       "      <td>0.875</td>\n",
       "      <td>France</td>\n",
       "      <td>354</td>\n",
       "      <td>7</td>\n",
       "      <td>42</td>\n",
       "      <td>2</td>\n",
       "      <td>5</td>\n",
       "    </tr>\n",
       "    <tr>\n",
       "      <th>1562</th>\n",
       "      <td>zubikarai</td>\n",
       "      <td>185.0</td>\n",
       "      <td>84.0</td>\n",
       "      <td>0.000</td>\n",
       "      <td>Spain</td>\n",
       "      <td>35</td>\n",
       "      <td>0</td>\n",
       "      <td>2</td>\n",
       "      <td>0</td>\n",
       "      <td>1</td>\n",
       "    </tr>\n",
       "    <tr>\n",
       "      <th>1563</th>\n",
       "      <td>zurutuza</td>\n",
       "      <td>186.0</td>\n",
       "      <td>78.0</td>\n",
       "      <td>0.000</td>\n",
       "      <td>Spain</td>\n",
       "      <td>116</td>\n",
       "      <td>7</td>\n",
       "      <td>19</td>\n",
       "      <td>0</td>\n",
       "      <td>0</td>\n",
       "    </tr>\n",
       "  </tbody>\n",
       "</table>\n",
       "<p>1564 rows × 10 columns</p>\n",
       "</div>"
      ],
      "text/plain": [
       "                 playerShort  height  weight  rating leagueCountry  games  \\\n",
       "0               aaron-hughes   182.0    71.0   0.125       England    575   \n",
       "1                 aaron-hunt   183.0    73.0   0.125       Germany    326   \n",
       "2               aaron-lennon   165.0    63.0   0.250       England    353   \n",
       "3               aaron-ramsey   178.0    76.0   0.000       England    218   \n",
       "4     abdelhamid-el-kaoutari   180.0    73.0   0.250        France    107   \n",
       "...                      ...     ...     ...     ...           ...    ...   \n",
       "1559             zoltan-gera   181.0    76.0   0.250       England    345   \n",
       "1560          zoltan-stieber   175.0    67.0   0.000       Germany    133   \n",
       "1561          zoumana-camara   182.0    76.0   0.875        France    354   \n",
       "1562               zubikarai   185.0    84.0   0.000         Spain     35   \n",
       "1563                zurutuza   186.0    78.0   0.000         Spain    116   \n",
       "\n",
       "      goals  yellowCards  yellowReds  redCards  \n",
       "0         8           14           0         0  \n",
       "1        60           41           0         1  \n",
       "2        30            9           0         0  \n",
       "3        30           26           0         0  \n",
       "4         1            7           4         2  \n",
       "...     ...          ...         ...       ...  \n",
       "1559     64           41           1         1  \n",
       "1560     24           12           0         0  \n",
       "1561      7           42           2         5  \n",
       "1562      0            2           0         1  \n",
       "1563      7           19           0         0  \n",
       "\n",
       "[1564 rows x 10 columns]"
      ]
     },
     "execution_count": 7,
     "metadata": {},
     "output_type": "execute_result"
    }
   ],
   "source": [
    "df = df.groupby(['playerShort', 'height', 'weight', 'rating', 'leagueCountry']).sum()\n",
    "df = df.reset_index()"
   ]
  },
  {
   "cell_type": "markdown",
   "metadata": {},
   "source": [
    "As proposed in the exercise, the categorial feature 'leagueCountry', which describes the league of each player in the 2012/13 season, is one-hot-encoded."
   ]
  },
  {
   "cell_type": "code",
   "execution_count": 8,
   "metadata": {},
   "outputs": [],
   "source": [
    "df = pd.concat([df.drop('leagueCountry', axis=1), pd.get_dummies(df['leagueCountry'], prefix='league_')], axis=1)"
   ]
  },
  {
   "cell_type": "code",
   "execution_count": 9,
   "metadata": {},
   "outputs": [
    {
     "data": {
      "text/html": [
       "<div>\n",
       "<style scoped>\n",
       "    .dataframe tbody tr th:only-of-type {\n",
       "        vertical-align: middle;\n",
       "    }\n",
       "\n",
       "    .dataframe tbody tr th {\n",
       "        vertical-align: top;\n",
       "    }\n",
       "\n",
       "    .dataframe thead th {\n",
       "        text-align: right;\n",
       "    }\n",
       "</style>\n",
       "<table border=\"1\" class=\"dataframe\">\n",
       "  <thead>\n",
       "    <tr style=\"text-align: right;\">\n",
       "      <th></th>\n",
       "      <th>playerShort</th>\n",
       "      <th>height</th>\n",
       "      <th>weight</th>\n",
       "      <th>rating</th>\n",
       "      <th>games</th>\n",
       "      <th>goals</th>\n",
       "      <th>yellowCards</th>\n",
       "      <th>yellowReds</th>\n",
       "      <th>redCards</th>\n",
       "      <th>league__England</th>\n",
       "      <th>league__France</th>\n",
       "      <th>league__Germany</th>\n",
       "      <th>league__Spain</th>\n",
       "    </tr>\n",
       "  </thead>\n",
       "  <tbody>\n",
       "    <tr>\n",
       "      <th>0</th>\n",
       "      <td>aaron-hughes</td>\n",
       "      <td>182.0</td>\n",
       "      <td>71.0</td>\n",
       "      <td>0.125</td>\n",
       "      <td>575</td>\n",
       "      <td>8</td>\n",
       "      <td>14</td>\n",
       "      <td>0</td>\n",
       "      <td>0</td>\n",
       "      <td>1</td>\n",
       "      <td>0</td>\n",
       "      <td>0</td>\n",
       "      <td>0</td>\n",
       "    </tr>\n",
       "    <tr>\n",
       "      <th>1</th>\n",
       "      <td>aaron-hunt</td>\n",
       "      <td>183.0</td>\n",
       "      <td>73.0</td>\n",
       "      <td>0.125</td>\n",
       "      <td>326</td>\n",
       "      <td>60</td>\n",
       "      <td>41</td>\n",
       "      <td>0</td>\n",
       "      <td>1</td>\n",
       "      <td>0</td>\n",
       "      <td>0</td>\n",
       "      <td>1</td>\n",
       "      <td>0</td>\n",
       "    </tr>\n",
       "    <tr>\n",
       "      <th>2</th>\n",
       "      <td>aaron-lennon</td>\n",
       "      <td>165.0</td>\n",
       "      <td>63.0</td>\n",
       "      <td>0.250</td>\n",
       "      <td>353</td>\n",
       "      <td>30</td>\n",
       "      <td>9</td>\n",
       "      <td>0</td>\n",
       "      <td>0</td>\n",
       "      <td>1</td>\n",
       "      <td>0</td>\n",
       "      <td>0</td>\n",
       "      <td>0</td>\n",
       "    </tr>\n",
       "    <tr>\n",
       "      <th>3</th>\n",
       "      <td>aaron-ramsey</td>\n",
       "      <td>178.0</td>\n",
       "      <td>76.0</td>\n",
       "      <td>0.000</td>\n",
       "      <td>218</td>\n",
       "      <td>30</td>\n",
       "      <td>26</td>\n",
       "      <td>0</td>\n",
       "      <td>0</td>\n",
       "      <td>1</td>\n",
       "      <td>0</td>\n",
       "      <td>0</td>\n",
       "      <td>0</td>\n",
       "    </tr>\n",
       "    <tr>\n",
       "      <th>4</th>\n",
       "      <td>abdelhamid-el-kaoutari</td>\n",
       "      <td>180.0</td>\n",
       "      <td>73.0</td>\n",
       "      <td>0.250</td>\n",
       "      <td>107</td>\n",
       "      <td>1</td>\n",
       "      <td>7</td>\n",
       "      <td>4</td>\n",
       "      <td>2</td>\n",
       "      <td>0</td>\n",
       "      <td>1</td>\n",
       "      <td>0</td>\n",
       "      <td>0</td>\n",
       "    </tr>\n",
       "    <tr>\n",
       "      <th>...</th>\n",
       "      <td>...</td>\n",
       "      <td>...</td>\n",
       "      <td>...</td>\n",
       "      <td>...</td>\n",
       "      <td>...</td>\n",
       "      <td>...</td>\n",
       "      <td>...</td>\n",
       "      <td>...</td>\n",
       "      <td>...</td>\n",
       "      <td>...</td>\n",
       "      <td>...</td>\n",
       "      <td>...</td>\n",
       "      <td>...</td>\n",
       "    </tr>\n",
       "    <tr>\n",
       "      <th>1559</th>\n",
       "      <td>zoltan-gera</td>\n",
       "      <td>181.0</td>\n",
       "      <td>76.0</td>\n",
       "      <td>0.250</td>\n",
       "      <td>345</td>\n",
       "      <td>64</td>\n",
       "      <td>41</td>\n",
       "      <td>1</td>\n",
       "      <td>1</td>\n",
       "      <td>1</td>\n",
       "      <td>0</td>\n",
       "      <td>0</td>\n",
       "      <td>0</td>\n",
       "    </tr>\n",
       "    <tr>\n",
       "      <th>1560</th>\n",
       "      <td>zoltan-stieber</td>\n",
       "      <td>175.0</td>\n",
       "      <td>67.0</td>\n",
       "      <td>0.000</td>\n",
       "      <td>133</td>\n",
       "      <td>24</td>\n",
       "      <td>12</td>\n",
       "      <td>0</td>\n",
       "      <td>0</td>\n",
       "      <td>0</td>\n",
       "      <td>0</td>\n",
       "      <td>1</td>\n",
       "      <td>0</td>\n",
       "    </tr>\n",
       "    <tr>\n",
       "      <th>1561</th>\n",
       "      <td>zoumana-camara</td>\n",
       "      <td>182.0</td>\n",
       "      <td>76.0</td>\n",
       "      <td>0.875</td>\n",
       "      <td>354</td>\n",
       "      <td>7</td>\n",
       "      <td>42</td>\n",
       "      <td>2</td>\n",
       "      <td>5</td>\n",
       "      <td>0</td>\n",
       "      <td>1</td>\n",
       "      <td>0</td>\n",
       "      <td>0</td>\n",
       "    </tr>\n",
       "    <tr>\n",
       "      <th>1562</th>\n",
       "      <td>zubikarai</td>\n",
       "      <td>185.0</td>\n",
       "      <td>84.0</td>\n",
       "      <td>0.000</td>\n",
       "      <td>35</td>\n",
       "      <td>0</td>\n",
       "      <td>2</td>\n",
       "      <td>0</td>\n",
       "      <td>1</td>\n",
       "      <td>0</td>\n",
       "      <td>0</td>\n",
       "      <td>0</td>\n",
       "      <td>1</td>\n",
       "    </tr>\n",
       "    <tr>\n",
       "      <th>1563</th>\n",
       "      <td>zurutuza</td>\n",
       "      <td>186.0</td>\n",
       "      <td>78.0</td>\n",
       "      <td>0.000</td>\n",
       "      <td>116</td>\n",
       "      <td>7</td>\n",
       "      <td>19</td>\n",
       "      <td>0</td>\n",
       "      <td>0</td>\n",
       "      <td>0</td>\n",
       "      <td>0</td>\n",
       "      <td>0</td>\n",
       "      <td>1</td>\n",
       "    </tr>\n",
       "  </tbody>\n",
       "</table>\n",
       "<p>1564 rows × 13 columns</p>\n",
       "</div>"
      ],
      "text/plain": [
       "                 playerShort  height  weight  rating  games  goals  \\\n",
       "0               aaron-hughes   182.0    71.0   0.125    575      8   \n",
       "1                 aaron-hunt   183.0    73.0   0.125    326     60   \n",
       "2               aaron-lennon   165.0    63.0   0.250    353     30   \n",
       "3               aaron-ramsey   178.0    76.0   0.000    218     30   \n",
       "4     abdelhamid-el-kaoutari   180.0    73.0   0.250    107      1   \n",
       "...                      ...     ...     ...     ...    ...    ...   \n",
       "1559             zoltan-gera   181.0    76.0   0.250    345     64   \n",
       "1560          zoltan-stieber   175.0    67.0   0.000    133     24   \n",
       "1561          zoumana-camara   182.0    76.0   0.875    354      7   \n",
       "1562               zubikarai   185.0    84.0   0.000     35      0   \n",
       "1563                zurutuza   186.0    78.0   0.000    116      7   \n",
       "\n",
       "      yellowCards  yellowReds  redCards  league__England  league__France  \\\n",
       "0              14           0         0                1               0   \n",
       "1              41           0         1                0               0   \n",
       "2               9           0         0                1               0   \n",
       "3              26           0         0                1               0   \n",
       "4               7           4         2                0               1   \n",
       "...           ...         ...       ...              ...             ...   \n",
       "1559           41           1         1                1               0   \n",
       "1560           12           0         0                0               0   \n",
       "1561           42           2         5                0               1   \n",
       "1562            2           0         1                0               0   \n",
       "1563           19           0         0                0               0   \n",
       "\n",
       "      league__Germany  league__Spain  \n",
       "0                   0              0  \n",
       "1                   1              0  \n",
       "2                   0              0  \n",
       "3                   0              0  \n",
       "4                   0              0  \n",
       "...               ...            ...  \n",
       "1559                0              0  \n",
       "1560                1              0  \n",
       "1561                0              0  \n",
       "1562                0              1  \n",
       "1563                0              1  \n",
       "\n",
       "[1564 rows x 13 columns]"
      ]
     },
     "execution_count": 9,
     "metadata": {},
     "output_type": "execute_result"
    }
   ],
   "source": [
    "df"
   ]
  },
  {
   "cell_type": "markdown",
   "metadata": {},
   "source": [
    "<font color=green> **COMMENTS:**\n",
    "- onehot coding for categorical feature league country is done correctly    \n",
    "</font>"
   ]
  },
  {
   "cell_type": "markdown",
   "metadata": {},
   "source": [
    "Now we still have to calculate the correct responses $ Y_i = N_{i, red} / N_i $ for each player.\n",
    "We decide to treat yellowReds just like redCards."
   ]
  },
  {
   "cell_type": "code",
   "execution_count": 10,
   "metadata": {},
   "outputs": [],
   "source": [
    "df.insert(13, 'target', (df['redCards'] + df['yellowReds']) / df['games'])\n",
    "\n",
    "df"
   ]
  },
  {
   "cell_type": "markdown",
   "metadata": {},
   "source": [
    "For linear regression as treated in the lecture, we need to center the data, i. e. subtract the mean of each column from every value in the column, such that each column has mean zero."
   ]
  },
  {
   "cell_type": "code",
   "execution_count": 17,
   "metadata": {},
   "outputs": [
    {
     "ename": "NameError",
     "evalue": "name 'height' is not defined",
     "output_type": "error",
     "traceback": [
      "\u001b[1;31m---------------------------------------------------------------------------\u001b[0m",
      "\u001b[1;31mNameError\u001b[0m                                 Traceback (most recent call last)",
      "\u001b[1;32m<ipython-input-17-15f2bf41e94c>\u001b[0m in \u001b[0;36m<module>\u001b[1;34m\u001b[0m\n\u001b[0;32m      1\u001b[0m \u001b[0mdf_centered\u001b[0m \u001b[1;33m=\u001b[0m \u001b[0mdf\u001b[0m\u001b[1;33m\u001b[0m\u001b[1;33m\u001b[0m\u001b[0m\n\u001b[1;32m----> 2\u001b[1;33m \u001b[0mdf_centered\u001b[0m\u001b[1;33m[\u001b[0m\u001b[1;33m[\u001b[0m\u001b[0mheight\u001b[0m\u001b[1;33m]\u001b[0m\u001b[1;33m]\u001b[0m \u001b[1;33m=\u001b[0m \u001b[0mdf_centered\u001b[0m\u001b[1;33m[\u001b[0m\u001b[0mheight\u001b[0m\u001b[1;33m]\u001b[0m \u001b[1;33m-\u001b[0m \u001b[0mdf_centered\u001b[0m\u001b[1;33m[\u001b[0m\u001b[0mheight\u001b[0m\u001b[1;33m]\u001b[0m\u001b[1;33m.\u001b[0m\u001b[0mmean\u001b[0m\u001b[1;33m\u001b[0m\u001b[1;33m\u001b[0m\u001b[0m\n\u001b[0m\u001b[0;32m      3\u001b[0m \u001b[1;33m\u001b[0m\u001b[0m\n\u001b[0;32m      4\u001b[0m \u001b[0mdf_centered\u001b[0m\u001b[1;33m\u001b[0m\u001b[1;33m\u001b[0m\u001b[0m\n\u001b[0;32m      5\u001b[0m \u001b[1;33m\u001b[0m\u001b[0m\n",
      "\u001b[1;31mNameError\u001b[0m: name 'height' is not defined"
     ]
    }
   ],
   "source": [
    "df_centered = df\n",
    "df_centered[[height]] = df_centered[height] - df_centered[height].mean\n",
    "\n",
    "df_centered\n",
    "\n"
   ]
  },
  {
   "cell_type": "markdown",
   "metadata": {},
   "source": [
    "<font color=green> **COMMENTS:**\n",
    "- syntax error in selecting a column from dataframe, should be df['height']    \n",
    "</font>"
   ]
  },
  {
   "cell_type": "markdown",
   "metadata": {},
   "source": [
    "## 2. Model Creation"
   ]
  },
  {
   "cell_type": "markdown",
   "metadata": {},
   "source": [
    "### Linear Regression\n"
   ]
  },
  {
   "cell_type": "markdown",
   "metadata": {},
   "source": [
    "### Regression forest"
   ]
  },
  {
   "cell_type": "code",
   "execution_count": null,
   "metadata": {},
   "outputs": [],
   "source": []
  },
  {
   "cell_type": "markdown",
   "metadata": {},
   "source": [
    "<font color=green> **COMMENTS:**\n",
    "- part 2 model selection and subsequent analysis are not completed\n",
    "- you could at least implemented the DecisionTree and DecisionForest since they should be exactly the same as the solution already provided last week...\n",
    "</font>"
   ]
  }
 ],
 "metadata": {
  "kernelspec": {
   "display_name": "Python 3",
   "language": "python",
   "name": "python3"
  },
  "language_info": {
   "codemirror_mode": {
    "name": "ipython",
    "version": 3
   },
   "file_extension": ".py",
   "mimetype": "text/x-python",
   "name": "python",
   "nbconvert_exporter": "python",
   "pygments_lexer": "ipython3",
   "version": "3.7.9"
  }
 },
 "nbformat": 4,
 "nbformat_minor": 4
}
