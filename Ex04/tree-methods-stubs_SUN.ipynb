{
 "cells": [
  {
   "cell_type": "markdown",
   "metadata": {},
   "source": [
    "# Claire's Node: Decision Tree ONLY"
   ]
  },
  {
   "cell_type": "code",
   "execution_count": null,
   "metadata": {},
   "outputs": [],
   "source": [
    "# import modules\n",
    "import numpy as np\n",
    "from sklearn.datasets import load_digits\n"
   ]
  },
  {
   "cell_type": "code",
   "execution_count": 40,
   "metadata": {},
   "outputs": [],
   "source": [
    "# base classes\n",
    "\n",
    "class Node:\n",
    "    def __init__(self):\n",
    "        pass \n",
    "\n",
    "class Tree:\n",
    "    def __init__(self):\n",
    "        self.root = Node()\n",
    "    \n",
    "    def find_leaf(self, x):\n",
    "        node = self.root\n",
    "        while hasattr(node, \"feature\"): # leaf node has no 'feature' attribute\n",
    "            j = node.feature\n",
    "            if x[j] <= node.threshold:\n",
    "                node = node.left\n",
    "            else:\n",
    "                node = node.right\n",
    "        return node"
   ]
  },
  {
   "cell_type": "markdown",
   "metadata": {},
   "source": [
    "# Density Tree"
   ]
  },
  {
   "cell_type": "code",
   "execution_count": null,
   "metadata": {},
   "outputs": [],
   "source": []
  },
  {
   "cell_type": "code",
   "execution_count": null,
   "metadata": {},
   "outputs": [],
   "source": []
  },
  {
   "cell_type": "code",
   "execution_count": null,
   "metadata": {},
   "outputs": [],
   "source": []
  },
  {
   "cell_type": "markdown",
   "metadata": {},
   "source": [
    "# Decision Tree"
   ]
  },
  {
   "cell_type": "code",
   "execution_count": 211,
   "metadata": {
    "jupyter": {
     "outputs_hidden": true
    }
   },
   "outputs": [],
   "source": [
    "class DecisionTree(Tree):\n",
    "    def __init__(self):\n",
    "        super(DecisionTree, self).__init__()\n",
    "        \n",
    "    def train(self, data, labels, n_min=20):\n",
    "        '''\n",
    "        data: the feature matrix for all digits\n",
    "        labels: the corresponding ground-truth responses\n",
    "        n_min: termination criterion (don't split if a node contains fewer instances)\n",
    "        '''\n",
    "        N, D = data.shape\n",
    "        D_try = int(np.sqrt(D)) # how many features to consider for each split decision\n",
    "\n",
    "        # initialize the root node\n",
    "        self.root.data = data\n",
    "        self.root.labels = labels\n",
    "        \n",
    "        stack = [self.root]\n",
    "        while len(stack): \n",
    "            node = stack.pop()    # check the last node on the stack\n",
    "            \n",
    "            #print(\"Node >>> \", node.data.shape)\n",
    "            \n",
    "            n = node.data.shape[0]    # number of instances in present node\n",
    "            if n >= n_min and not node_is_pure(node):\n",
    "                # Call 'make_decision_split_node()' with 'D_try' randomly selected feature indices. \n",
    "                # This turns 'node' into a split node and returns the two children, which must be placed on the 'stack'.\n",
    "                feature_indices = np.random.permutation(D)[:D_try]\n",
    "                left, right = make_decision_split_node(node, feature_indices)\n",
    "                if left is not None:\n",
    "                    stack.append(left)\n",
    "                    stack.append(right)\n",
    "            else:\n",
    "                # Call 'make_decision_leaf_node()' to turn 'node' into a leaf node.\n",
    "                if (node.labels.size > 0):\n",
    "                    make_decision_leaf_node(node)\n",
    "                \n",
    "                \n",
    "    def predict(self, x): # here x is single data point\n",
    "        \n",
    "        leaf = self.find_leaf(x)\n",
    "        # compute p(y | x) --> why do we need this here???\n",
    "        # posterior = np.sum(leaf.labels==leaf.response)/leaf.N\n",
    "\n",
    "        return leaf.response #, posterior # your code here"
   ]
  },
  {
   "cell_type": "code",
   "execution_count": 210,
   "metadata": {
    "jupyter": {
     "outputs_hidden": true
    }
   },
   "outputs": [],
   "source": [
    "def calc_gini(labels):\n",
    "    \"Calculate gini impurity score for a given set of labels\"\n",
    "    counts = np.unique(labels,return_counts=True)[1]\n",
    "    gini_impurity = 1-np.square(counts / counts.sum()).sum() \n",
    "    \n",
    "    return gini_impurity\n",
    "\n",
    "\n",
    "def make_decision_split_node(node, feature_indices):\n",
    "    '''\n",
    "    node: the node to be split\n",
    "    feature_indices: a numpy array of length 'D_try', containing the feature \n",
    "                     indices to be considered in the present split\n",
    "    '''\n",
    "    n, D = node.data.shape\n",
    "\n",
    "    # find best feature j (among 'feature_indices') and best threshold t for the split\n",
    "    j_min, t_min = None, None\n",
    "    \n",
    "    gini_parent = calc_gini(node.labels)\n",
    "    gini_min = gini_parent*n\n",
    "    \n",
    "    for j in feature_indices:\n",
    "        # Hint: For each feature considered, first remove duplicate feature values using 'np.unique()'. \n",
    "        # Describe here why this is necessary --> this reduces the computation of looping over all training data to test all the mid-points in-between, where a lot of these pixels are of the same values\n",
    "        data_unique = np.unique(node.data[:, j])\n",
    "        \n",
    "        # Compute candidate thresholds\n",
    "        tj = ((data_unique[1:]+data_unique[:-1])/2).astype(int)\n",
    "        \n",
    "        # Illustration: for loop - hint: vectorized version is possible\n",
    "        for t in tj:\n",
    "            left_indices = np.nonzero(node.data[:, j] <= t)[0] \n",
    "            right_indices = np.nonzero(node.data[:, j] > t)[0]\n",
    "            \n",
    "            # Compute the gini score for children\n",
    "            gini_left = calc_gini(node.labels[left_indices])\n",
    "            gini_right = calc_gini(node.labels[right_indices])\n",
    "            \n",
    "            # choose the best threshold with minimize the sum of children's gini scores\n",
    "            if gini_left*len(left_indices) + gini_right*len(right_indices) < gini_min:\n",
    "                gini_min = gini_left*len(left_indices) + gini_right*len(right_indices)\n",
    "                j_min = j\n",
    "                t_min = t\n",
    "                left_min = left_indices\n",
    "                right_min = right_indices\n",
    "            \n",
    "    # create children\n",
    "    left = Node()\n",
    "    right = Node()\n",
    "\n",
    "    # initialize 'left' and 'right' with the data subsets and labels according to the optimal split found above\n",
    "    left.data = node.data[left_min,:] # data in left node\n",
    "    left.labels = node.labels[left_min] # corresponding labels\n",
    "    right.data = node.data[right_min,:]\n",
    "    right.labels = node.labels[right_min]\n",
    "\n",
    "    # turn the current 'node' into a split node (store children and split condition)\n",
    "    node.left = left\n",
    "    node.right = right\n",
    "    node.feature = j_min\n",
    "    node.threshold = t_min\n",
    "\n",
    "    # return the children (to be placed on the stack)\n",
    "    return left, right    \n",
    "\n"
   ]
  },
  {
   "cell_type": "code",
   "execution_count": 162,
   "metadata": {
    "jupyter": {
     "outputs_hidden": true
    }
   },
   "outputs": [],
   "source": [
    "def make_decision_leaf_node(node):\n",
    "    '''\n",
    "    node: the node to become a leaf\n",
    "    '''\n",
    "    # compute and store leaf response\n",
    "    node.N = node.labels.size # why do we need this???\n",
    "    node.response = max(set(node.labels), key=list(node.labels).count)\n",
    "    posterior = max(np.unique(node.labels,return_counts=True)[1])/node.N\n",
    "    # print('\\tleaf_node: response={},N={},posterior={}'.format(node.response, node.N,posterior))    \n",
    "    "
   ]
  },
  {
   "cell_type": "code",
   "execution_count": 138,
   "metadata": {
    "jupyter": {
     "outputs_hidden": true
    }
   },
   "outputs": [],
   "source": [
    "def node_is_pure(node):\n",
    "    '''\n",
    "    check if 'node' ontains only instances of the same digit\n",
    "    '''\n",
    "    assert hasattr(node, 'labels'), 'current node has no labels'\n",
    "    classes = np.unique(node.labels) # returns an array of unique labels, i.e. classes \n",
    "    return len(classes) == 1 \n"
   ]
  },
  {
   "cell_type": "markdown",
   "metadata": {},
   "source": [
    "# Evaluation of Density and Decision Tree"
   ]
  },
  {
   "cell_type": "code",
   "execution_count": 185,
   "metadata": {
    "jupyter": {
     "outputs_hidden": true
    }
   },
   "outputs": [
    {
     "name": "stdout",
     "output_type": "stream",
     "text": [
      "(1797, 64) (1797,)\n"
     ]
    }
   ],
   "source": [
    "# read and prepare the digits data\n",
    "# your code here\n",
    "\n",
    "from sklearn.datasets import load_digits\n",
    "digits = load_digits()\n",
    "data = digits[\"data\"]\n",
    "labels = digits[\"target\"]\n",
    "\n",
    "print(data.shape, labels.shape)\n"
   ]
  },
  {
   "cell_type": "code",
   "execution_count": 212,
   "metadata": {
    "jupyter": {
     "outputs_hidden": true
    }
   },
   "outputs": [
    {
     "name": "stdout",
     "output_type": "stream",
     "text": [
      "Node >>>  (1797, 64)\n",
      "Node >>>  (1079, 64)\n",
      "Node >>>  (270, 64)\n",
      "Node >>>  (152, 64)\n",
      "Node >>>  (31, 64)\n",
      "Node >>>  (22, 64)\n",
      "\t leaf_node: response=0,N=22,posterior=1.0\n",
      "Node >>>  (9, 64)\n",
      "\t leaf_node: response=4,N=9,posterior=0.6666666666666666\n",
      "Node >>>  (121, 64)\n",
      "Node >>>  (87, 64)\n",
      "Node >>>  (5, 64)\n",
      "\t leaf_node: response=1,N=5,posterior=0.6\n",
      "Node >>>  (82, 64)\n",
      "Node >>>  (8, 64)\n",
      "\t leaf_node: response=6,N=8,posterior=0.625\n",
      "Node >>>  (74, 64)\n",
      "Node >>>  (61, 64)\n",
      "Node >>>  (55, 64)\n",
      "\t leaf_node: response=9,N=55,posterior=1.0\n",
      "Node >>>  (6, 64)\n",
      "\t leaf_node: response=9,N=6,posterior=0.6666666666666666\n",
      "Node >>>  (13, 64)\n",
      "\t leaf_node: response=3,N=13,posterior=0.46153846153846156\n",
      "Node >>>  (34, 64)\n",
      "Node >>>  (18, 64)\n",
      "\t leaf_node: response=8,N=18,posterior=0.5\n",
      "Node >>>  (16, 64)\n",
      "\t leaf_node: response=3,N=16,posterior=0.5\n",
      "Node >>>  (118, 64)\n",
      "Node >>>  (104, 64)\n",
      "Node >>>  (21, 64)\n",
      "Node >>>  (6, 64)\n",
      "\t leaf_node: response=2,N=6,posterior=1.0\n",
      "Node >>>  (15, 64)\n",
      "\t leaf_node: response=3,N=15,posterior=0.8666666666666667\n",
      "Node >>>  (83, 64)\n",
      "Node >>>  (8, 64)\n",
      "\t leaf_node: response=3,N=8,posterior=0.5\n",
      "Node >>>  (75, 64)\n",
      "Node >>>  (11, 64)\n",
      "\t leaf_node: response=3,N=11,posterior=0.9090909090909091\n",
      "Node >>>  (64, 64)\n",
      "\t leaf_node: response=3,N=64,posterior=1.0\n",
      "Node >>>  (14, 64)\n",
      "\t leaf_node: response=9,N=14,posterior=0.9285714285714286\n",
      "Node >>>  (809, 64)\n",
      "Node >>>  (688, 64)\n",
      "Node >>>  (288, 64)\n",
      "Node >>>  (116, 64)\n",
      "Node >>>  (24, 64)\n",
      "Node >>>  (13, 64)\n",
      "\t leaf_node: response=1,N=13,posterior=0.5384615384615384\n",
      "Node >>>  (11, 64)\n",
      "\t leaf_node: response=2,N=11,posterior=0.8181818181818182\n",
      "Node >>>  (92, 64)\n",
      "Node >>>  (56, 64)\n",
      "Node >>>  (41, 64)\n",
      "Node >>>  (40, 64)\n",
      "\t leaf_node: response=8,N=40,posterior=1.0\n",
      "Node >>>  (1, 64)\n",
      "\t leaf_node: response=9,N=1,posterior=1.0\n",
      "Node >>>  (15, 64)\n",
      "\t leaf_node: response=5,N=15,posterior=0.3333333333333333\n",
      "Node >>>  (36, 64)\n",
      "Node >>>  (18, 64)\n",
      "\t leaf_node: response=9,N=18,posterior=0.8333333333333334\n",
      "Node >>>  (18, 64)\n",
      "\t leaf_node: response=5,N=18,posterior=0.3333333333333333\n",
      "Node >>>  (172, 64)\n",
      "Node >>>  (109, 64)\n",
      "Node >>>  (4, 64)\n",
      "\t leaf_node: response=7,N=4,posterior=1.0\n",
      "Node >>>  (105, 64)\n",
      "Node >>>  (103, 64)\n",
      "Node >>>  (101, 64)\n",
      "Node >>>  (1, 64)\n",
      "\t leaf_node: response=3,N=1,posterior=1.0\n",
      "Node >>>  (100, 64)\n",
      "Node >>>  (96, 64)\n",
      "\t leaf_node: response=2,N=96,posterior=1.0\n",
      "Node >>>  (4, 64)\n",
      "\t leaf_node: response=2,N=4,posterior=0.75\n",
      "Node >>>  (2, 64)\n",
      "\t leaf_node: response=3,N=2,posterior=1.0\n",
      "Node >>>  (2, 64)\n",
      "\t leaf_node: response=1,N=2,posterior=0.5\n",
      "Node >>>  (63, 64)\n",
      "Node >>>  (34, 64)\n",
      "Node >>>  (16, 64)\n",
      "\t leaf_node: response=3,N=16,posterior=0.4375\n",
      "Node >>>  (18, 64)\n",
      "\t leaf_node: response=2,N=18,posterior=0.6666666666666666\n",
      "Node >>>  (29, 64)\n",
      "Node >>>  (2, 64)\n",
      "\t leaf_node: response=1,N=2,posterior=0.5\n",
      "Node >>>  (27, 64)\n",
      "Node >>>  (2, 64)\n",
      "\t leaf_node: response=3,N=2,posterior=0.5\n",
      "Node >>>  (25, 64)\n",
      "Node >>>  (24, 64)\n",
      "\t leaf_node: response=3,N=24,posterior=1.0\n",
      "Node >>>  (1, 64)\n",
      "\t leaf_node: response=9,N=1,posterior=1.0\n",
      "Node >>>  (400, 64)\n",
      "Node >>>  (166, 64)\n",
      "Node >>>  (124, 64)\n",
      "Node >>>  (11, 64)\n",
      "\t leaf_node: response=4,N=11,posterior=1.0\n",
      "Node >>>  (113, 64)\n",
      "Node >>>  (110, 64)\n",
      "Node >>>  (1, 64)\n",
      "\t leaf_node: response=2,N=1,posterior=1.0\n",
      "Node >>>  (109, 64)\n",
      "Node >>>  (14, 64)\n",
      "\t leaf_node: response=1,N=14,posterior=0.5\n",
      "Node >>>  (95, 64)\n",
      "Node >>>  (7, 64)\n",
      "\t leaf_node: response=1,N=7,posterior=0.7142857142857143\n",
      "Node >>>  (88, 64)\n",
      "\t leaf_node: response=1,N=88,posterior=1.0\n",
      "Node >>>  (3, 64)\n",
      "\t leaf_node: response=0,N=3,posterior=0.3333333333333333\n",
      "Node >>>  (42, 64)\n",
      "Node >>>  (28, 64)\n",
      "Node >>>  (23, 64)\n",
      "Node >>>  (8, 64)\n",
      "\t leaf_node: response=8,N=8,posterior=0.5\n",
      "Node >>>  (15, 64)\n",
      "\t leaf_node: response=1,N=15,posterior=1.0\n",
      "Node >>>  (5, 64)\n",
      "\t leaf_node: response=1,N=5,posterior=0.4\n",
      "Node >>>  (14, 64)\n",
      "\t leaf_node: response=2,N=14,posterior=0.42857142857142855\n",
      "Node >>>  (234, 64)\n",
      "Node >>>  (61, 64)\n",
      "Node >>>  (17, 64)\n",
      "\t leaf_node: response=4,N=17,posterior=0.4117647058823529\n",
      "Node >>>  (44, 64)\n",
      "Node >>>  (4, 64)\n",
      "\t leaf_node: response=1,N=4,posterior=0.5\n",
      "Node >>>  (40, 64)\n",
      "Node >>>  (3, 64)\n",
      "\t leaf_node: response=0,N=3,posterior=0.3333333333333333\n",
      "Node >>>  (37, 64)\n",
      "\t leaf_node: response=4,N=37,posterior=1.0\n",
      "Node >>>  (173, 64)\n",
      "Node >>>  (127, 64)\n",
      "Node >>>  (76, 64)\n",
      "Node >>>  (59, 64)\n",
      "Node >>>  (46, 64)\n",
      "Node >>>  (18, 64)\n",
      "\t leaf_node: response=8,N=18,posterior=0.7222222222222222\n",
      "Node >>>  (28, 64)\n",
      "Node >>>  (4, 64)\n",
      "\t leaf_node: response=8,N=4,posterior=0.75\n",
      "Node >>>  (24, 64)\n",
      "\t leaf_node: response=8,N=24,posterior=1.0\n",
      "Node >>>  (13, 64)\n",
      "\t leaf_node: response=3,N=13,posterior=0.3076923076923077\n",
      "Node >>>  (17, 64)\n",
      "\t leaf_node: response=2,N=17,posterior=0.6470588235294118\n",
      "Node >>>  (51, 64)\n",
      "Node >>>  (26, 64)\n",
      "Node >>>  (20, 64)\n",
      "Node >>>  (1, 64)\n",
      "\t leaf_node: response=1,N=1,posterior=1.0\n",
      "Node >>>  (19, 64)\n",
      "\t leaf_node: response=9,N=19,posterior=1.0\n",
      "Node >>>  (6, 64)\n",
      "\t leaf_node: response=1,N=6,posterior=0.5\n",
      "Node >>>  (25, 64)\n",
      "Node >>>  (11, 64)\n",
      "\t leaf_node: response=1,N=11,posterior=0.45454545454545453\n",
      "Node >>>  (14, 64)\n",
      "\t leaf_node: response=3,N=14,posterior=0.9285714285714286\n",
      "Node >>>  (46, 64)\n",
      "Node >>>  (9, 64)\n",
      "\t leaf_node: response=5,N=9,posterior=0.5555555555555556\n",
      "Node >>>  (37, 64)\n",
      "Node >>>  (8, 64)\n",
      "\t leaf_node: response=6,N=8,posterior=0.375\n",
      "Node >>>  (29, 64)\n",
      "Node >>>  (27, 64)\n",
      "Node >>>  (21, 64)\n",
      "\t leaf_node: response=1,N=21,posterior=1.0\n",
      "Node >>>  (6, 64)\n",
      "\t leaf_node: response=1,N=6,posterior=0.8333333333333334\n",
      "Node >>>  (2, 64)\n",
      "\t leaf_node: response=4,N=2,posterior=0.5\n",
      "Node >>>  (121, 64)\n",
      "Node >>>  (15, 64)\n",
      "\t leaf_node: response=4,N=15,posterior=0.3333333333333333\n",
      "Node >>>  (106, 64)\n",
      "Node >>>  (11, 64)\n",
      "\t leaf_node: response=7,N=11,posterior=0.5454545454545454\n",
      "Node >>>  (95, 64)\n",
      "Node >>>  (94, 64)\n",
      "Node >>>  (90, 64)\n",
      "\t leaf_node: response=7,N=90,posterior=1.0\n",
      "Node >>>  (4, 64)\n",
      "\t leaf_node: response=7,N=4,posterior=0.75\n",
      "Node >>>  (1, 64)\n",
      "\t leaf_node: response=3,N=1,posterior=1.0\n",
      "Node >>>  (718, 64)\n",
      "Node >>>  (140, 64)\n",
      "Node >>>  (29, 64)\n",
      "Node >>>  (8, 64)\n",
      "\t leaf_node: response=0,N=8,posterior=1.0\n",
      "Node >>>  (21, 64)\n",
      "Node >>>  (12, 64)\n",
      "\t leaf_node: response=2,N=12,posterior=0.25\n",
      "Node >>>  (9, 64)\n",
      "\t leaf_node: response=9,N=9,posterior=0.7777777777777778\n",
      "Node >>>  (111, 64)\n",
      "Node >>>  (3, 64)\n",
      "\t leaf_node: response=1,N=3,posterior=1.0\n",
      "Node >>>  (108, 64)\n",
      "Node >>>  (19, 64)\n",
      "\t leaf_node: response=5,N=19,posterior=0.9473684210526315\n",
      "Node >>>  (89, 64)\n",
      "\t leaf_node: response=5,N=89,posterior=1.0\n",
      "Node >>>  (578, 64)\n",
      "Node >>>  (353, 64)\n",
      "Node >>>  (282, 64)\n",
      "Node >>>  (166, 64)\n",
      "Node >>>  (129, 64)\n",
      "Node >>>  (5, 64)\n",
      "\t leaf_node: response=7,N=5,posterior=0.6\n",
      "Node >>>  (124, 64)\n",
      "Node >>>  (121, 64)\n",
      "Node >>>  (4, 64)\n",
      "\t leaf_node: response=4,N=4,posterior=0.5\n",
      "Node >>>  (117, 64)\n",
      "\t leaf_node: response=0,N=117,posterior=1.0\n",
      "Node >>>  (3, 64)\n",
      "\t leaf_node: response=9,N=3,posterior=0.3333333333333333\n",
      "Node >>>  (37, 64)\n",
      "Node >>>  (13, 64)\n",
      "\t leaf_node: response=8,N=13,posterior=0.8461538461538461\n",
      "Node >>>  (24, 64)\n",
      "Node >>>  (16, 64)\n",
      "\t leaf_node: response=9,N=16,posterior=0.9375\n",
      "Node >>>  (8, 64)\n",
      "\t leaf_node: response=8,N=8,posterior=0.375\n",
      "Node >>>  (116, 64)\n",
      "Node >>>  (46, 64)\n",
      "Node >>>  (3, 64)\n",
      "\t leaf_node: response=3,N=3,posterior=0.6666666666666666\n",
      "Node >>>  (43, 64)\n",
      "\t leaf_node: response=7,N=43,posterior=1.0\n",
      "Node >>>  (70, 64)\n",
      "Node >>>  (51, 64)\n",
      "Node >>>  (19, 64)\n",
      "\t leaf_node: response=7,N=19,posterior=0.42105263157894735\n",
      "Node >>>  (32, 64)\n",
      "Node >>>  (28, 64)\n",
      "Node >>>  (27, 64)\n",
      "Node >>>  (26, 64)\n",
      "Node >>>  (1, 64)\n",
      "\t leaf_node: response=9,N=1,posterior=1.0\n",
      "Node >>>  (25, 64)\n",
      "\t leaf_node: response=8,N=25,posterior=1.0\n",
      "Node >>>  (1, 64)\n",
      "\t leaf_node: response=9,N=1,posterior=1.0\n",
      "Node >>>  (1, 64)\n",
      "\t leaf_node: response=9,N=1,posterior=1.0\n",
      "Node >>>  (4, 64)\n",
      "\t leaf_node: response=2,N=4,posterior=0.75\n",
      "Node >>>  (19, 64)\n",
      "\t leaf_node: response=0,N=19,posterior=0.5789473684210527\n",
      "Node >>>  (71, 64)\n",
      "Node >>>  (67, 64)\n",
      "\t leaf_node: response=4,N=67,posterior=1.0\n",
      "Node >>>  (4, 64)\n",
      "\t leaf_node: response=9,N=4,posterior=0.5\n",
      "Node >>>  (225, 64)\n",
      "Node >>>  (145, 64)\n",
      "Node >>>  (2, 64)\n",
      "\t leaf_node: response=5,N=2,posterior=1.0\n",
      "Node >>>  (143, 64)\n",
      "Node >>>  (142, 64)\n",
      "Node >>>  (135, 64)\n",
      "Node >>>  (3, 64)\n",
      "\t leaf_node: response=6,N=3,posterior=0.6666666666666666\n",
      "Node >>>  (132, 64)\n",
      "\t leaf_node: response=6,N=132,posterior=1.0\n",
      "Node >>>  (7, 64)\n",
      "\t leaf_node: response=6,N=7,posterior=0.8571428571428571\n",
      "Node >>>  (1, 64)\n",
      "\t leaf_node: response=1,N=1,posterior=1.0\n",
      "Node >>>  (80, 64)\n",
      "Node >>>  (62, 64)\n",
      "Node >>>  (34, 64)\n",
      "Node >>>  (10, 64)\n",
      "\t leaf_node: response=6,N=10,posterior=0.7\n",
      "Node >>>  (24, 64)\n",
      "Node >>>  (20, 64)\n",
      "\t leaf_node: response=5,N=20,posterior=1.0\n",
      "Node >>>  (4, 64)\n",
      "\t leaf_node: response=5,N=4,posterior=0.75\n",
      "Node >>>  (28, 64)\n",
      "Node >>>  (16, 64)\n",
      "\t leaf_node: response=6,N=16,posterior=0.9375\n",
      "Node >>>  (12, 64)\n",
      "\t leaf_node: response=4,N=12,posterior=0.6666666666666666\n",
      "Node >>>  (18, 64)\n",
      "\t leaf_node: response=4,N=18,posterior=0.8888888888888888\n"
     ]
    }
   ],
   "source": [
    "# train trees, plot training error confusion matrices, and comment on your results\n",
    "# your code here\n",
    "\n",
    "decision_tree = DecisionTree()\n",
    "decision_tree.train(data, labels)"
   ]
  },
  {
   "cell_type": "code",
   "execution_count": 239,
   "metadata": {},
   "outputs": [
    {
     "name": "stdout",
     "output_type": "stream",
     "text": [
      "Confusion Matrix - Prediction Accuracy Training\n"
     ]
    },
    {
     "data": {
      "image/png": "[encoded data removed]",
      "text/plain": [
       "<Figure size 432x288 with 1 Axes>"
      ]
     },
     "metadata": {
      "needs_background": "light"
     },
     "output_type": "display_data"
    }
   ],
   "source": [
    "\n",
    "from sklearn.metrics import confusion_matrix\n",
    "\n",
    "predictions = []\n",
    "for x in data:\n",
    "    predictions.append(decision_tree.predict(x))\n",
    "\n",
    "rebase = np.unique(labels,return_counts=True)[1]\n",
    "confusion = confusion_matrix(labels, predictions) / rebase *100\n",
    "\n",
    "from seaborn import heatmap\n",
    "heatmap(confusion,annot=True,fmt=\".1f\",cbar=False) \n",
    "print(\"Confusion Matrix - Prediction Accuracy Training\")"
   ]
  },
  {
   "cell_type": "markdown",
   "metadata": {},
   "source": [
    "# Density and Decision Forest"
   ]
  },
  {
   "cell_type": "code",
   "execution_count": null,
   "metadata": {
    "jupyter": {
     "outputs_hidden": true
    }
   },
   "outputs": [],
   "source": [
    "class DensityForest():\n",
    "    def __init__(self, n_trees):\n",
    "        # create ensemble\n",
    "        self.trees = [DensityTree() for i in range(n_trees)]\n",
    "    \n",
    "    def train(self, data, prior, n_min=20):\n",
    "        for tree in self.trees:\n",
    "            # train each tree, using a bootstrap sample of the data\n",
    "            ... # your code here\n",
    "\n",
    "    def predict(self, x):\n",
    "        # compute the ensemble prediction\n",
    "        return ... # your code here"
   ]
  },
  {
   "cell_type": "code",
   "execution_count": null,
   "metadata": {
    "jupyter": {
     "outputs_hidden": true
    }
   },
   "outputs": [],
   "source": [
    "class DecisionForest():\n",
    "    def __init__(self, n_trees):\n",
    "        # create ensemble\n",
    "        self.trees = [DecisionTree() for i in range(n_trees)]\n",
    "    \n",
    "    def train(self, data, labels, n_min=0):\n",
    "        for tree in self.trees:\n",
    "            # train each tree, using a bootstrap sample of the data\n",
    "            ... # your code here\n",
    "\n",
    "    def predict(self, x):\n",
    "        # compute the ensemble prediction\n",
    "        return ... # your code here"
   ]
  },
  {
   "cell_type": "markdown",
   "metadata": {},
   "source": [
    "# Evaluation of Density and Decision Forest"
   ]
  },
  {
   "cell_type": "code",
   "execution_count": null,
   "metadata": {
    "jupyter": {
     "outputs_hidden": true
    }
   },
   "outputs": [],
   "source": [
    "# train forests (with 20 trees per forest), plot training error confusion matrices, and comment on your results\n",
    "... # your code here"
   ]
  }
 ],
 "metadata": {
  "kernelspec": {
   "display_name": "Python 3",
   "language": "python",
   "name": "python3"
  },
  "language_info": {
   "codemirror_mode": {
    "name": "ipython",
    "version": 3
   },
   "file_extension": ".py",
   "mimetype": "text/x-python",
   "name": "python",
   "nbconvert_exporter": "python",
   "pygments_lexer": "ipython3",
   "version": "3.7.6"
  }
 },
 "nbformat": 4,
 "nbformat_minor": 4
}
