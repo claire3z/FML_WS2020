{
 "cells": [
  {
   "cell_type": "markdown",
   "metadata": {},
   "source": [
    "# Claire's Node: Decision Tree ONLY"
   ]
  },
  {
   "cell_type": "code",
   "execution_count": 1,
   "metadata": {},
   "outputs": [],
   "source": [
    "# import modules\n",
    "import numpy as np\n",
    "from sklearn.datasets import load_digits\n"
   ]
  },
  {
   "cell_type": "code",
   "execution_count": 2,
   "metadata": {},
   "outputs": [],
   "source": [
    "# base classes\n",
    "\n",
    "class Node:\n",
    "    def __init__(self):\n",
    "        pass \n",
    "\n",
    "class Tree:\n",
    "    def __init__(self):\n",
    "        self.root = Node()\n",
    "    \n",
    "    def find_leaf(self, x):\n",
    "        node = self.root\n",
    "        while hasattr(node, \"feature\"): # leaf node has no 'feature' attribute\n",
    "            j = node.feature\n",
    "            if x[j] <= node.threshold:\n",
    "                node = node.left\n",
    "            else:\n",
    "                node = node.right\n",
    "        return node"
   ]
  },
  {
   "cell_type": "markdown",
   "metadata": {},
   "source": [
    "# Density Tree"
   ]
  },
  {
   "cell_type": "code",
   "execution_count": null,
   "metadata": {},
   "outputs": [],
   "source": []
  },
  {
   "cell_type": "code",
   "execution_count": null,
   "metadata": {},
   "outputs": [],
   "source": []
  },
  {
   "cell_type": "code",
   "execution_count": null,
   "metadata": {},
   "outputs": [],
   "source": []
  },
  {
   "cell_type": "markdown",
   "metadata": {},
   "source": [
    "# Decision Tree"
   ]
  },
  {
   "cell_type": "code",
   "execution_count": 3,
   "metadata": {
    "jupyter": {
     "outputs_hidden": true
    }
   },
   "outputs": [],
   "source": [
    "class DecisionTree(Tree):\n",
    "    def __init__(self):\n",
    "        super(DecisionTree, self).__init__()\n",
    "        \n",
    "    def train(self, data, labels, n_min=20):\n",
    "        '''\n",
    "        data: the feature matrix for all digits\n",
    "        labels: the corresponding ground-truth responses\n",
    "        n_min: termination criterion (don't split if a node contains fewer instances)\n",
    "        '''\n",
    "        N, D = data.shape\n",
    "        D_try = int(np.sqrt(D)) # how many features to consider for each split decision\n",
    "\n",
    "        # initialize the root node\n",
    "        self.root.data = data\n",
    "        self.root.labels = labels\n",
    "        \n",
    "        stack = [self.root]\n",
    "        while len(stack): \n",
    "            node = stack.pop()    # check the last node on the stack\n",
    "            \n",
    "            #print(\"Node >>> \", node.data.shape)\n",
    "            \n",
    "            n = node.data.shape[0]    # number of instances in present node\n",
    "            if n >= n_min and not node_is_pure(node):\n",
    "                # Call 'make_decision_split_node()' with 'D_try' randomly selected feature indices. \n",
    "                # This turns 'node' into a split node and returns the two children, which must be placed on the 'stack'.\n",
    "                feature_indices = np.random.permutation(D)[:D_try]\n",
    "                left, right = make_decision_split_node(node, feature_indices)\n",
    "                if left is not None:\n",
    "                    stack.append(left)\n",
    "                    stack.append(right)\n",
    "            else:\n",
    "                # Call 'make_decision_leaf_node()' to turn 'node' into a leaf node.\n",
    "                if (node.labels.size > 0):\n",
    "                    make_decision_leaf_node(node)\n",
    "                \n",
    "                \n",
    "    def predict(self, x): # here x is single data point\n",
    "        \n",
    "        leaf = self.find_leaf(x)\n",
    "        # compute p(y | x) --> why do we need this here???\n",
    "        # posterior = np.sum(leaf.labels==leaf.response)/leaf.N\n",
    "\n",
    "        return leaf.response #, posterior # your code here"
   ]
  },
  {
   "cell_type": "code",
   "execution_count": 4,
   "metadata": {
    "jupyter": {
     "outputs_hidden": true
    }
   },
   "outputs": [],
   "source": [
    "def calc_gini(labels):\n",
    "    \"Calculate gini impurity score for a given set of labels\"\n",
    "    counts = np.unique(labels,return_counts=True)[1]\n",
    "    gini_impurity = 1-np.square(counts / counts.sum()).sum() \n",
    "    \n",
    "    return gini_impurity\n",
    "\n",
    "\n",
    "def make_decision_split_node(node, feature_indices):\n",
    "    '''\n",
    "    node: the node to be split\n",
    "    feature_indices: a numpy array of length 'D_try', containing the feature \n",
    "                     indices to be considered in the present split\n",
    "    '''\n",
    "    n, D = node.data.shape\n",
    "\n",
    "    # find best feature j (among 'feature_indices') and best threshold t for the split\n",
    "    j_min, t_min = None, None\n",
    "    \n",
    "    gini_parent = calc_gini(node.labels)\n",
    "    gini_min = gini_parent*n\n",
    "    \n",
    "    for j in feature_indices:\n",
    "        # Hint: For each feature considered, first remove duplicate feature values using 'np.unique()'. \n",
    "        # Describe here why this is necessary --> this reduces the computation of looping over all training data to test all the mid-points in-between, where a lot of these pixels are of the same values\n",
    "        data_unique = np.unique(node.data[:, j])\n",
    "        \n",
    "        # Compute candidate thresholds\n",
    "        tj = ((data_unique[1:]+data_unique[:-1])/2).astype(int)\n",
    "        \n",
    "        # Illustration: for loop - hint: vectorized version is possible\n",
    "        for t in tj:\n",
    "            left_indices = np.nonzero(node.data[:, j] <= t)[0] \n",
    "            right_indices = np.nonzero(node.data[:, j] > t)[0]\n",
    "            \n",
    "            # Compute the gini score for children\n",
    "            gini_left = calc_gini(node.labels[left_indices])\n",
    "            gini_right = calc_gini(node.labels[right_indices])\n",
    "            \n",
    "            # choose the best threshold with minimize the sum of children's gini scores\n",
    "            if gini_left*len(left_indices) + gini_right*len(right_indices) < gini_min:\n",
    "                gini_min = gini_left*len(left_indices) + gini_right*len(right_indices)\n",
    "                j_min = j\n",
    "                t_min = t\n",
    "                left_min = left_indices\n",
    "                right_min = right_indices\n",
    "            \n",
    "    # create children\n",
    "    left = Node()\n",
    "    right = Node()\n",
    "\n",
    "    # initialize 'left' and 'right' with the data subsets and labels according to the optimal split found above\n",
    "    left.data = node.data[left_min,:] # data in left node\n",
    "    left.labels = node.labels[left_min] # corresponding labels\n",
    "    right.data = node.data[right_min,:]\n",
    "    right.labels = node.labels[right_min]\n",
    "\n",
    "    # turn the current 'node' into a split node (store children and split condition)\n",
    "    node.left = left\n",
    "    node.right = right\n",
    "    node.feature = j_min\n",
    "    node.threshold = t_min\n",
    "\n",
    "    # return the children (to be placed on the stack)\n",
    "    return left, right    \n",
    "\n"
   ]
  },
  {
   "cell_type": "code",
   "execution_count": 5,
   "metadata": {
    "jupyter": {
     "outputs_hidden": true
    }
   },
   "outputs": [],
   "source": [
    "def make_decision_leaf_node(node):\n",
    "    '''\n",
    "    node: the node to become a leaf\n",
    "    '''\n",
    "    # compute and store leaf response\n",
    "    node.N = node.labels.size # why do we need this???\n",
    "    node.response = max(set(node.labels), key=list(node.labels).count)\n",
    "    posterior = max(np.unique(node.labels,return_counts=True)[1])/node.N\n",
    "    # print('\\tleaf_node: response={},N={},posterior={}'.format(node.response, node.N,posterior))    \n",
    "    "
   ]
  },
  {
   "cell_type": "code",
   "execution_count": 6,
   "metadata": {
    "jupyter": {
     "outputs_hidden": true
    }
   },
   "outputs": [],
   "source": [
    "def node_is_pure(node):\n",
    "    '''\n",
    "    check if 'node' ontains only instances of the same digit\n",
    "    '''\n",
    "    assert hasattr(node, 'labels'), 'current node has no labels'\n",
    "    classes = np.unique(node.labels) # returns an array of unique labels, i.e. classes \n",
    "    return len(classes) == 1 \n"
   ]
  },
  {
   "cell_type": "markdown",
   "metadata": {},
   "source": [
    "# Evaluation of Density and Decision Tree"
   ]
  },
  {
   "cell_type": "code",
   "execution_count": 7,
   "metadata": {
    "jupyter": {
     "outputs_hidden": true
    }
   },
   "outputs": [
    {
     "name": "stdout",
     "output_type": "stream",
     "text": [
      "(1797, 64) (1797,)\n"
     ]
    }
   ],
   "source": [
    "# read and prepare the digits data\n",
    "# your code here\n",
    "\n",
    "from sklearn.datasets import load_digits\n",
    "digits = load_digits()\n",
    "data = digits[\"data\"]\n",
    "labels = digits[\"target\"]\n",
    "\n",
    "print(data.shape, labels.shape)\n"
   ]
  },
  {
   "cell_type": "code",
   "execution_count": 8,
   "metadata": {
    "jupyter": {
     "outputs_hidden": true
    }
   },
   "outputs": [],
   "source": [
    "# train trees, plot training error confusion matrices, and comment on your results\n",
    "# your code here\n",
    "\n",
    "decision_tree = DecisionTree()\n",
    "decision_tree.train(data, labels)"
   ]
  },
  {
   "cell_type": "code",
   "execution_count": 9,
   "metadata": {},
   "outputs": [
    {
     "name": "stdout",
     "output_type": "stream",
     "text": [
      "Confusion Matrix - Prediction Accuracy Training\n"
     ]
    },
    {
     "data": {
      "image/png": "[encoded data removed]",
      "text/plain": [
       "<Figure size 432x288 with 1 Axes>"
      ]
     },
     "metadata": {
      "needs_background": "light"
     },
     "output_type": "display_data"
    }
   ],
   "source": [
    "\n",
    "from sklearn.metrics import confusion_matrix\n",
    "\n",
    "predictions = []\n",
    "for x in data:\n",
    "    predictions.append(decision_tree.predict(x))\n",
    "\n",
    "rebase = np.unique(labels,return_counts=True)[1]\n",
    "confusion = confusion_matrix(labels, predictions) / rebase *100\n",
    "\n",
    "from seaborn import heatmap\n",
    "heatmap(confusion,annot=True,fmt=\".1f\",cbar=False) \n",
    "print(\"Confusion Matrix - Prediction Accuracy Training\")"
   ]
  },
  {
   "cell_type": "markdown",
   "metadata": {},
   "source": [
    "# Density and Decision Forest"
   ]
  },
  {
   "cell_type": "code",
   "execution_count": null,
   "metadata": {
    "jupyter": {
     "outputs_hidden": true
    }
   },
   "outputs": [],
   "source": []
  },
  {
   "cell_type": "code",
   "execution_count": 13,
   "metadata": {
    "jupyter": {
     "outputs_hidden": true
    }
   },
   "outputs": [],
   "source": [
    "class DecisionForest():\n",
    "    def __init__(self, n_trees):\n",
    "        # create ensemble\n",
    "        self.trees = [DecisionTree() for i in range(n_trees)]\n",
    "        self.n_trees = n_trees\n",
    "    \n",
    "    def train(self, data, labels, n_min=0):\n",
    "        N_total = len(labels)\n",
    "        N_subset = int(0.368*N_total)\n",
    "        for tree in self.trees:\n",
    "            # train each tree, using a bootstrap sample of the data\n",
    "            subset_indices = np.random.permutation(N_total)[:N_subset]\n",
    "            tree.train(data[subset_indices], labels[subset_indices])\n",
    "            \n",
    "    def predict(self, x):\n",
    "        # compute the ensemble prediction\n",
    "        prediction = []\n",
    "        for tree in self.trees:\n",
    "            prediction.append(tree.predict(x))\n",
    "        \n",
    "        result = max(set(prediction), key=prediction.count)\n",
    "        return result # your code here"
   ]
  },
  {
   "cell_type": "markdown",
   "metadata": {},
   "source": [
    "# Evaluation of Density and Decision Forest"
   ]
  },
  {
   "cell_type": "code",
   "execution_count": 14,
   "metadata": {
    "jupyter": {
     "outputs_hidden": true
    }
   },
   "outputs": [
    {
     "name": "stdout",
     "output_type": "stream",
     "text": [
      "Confusion Forest - Prediction Accuracy Training\n"
     ]
    },
    {
     "data": {
      "image/png": "[encoded data removed]",
      "text/plain": [
       "<Figure size 432x288 with 1 Axes>"
      ]
     },
     "metadata": {
      "needs_background": "light"
     },
     "output_type": "display_data"
    }
   ],
   "source": [
    "# train forests (with 20 trees per forest), plot training error confusion matrices, and comment on your results\n",
    "# your code here\n",
    "\n",
    "decision_forest = DecisionForest(n_trees=20)\n",
    "\n",
    "decision_forest.train(data, labels)\n",
    "\n",
    "predictions = []\n",
    "for x in data:\n",
    "    predictions.append(decision_forest.predict(x))\n",
    "\n",
    "rebase = np.unique(labels,return_counts=True)[1]\n",
    "confusion_forest = confusion_matrix(labels, predictions) / rebase *100\n",
    "\n",
    "heatmap(confusion_forest,annot=True,fmt=\".1f\",cbar=False) \n",
    "print(\"Confusion Forest - Prediction Accuracy Training\")"
   ]
  }
 ],
 "metadata": {
  "kernelspec": {
   "display_name": "Python 3",
   "language": "python",
   "name": "python3"
  },
  "language_info": {
   "codemirror_mode": {
    "name": "ipython",
    "version": 3
   },
   "file_extension": ".py",
   "mimetype": "text/x-python",
   "name": "python",
   "nbconvert_exporter": "python",
   "pygments_lexer": "ipython3",
   "version": "3.7.6"
  }
 },
 "nbformat": 4,
 "nbformat_minor": 4
}
