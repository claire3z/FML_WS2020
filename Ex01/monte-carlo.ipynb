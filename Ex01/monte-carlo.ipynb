{
 "cells": [
  {
   "cell_type": "code",
   "execution_count": 88,
   "metadata": {},
   "outputs": [],
   "source": [
    "import numpy as np\n",
    "import pandas as pd\n",
    "from random import choices\n",
    "import math\n",
    "import scipy.stats as st\n",
    "import matplotlib.pyplot as plt\n",
    "import statistics "
   ]
  },
  {
   "cell_type": "markdown",
   "metadata": {},
   "source": [
    "# exercise 1.1"
   ]
  },
  {
   "cell_type": "code",
   "execution_count": 62,
   "metadata": {},
   "outputs": [],
   "source": [
    "# parameters\n",
    "N = 500"
   ]
  },
  {
   "cell_type": "code",
   "execution_count": 63,
   "metadata": {},
   "outputs": [],
   "source": [
    "def create_data(N):\n",
    "    Y = np.array(choices([0,1],[0.5,0.5], k=N))\n",
    "    X = np.array([random.random() for p in range(0,N)] )\n",
    "    X = st.uniform.ppf(X) \n",
    "    return X,Y"
   ]
  },
  {
   "cell_type": "code",
   "execution_count": 69,
   "metadata": {},
   "outputs": [
    {
     "data": {
      "text/plain": [
       "(array([ 6.,  1.,  2.,  4.,  6.,  9., 10.,  2.,  2.,  7.,  5.,  8.,  7.,\n",
       "        13.,  5.,  6.,  5.,  3.,  5.,  5.,  4.,  8.,  3.,  4.,  5.,  3.,\n",
       "         3.,  5.,  3.,  5., 10.,  2.,  6.,  2.,  2.,  1.,  2.,  3.,  7.,\n",
       "         4.,  7.,  2.,  8.,  5.,  3.,  5.,  4.,  3.,  4.,  4.,  4., 12.,\n",
       "         6.,  6.,  5.,  5.,  2.,  3.,  2.,  5.,  5.,  3.,  6.,  8.,  2.,\n",
       "         3.,  5.,  3.,  5.,  4.,  7.,  3., 12.,  4.,  5.,  5.,  6.,  4.,\n",
       "        11.,  6.,  6.,  3.,  3.,  7.,  8.,  3.,  8.,  1.,  7.,  5.,  5.,\n",
       "         5.,  3.,  5.,  8.,  4.,  4.,  6.,  6.,  8.]),\n",
       " array([8.81676705e-04, 1.08462804e-02, 2.08108840e-02, 3.07754877e-02,\n",
       "        4.07400913e-02, 5.07046950e-02, 6.06692986e-02, 7.06339023e-02,\n",
       "        8.05985059e-02, 9.05631096e-02, 1.00527713e-01, 1.10492317e-01,\n",
       "        1.20456921e-01, 1.30421524e-01, 1.40386128e-01, 1.50350731e-01,\n",
       "        1.60315335e-01, 1.70279939e-01, 1.80244542e-01, 1.90209146e-01,\n",
       "        2.00173750e-01, 2.10138353e-01, 2.20102957e-01, 2.30067561e-01,\n",
       "        2.40032164e-01, 2.49996768e-01, 2.59961372e-01, 2.69925975e-01,\n",
       "        2.79890579e-01, 2.89855183e-01, 2.99819786e-01, 3.09784390e-01,\n",
       "        3.19748994e-01, 3.29713597e-01, 3.39678201e-01, 3.49642805e-01,\n",
       "        3.59607408e-01, 3.69572012e-01, 3.79536615e-01, 3.89501219e-01,\n",
       "        3.99465823e-01, 4.09430426e-01, 4.19395030e-01, 4.29359634e-01,\n",
       "        4.39324237e-01, 4.49288841e-01, 4.59253445e-01, 4.69218048e-01,\n",
       "        4.79182652e-01, 4.89147256e-01, 4.99111859e-01, 5.09076463e-01,\n",
       "        5.19041067e-01, 5.29005670e-01, 5.38970274e-01, 5.48934878e-01,\n",
       "        5.58899481e-01, 5.68864085e-01, 5.78828689e-01, 5.88793292e-01,\n",
       "        5.98757896e-01, 6.08722499e-01, 6.18687103e-01, 6.28651707e-01,\n",
       "        6.38616310e-01, 6.48580914e-01, 6.58545518e-01, 6.68510121e-01,\n",
       "        6.78474725e-01, 6.88439329e-01, 6.98403932e-01, 7.08368536e-01,\n",
       "        7.18333140e-01, 7.28297743e-01, 7.38262347e-01, 7.48226951e-01,\n",
       "        7.58191554e-01, 7.68156158e-01, 7.78120762e-01, 7.88085365e-01,\n",
       "        7.98049969e-01, 8.08014572e-01, 8.17979176e-01, 8.27943780e-01,\n",
       "        8.37908383e-01, 8.47872987e-01, 8.57837591e-01, 8.67802194e-01,\n",
       "        8.77766798e-01, 8.87731402e-01, 8.97696005e-01, 9.07660609e-01,\n",
       "        9.17625213e-01, 9.27589816e-01, 9.37554420e-01, 9.47519024e-01,\n",
       "        9.57483627e-01, 9.67448231e-01, 9.77412835e-01, 9.87377438e-01,\n",
       "        9.97342042e-01]),\n",
       " <a list of 100 Patch objects>)"
      ]
     },
     "execution_count": 69,
     "metadata": {},
     "output_type": "execute_result"
    },
    {
     "data": {
      "image/png": "[encoded data removed]",
      "text/plain": [
       "<Figure size 432x288 with 1 Axes>"
      ]
     },
     "metadata": {
      "needs_background": "light"
     },
     "output_type": "display_data"
    }
   ],
   "source": [
    "N_points = 100000\n",
    "n_bins = 100\n",
    "\n",
    "x, y = create_data(N)\n",
    "plt.hist(x, bins = 100)\n",
    "\n",
    "# fig, axs = plt.subplots(1, 2, sharey=True, tight_layout=True)\n",
    "# We can set the number of bins with the `bins` kwarg\n",
    "# axs[0].hist(x, bins=n_bins)\n",
    "# axs[1].hist(y, bins=n_bins)"
   ]
  },
  {
   "cell_type": "markdown",
   "metadata": {},
   "source": [
    "# exercise 1.2"
   ]
  },
  {
   "cell_type": "code",
   "execution_count": 77,
   "metadata": {},
   "outputs": [],
   "source": [
    "# parameters\n",
    "xt = 0.5 # thereshold\n",
    "M = [10,100,1000,10000] # size of the test size\n",
    "testset = 10 # test set size"
   ]
  },
  {
   "cell_type": "code",
   "execution_count": 80,
   "metadata": {},
   "outputs": [],
   "source": [
    "# rule A\n",
    "def cal_ya(x,xt):\n",
    "    lambd = lambda y: 0 if y < xt else 1\n",
    "    return [lambd(i) for i in x]\n",
    "\n",
    "# y = []\n",
    "# for i in x:\n",
    "#     if i < xt:\n",
    "#         y.append(0)\n",
    "#     else \n",
    "#         y.append(1)\n",
    "#     return y\n",
    "    \n",
    "# rule B\n",
    "def cal_yb(x,xt):\n",
    "    lambd = lambda y: 0 if y > xt else 1\n",
    "    return [lambd(i) for i in x]"
   ]
  },
  {
   "cell_type": "code",
   "execution_count": 81,
   "metadata": {},
   "outputs": [],
   "source": []
  },
  {
   "cell_type": "code",
   "execution_count": 83,
   "metadata": {},
   "outputs": [
    {
     "name": "stdout",
     "output_type": "stream",
     "text": [
      "0.25 0.75\n"
     ]
    }
   ],
   "source": [
    "# error \n",
    "pa = 1/4 + math.pow(xt - 0.5,2)\n",
    "pb = 3/4 - math.pow(xt - 0.5,2)\n",
    "print(pa, pb)"
   ]
  },
  {
   "cell_type": "code",
   "execution_count": 92,
   "metadata": {},
   "outputs": [],
   "source": [
    "std = []\n",
    "e_mean =[]\n",
    "\n",
    "for m in M:\n",
    "    error = []\n",
    "    for i in range(testset):\n",
    "        x,y = create_data(m)\n",
    "        error.append((y-cal_ya(x,xt)) + (y-cal_yb(x,xt))) \n",
    "    e_mean.append(np.mean(error))\n",
    "    std.append(np.std(error))\n",
    "        \n",
    "    "
   ]
  },
  {
   "cell_type": "code",
   "execution_count": 93,
   "metadata": {},
   "outputs": [
    {
     "data": {
      "text/plain": [
       "[-0.02, -0.002, -0.008, -0.00354]"
      ]
     },
     "execution_count": 93,
     "metadata": {},
     "output_type": "execute_result"
    }
   ],
   "source": [
    "e_mean"
   ]
  },
  {
   "cell_type": "code",
   "execution_count": 94,
   "metadata": {},
   "outputs": [
    {
     "data": {
      "text/plain": [
       "[0.999799979995999, 0.999997999998, 0.9999679994879836, 0.9999937341803696]"
      ]
     },
     "execution_count": 94,
     "metadata": {},
     "output_type": "execute_result"
    }
   ],
   "source": [
    "std"
   ]
  },
  {
   "cell_type": "markdown",
   "metadata": {},
   "source": [
    "# exercise 1.3"
   ]
  },
  {
   "cell_type": "code",
   "execution_count": 120,
   "metadata": {},
   "outputs": [],
   "source": [
    "# rule C\n",
    "def cal_yc(x):\n",
    "    return np.array(choices([0.0,1.0],[0.5,0.5], k=len(x)))\n",
    "# rule D\n",
    "def cal_yd(x):\n",
    "    arr = np.empty(len(x))\n",
    "    arr.fill(1)\n",
    "    return arr"
   ]
  },
  {
   "cell_type": "code",
   "execution_count": 122,
   "metadata": {},
   "outputs": [
    {
     "name": "stdout",
     "output_type": "stream",
     "text": [
      "[-0.01, -0.013, 0.0001, -0.00051] [-0.5, -0.488, -0.5022, -0.50131] [0.6707458535093603, 0.6905295069727287, 0.7059036690654045, 0.7078910508687053] [0.5, 0.49985597925802594, 0.49999515997657423, 0.4999982838970549]\n"
     ]
    }
   ],
   "source": [
    "std_c = []\n",
    "std_d = []\n",
    "e_mean_c =[]\n",
    "e_mean_d =[]\n",
    "for m in M:\n",
    "    error_c = []\n",
    "    error_d = []\n",
    "    for i in range(testset):\n",
    "        x,y = create_data(m)\n",
    "        error_c.append(y-cal_yc(x))\n",
    "        error_d.append(y-cal_yd(x)) \n",
    "    e_mean_c.append(np.mean(error_c))\n",
    "    e_mean_d.append(np.mean(error_d))\n",
    "    std_c.append(np.std(error_c))\n",
    "    std_d.append(np.std(error_d))\n",
    "print(e_mean_c,e_mean_d, std_c,std_d)"
   ]
  },
  {
   "cell_type": "markdown",
   "metadata": {},
   "source": [
    "# exercise 1.4"
   ]
  },
  {
   "cell_type": "code",
   "execution_count": null,
   "metadata": {},
   "outputs": [],
   "source": []
  },
  {
   "cell_type": "code",
   "execution_count": null,
   "metadata": {},
   "outputs": [],
   "source": []
  },
  {
   "cell_type": "code",
   "execution_count": null,
   "metadata": {},
   "outputs": [],
   "source": []
  }
 ],
 "metadata": {
  "kernelspec": {
   "display_name": "Python 3",
   "language": "python",
   "name": "python3"
  },
  "language_info": {
   "codemirror_mode": {
    "name": "ipython",
    "version": 3
   },
   "file_extension": ".py",
   "mimetype": "text/x-python",
   "name": "python",
   "nbconvert_exporter": "python",
   "pygments_lexer": "ipython3",
   "version": "3.8.3"
  }
 },
 "nbformat": 4,
 "nbformat_minor": 4
}
