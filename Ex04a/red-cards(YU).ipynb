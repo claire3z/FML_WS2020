{
 "cells": [
  {
   "cell_type": "markdown",
   "metadata": {},
   "source": [
    "### 2 Model Creation (8 points)\n",
    "\n",
    "Given features Xi of player i, we want to predict $Y_i = N_{i,red} / N_i$, the fraction of games where the player will receive a red card. We will solve this problem using two model types: linear regression and regression forests.\n",
    "\n",
    "Implement both models and determine their squared test errors by means of cross-validation. Alternatively (or in addition to this will result in bonus points), you can also try to predict $Y_i = p(red | X_i)$ via the posterior of a classification model."
   ]
  },
  {
   "cell_type": "code",
   "execution_count": 11,
   "metadata": {},
   "outputs": [
    {
     "data": {
      "image/png": "[encoded data removed]",
      "text/plain": [
       "<Figure size 432x288 with 1 Axes>"
      ]
     },
     "metadata": {
      "needs_background": "light"
     },
     "output_type": "display_data"
    }
   ],
   "source": [
    "# Linear Regression\n",
    "\n",
    "from sklearn.linear_model import LinearRegression\n",
    "from sklearn.model_selection import cross_val_predict\n",
    "\n",
    "LR_model = LinearRegression()\n",
    "#LR_model.fit(X=features, y =redCards)\n",
    "\n",
    "#LR_MSE = np.square(LR_model.predict(X=features) - redCards).sum()\n",
    "#display(Markdown('Linear Regression MSE score = {:f}'.format(LR_MSE)))\n",
    "\n",
    "#prediction = LR_model.predict(X=features)\n",
    "#plt.plot(prediction-redCards,color='blue',marker='.',linewidth=0)\n",
    "#plt.title(\"Linear Regression - delta between prediction and actual\")\n",
    "#plt.xlabel('player index')\n",
    "#plt.ylabel('$N_{i,red} / N_i$')\n",
    "\n",
    "predicted = cross_val_predict(LR_model, X=features, y=redCards, cv=10)\n",
    "fig, ax = plt.subplots()\n",
    "ax.scatter(redCards, predicted, edgecolors=(0, 0, 0))\n",
    "ax.plot([redCards.min(), redCards.max()], [redCards.min(), redCards.max()], 'k--', lw=4)\n",
    "ax.set_xlabel('Measured')\n",
    "ax.set_ylabel('Predicted')\n",
    "ax.set_xlim((redCards.min(), redCards.max()))\n",
    "ax.set_ylim((redCards.min(), redCards.max()))\n",
    "\n",
    "plt.show()"
   ]
  },
  {
   "cell_type": "code",
   "execution_count": 14,
   "metadata": {},
   "outputs": [],
   "source": [
    "# Regression Forest\n",
    "\n",
    "class Node:\n",
    "    def __init__(self):\n",
    "        pass \n",
    "\n",
    "class Tree:\n",
    "    def __init__(self):\n",
    "        self.root = Node()\n",
    "    \n",
    "    def find_leaf(self, x):\n",
    "        node = self.root\n",
    "        while hasattr(node, \"feature\"): # leaf node has no 'feature' attribute\n",
    "            j = node.feature\n",
    "            if x[j] <= node.threshold:\n",
    "                node = node.left\n",
    "            else:\n",
    "                node = node.right\n",
    "        return node\n",
    "\n",
    "    \n",
    "class RegressionTree(Tree):\n",
    "    def __init__(self):\n",
    "        super(RegressionTree, self).__init__()\n",
    "        \n",
    "    def train(self, data, labels, n_min=20):\n",
    "        '''\n",
    "        data: the feature matrix for all digits\n",
    "        labels: the corresponding ground-truth responses\n",
    "        n_min: termination criterion (don't split if a node contains fewer instances)\n",
    "        '''\n",
    "        N, D = data.shape\n",
    "        D_try = int(np.sqrt(D)) # how many features to consider for each split decision\n",
    "\n",
    "        # initialize the root node\n",
    "        self.root.data = data\n",
    "        self.root.labels = labels\n",
    "        \n",
    "        stack = [self.root]\n",
    "        while len(stack): \n",
    "            node = stack.pop()    # check the last node on the stack\n",
    "            \n",
    "            #print(\"Node >>> \", node.data.shape)\n",
    "            \n",
    "            n = node.data.shape[0]    # number of instances in present node\n",
    "            if(n >= n_min):\n",
    "                # Call 'make_regression_split_node()' with 'D_try' randomly selected feature indices. \n",
    "                # This turns 'node' into a split node and returns the two children, which must be placed on the 'stack'.\n",
    "                feature_indices = np.random.permutation(D)[:D_try]\n",
    "                left, right = make_regression_split_node(node, feature_indices)\n",
    "                if left is not None:\n",
    "                    stack.append(left)\n",
    "                    stack.append(right)\n",
    "            else:\n",
    "                # Call 'make_regression_leaf_node()' to turn 'node' into a leaf node.\n",
    "                if (node.labels.size > 0):\n",
    "                    make_regression_leaf_node(node)\n",
    "                \n",
    "                \n",
    "    def predict(self, x): # here x is single data point        \n",
    "        leaf = self.find_leaf(x)\n",
    "        return leaf.response \n",
    "    \n",
    "\n",
    "def make_regression_split_node(node, feature_indices):\n",
    "    '''\n",
    "    node: the node to be split\n",
    "    feature_indices: a numpy array of length 'D_try', containing the feature \n",
    "                     indices to be considered in the present split\n",
    "    '''\n",
    "    n, D = node.data.shape\n",
    "\n",
    "    # find best feature j (among 'feature_indices') and best threshold t for the split\n",
    "    e_min = float(\"inf\")\n",
    "    j_min, t_min = 0, 0\n",
    "    \n",
    "   #for all features\n",
    "    for j in feature_indices:\n",
    "        # Hint: For each feature considered, first remove duplicate feature values using \n",
    "        # 'np.unique()'. \n",
    "        # This is necessary because candidate thresholds should be in the middle between \n",
    "        # consecutive feature values, not at any of the feature values.\n",
    "\n",
    "        # remove duplicate features\n",
    "        dj = np.sort(np.unique(node.data[:,j])) \n",
    "        # compute candidate thresholds in the middle between consecutive feature values\n",
    "        tj = (dj[1:] + dj[:-1]) / 2\n",
    "        \n",
    "        # each candidate threshold we need to compute leave-one-out error (looErr) of the resulting children node\n",
    "        for t in tj:\n",
    "            # compute the number of instances in left and right node \n",
    "            nl = np.sum(node.data[:,j] <= t) \n",
    "            ll = node.labels[node.data[:,j] <= t]\n",
    "            nr = n - nl\n",
    "            lr = node.labels[node.data[:,j] > t]\n",
    "            \n",
    "            el = ((ll-ll.mean())**2).sum()\n",
    "            er = ((lr-lr.mean())**2).sum()\n",
    "            # choose the best threshold that minimizes sum of looErr\n",
    "            loo_error = el + er\n",
    "            if loo_error < e_min:\n",
    "                e_min = loo_error\n",
    "                j_min = j\n",
    "                t_min = t\n",
    "\n",
    "\n",
    "    # create children\n",
    "    left = Node()\n",
    "    right = Node()\n",
    "    \n",
    "    # initialize 'left' and 'right' with the data subsets and bounding boxes\n",
    "    # according to the optimal split found above\n",
    "    left.data = node.data[node.data[:,j_min] <= t_min, :]\n",
    "    left.labels = node.labels[node.data[:,j_min] <= t_min]\n",
    "    right.data = node.data[node.data[:,j_min] > t_min, :]\n",
    "    right.labels = node.labels[node.data[:,j_min] > t_min]\n",
    "    \n",
    "    # turn the current 'node' into a split node\n",
    "    # (store children and split condition)\n",
    "    node.left = left\n",
    "    node.right = right\n",
    "    node.feature = j_min\n",
    "    node.threshold = t_min\n",
    "\n",
    "    # return the children (to be placed on the stack)\n",
    "    return left, right \n",
    "\n",
    "\n",
    "def make_regression_leaf_node(node):\n",
    "    '''\n",
    "    node: the node to become a leaf\n",
    "    '''\n",
    "    # compute and store leaf response\n",
    "    node.N = node.labels.shape[0]\n",
    "\n",
    "    # The response of leaf bl is the average response of the training instances assigned to this leaf\n",
    "    node.response = node.labels.mean()\n",
    "    \n"
   ]
  },
  {
   "cell_type": "code",
   "execution_count": 19,
   "metadata": {},
   "outputs": [
    {
     "data": {
      "text/plain": [
       "(1419, 120)"
      ]
     },
     "metadata": {},
     "output_type": "display_data"
    },
    {
     "data": {
      "text/plain": [
       "(1419,)"
      ]
     },
     "metadata": {},
     "output_type": "display_data"
    },
    {
     "data": {
      "text/plain": [
       "Text(0, 0.5, '$N_{i,red} / N_i$')"
      ]
     },
     "execution_count": 19,
     "metadata": {},
     "output_type": "execute_result"
    },
    {
     "data": {
      "image/png": "[encoded data removed]",
      "text/plain": [
       "<Figure size 432x288 with 1 Axes>"
      ]
     },
     "metadata": {
      "needs_background": "light"
     },
     "output_type": "display_data"
    }
   ],
   "source": [
    "data = features.to_numpy()\n",
    "labels = redCards.to_numpy()\n",
    "\n",
    "display(data.shape, labels.shape)\n",
    "regression_tree = RegressionTree()\n",
    "regression_tree.train(data, labels)\n",
    "\n",
    "\n",
    "predictions = []\n",
    "for x in data:\n",
    "    predictions.append(regression_tree.predict(x))\n",
    "\n",
    "plt.plot(np.array(predictions)-redCards,color='blue',marker='.',linewidth=0)\n",
    "plt.title(\"Regression Tree - delta between prediction and actual\")\n",
    "plt.xlabel('player index ')\n",
    "plt.ylabel('$N_{i,red} / N_i$')\n"
   ]
  }
 ],
 "metadata": {
  "kernelspec": {
   "display_name": "Python 3",
   "language": "python",
   "name": "python3"
  },
  "language_info": {
   "codemirror_mode": {
    "name": "ipython",
    "version": 3
   },
   "file_extension": ".py",
   "mimetype": "text/x-python",
   "name": "python",
   "nbconvert_exporter": "python",
   "pygments_lexer": "ipython3",
   "version": "3.8.5"
  }
 },
 "nbformat": 4,
 "nbformat_minor": 4
}
