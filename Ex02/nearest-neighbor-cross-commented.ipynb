{
 "cells": [
  {
   "cell_type": "markdown",
   "metadata": {
    "id": "yYIImLeFhEW8"
   },
   "source": [
    "### 3.1 Exploring the data\n"
   ]
  },
  {
   "cell_type": "code",
   "execution_count": 1,
   "metadata": {
    "id": "uWobwPwAfKI8"
   },
   "outputs": [],
   "source": [
    "from sklearn.datasets import load_digits\n",
    "import numpy as np\n",
    "import matplotlib.pyplot as plt\n",
    "from sklearn import model_selection"
   ]
  },
  {
   "cell_type": "code",
   "execution_count": 2,
   "metadata": {
    "id": "KwPi02mRfM-_"
   },
   "outputs": [],
   "source": [
    "digits = load_digits ()\n"
   ]
  },
  {
   "cell_type": "code",
   "execution_count": 3,
   "metadata": {
    "colab": {
     "base_uri": "https://localhost:8080/"
    },
    "id": "UTh0wNRBfPYS",
    "outputId": "f3cc52e2-dfe7-43b9-f840-ec61fdbf496f"
   },
   "outputs": [
    {
     "name": "stdout",
     "output_type": "stream",
     "text": [
      "dict_keys(['data', 'target', 'frame', 'feature_names', 'target_names', 'images', 'DESCR'])\n"
     ]
    }
   ],
   "source": [
    "print(digits.keys())\n"
   ]
  },
  {
   "cell_type": "code",
   "execution_count": 4,
   "metadata": {
    "id": "NwwQLNTxfRMG"
   },
   "outputs": [],
   "source": [
    "data = digits[\"data\"]\n",
    "images = digits[\"images\"]\n",
    "target = digits[\"target\"]\n",
    "target_names = digits[\"target_names\"]\n"
   ]
  },
  {
   "cell_type": "code",
   "execution_count": 5,
   "metadata": {
    "colab": {
     "base_uri": "https://localhost:8080/"
    },
    "id": "LGwXGpDwfjUe",
    "outputId": "33180f95-a7de-4695-c79e-f3a08e2e5fc4"
   },
   "outputs": [
    {
     "name": "stdout",
     "output_type": "stream",
     "text": [
      "float64\n"
     ]
    },
    {
     "data": {
      "text/plain": [
       "(1797, 64)"
      ]
     },
     "execution_count": 5,
     "metadata": {},
     "output_type": "execute_result"
    }
   ],
   "source": [
    "print(data.dtype)\n",
    "np.shape(data)\n"
   ]
  },
  {
   "cell_type": "markdown",
   "metadata": {
    "id": "S-PXHlWNhc_3"
   },
   "source": [
    "Each of the 1797 pictures is composed of 64 pixels"
   ]
  },
  {
   "cell_type": "code",
   "execution_count": 6,
   "metadata": {
    "colab": {
     "base_uri": "https://localhost:8080/",
     "height": 265
    },
    "id": "-jbqyLhHf-oa",
    "outputId": "27ff7323-7304-4bfa-c70d-4d534d9fb150"
   },
   "outputs": [
    {
     "data": {
      "image/png": "[encoded data removed]",
      "text/plain": [
       "<Figure size 432x288 with 1 Axes>"
      ]
     },
     "metadata": {
      "needs_background": "light"
     },
     "output_type": "display_data"
    }
   ],
   "source": [
    "img = digits[\"images\"][3]\n",
    "\n",
    "assert2 = len(img.shape)\n",
    "plt.figure()\n",
    "plt.gray()\n",
    "plt.imshow(img ,interpolation = \"nearest\") # Possible interpolations =\" bicubic\", \"nearest\"\n",
    "plt.show()\n"
   ]
  },
  {
   "cell_type": "code",
   "execution_count": 7,
   "metadata": {
    "id": "re-V3rFXhnnI"
   },
   "outputs": [],
   "source": [
    "X_all = data\n",
    "y_all = target\n",
    "X_train , X_test , y_train , y_test = model_selection.train_test_split(digits.data, digits.target, test_size = 0.4, random_state = 0)\n"
   ]
  },
  {
   "cell_type": "code",
   "execution_count": 8,
   "metadata": {
    "colab": {
     "base_uri": "https://localhost:8080/"
    },
    "id": "J-LHAFAEh7F9",
    "outputId": "0e817fa5-6607-4f23-b9cf-8e00499ddf08"
   },
   "outputs": [
    {
     "name": "stdout",
     "output_type": "stream",
     "text": [
      "(1078, 64)\n",
      "(719, 64)\n"
     ]
    }
   ],
   "source": [
    "print(np.shape(X_train))\n",
    "print(np.shape(X_test))"
   ]
  },
  {
   "cell_type": "markdown",
   "metadata": {},
   "source": [
    "<span style =\"color: green; font-weight: bold;  \"> COMMENTS: It would better if images from both interpolation methods (nearest neightbour and bicubic) are displayed side by side for clear comparison. </span>"
   ]
  },
  {
   "cell_type": "markdown",
   "metadata": {
    "id": "JIhHdXiLQxNh"
   },
   "source": [
    "#### 3.2 Distance function computation using loops"
   ]
  },
  {
   "cell_type": "code",
   "execution_count": 9,
   "metadata": {
    "id": "_dxsjoSwQyDW"
   },
   "outputs": [],
   "source": [
    "def distance_matrix_loops(X_train, X_test):\n",
    "    \"\"\"\n",
    "    arguments -- X_train: training data (N x D)\n",
    "                 X_test: test data (M x D)\n",
    "    ----------------------------------------\n",
    "    output --   matrix = distance matrix of every pair of test-training points\n",
    "    \"\"\"\n",
    "\n",
    "    mat = np.zeros((np.shape(X_train)[0], np.shape(X_test)[0]))\n",
    "    for i in range(np.shape(X_train)[0]):\n",
    "      for j in range(0 ,np.shape(X_test)[0]):\n",
    "        mat[i][j] = np.linalg.norm(X_train[i] - X_test[j])\n",
    "    return mat\n"
   ]
  },
  {
   "cell_type": "markdown",
   "metadata": {},
   "source": [
    "<span style =\"color: green; font-weight: bold;  \"> COMMENTS: Slightly different from the suggested solution but results should be essentially correct. However, not sure whether 'np.linalg.norm' should be used here... </span>"
   ]
  },
  {
   "cell_type": "markdown",
   "metadata": {
    "id": "AKekjc3yGavB"
   },
   "source": [
    "#### 3.4 Vectorized implementation"
   ]
  },
  {
   "cell_type": "code",
   "execution_count": 10,
   "metadata": {
    "id": "8F9gm811GaMc"
   },
   "outputs": [],
   "source": [
    "#vectorized implementation\n",
    "def dist_vec(training, test):\n",
    "    \"\"\"\n",
    "    arguments -- training: training set of shape (N, D)\n",
    "                 testing: evaluation set of shape (M, D)\n",
    "    --------------------------------------\n",
    "    output: distance matrix of shape (N, M)\n",
    "    \"\"\" \n",
    "    return np.linalg.norm((training[:,None,:] - test[None,:,:]), axis=2) "
   ]
  },
  {
   "cell_type": "code",
   "execution_count": 11,
   "metadata": {
    "colab": {
     "base_uri": "https://localhost:8080/"
    },
    "id": "XgIva1rp270N",
    "outputId": "29f2a895-cec4-49ec-f1b9-17b86053b81d"
   },
   "outputs": [
    {
     "name": "stdout",
     "output_type": "stream",
     "text": [
      "261 ms ± 31.6 ms per loop (mean ± std. dev. of 7 runs, 1 loop each)\n"
     ]
    }
   ],
   "source": [
    "%timeit dist_vec(X_train, X_test) "
   ]
  },
  {
   "cell_type": "code",
   "execution_count": 12,
   "metadata": {
    "colab": {
     "base_uri": "https://localhost:8080/"
    },
    "id": "HErYmhSD3HPZ",
    "outputId": "72410b25-67c9-413d-9a88-35391da4dea5"
   },
   "outputs": [
    {
     "name": "stdout",
     "output_type": "stream",
     "text": [
      "4.02 s ± 87 ms per loop (mean ± std. dev. of 7 runs, 1 loop each)\n"
     ]
    }
   ],
   "source": [
    "%timeit distance_matrix_loops(X_train, X_test)"
   ]
  },
  {
   "cell_type": "markdown",
   "metadata": {
    "id": "DU4m4FAn3WAb"
   },
   "source": [
    "We can see that the vectorized implementation is significantly faster."
   ]
  },
  {
   "cell_type": "markdown",
   "metadata": {},
   "source": [
    "<span style =\"color: green; font-weight: bold\"> COMMENTS: Very smart and element vector implementation! Respect!!!</span>"
   ]
  },
  {
   "cell_type": "markdown",
   "metadata": {
    "id": "U1pFK6OxC-Hq"
   },
   "source": [
    "#### Implementation of the K-NN classifier\n"
   ]
  },
  {
   "cell_type": "code",
   "execution_count": 13,
   "metadata": {
    "id": "bv0agX6kkq2t"
   },
   "outputs": [],
   "source": [
    "def k_NN_classifier(X_train_local, Y_train_local, X_test_local,k):\n",
    "    \"\"\"\n",
    "    auguments -- X_train_local : features training set (NxD)\n",
    "                 Y_train_local : responses trainig set (1xN)\n",
    "                 x_test_local : an array of testing data points (MxD)\n",
    "                 k : number of NN to include in the set\n",
    "    --------------------------------------------------------------\n",
    "    output : np array of label predictions\n",
    "    \"\"\"\n",
    "    Yassigned = []\n",
    "    #distance_matrix = distance_matrix_loops(X_train_local, X_test_local)   #Using loops\n",
    "    distance_matrix = dist_vec(X_train_local, X_test_local)    #Using vectorized approach\n",
    "    for i in range(distance_matrix.shape[1]):\n",
    "      index = np.argsort(distance_matrix[:,i])  #index corresponding to the shortest distance for instance i\n",
    "      y_selected = Y_train_local[index][:k]\n",
    "      pred = np.bincount(y_selected).argmax()\n",
    "      Yassigned.append(pred) \n",
    "    Yassigned = np.array(Yassigned) \n",
    "    return Yassigned\n",
    "\n",
    "\n",
    "\n",
    "def accuracy(Yassig, y_test):  \n",
    "    return np.mean(Yassig == y_test)\n"
   ]
  },
  {
   "cell_type": "markdown",
   "metadata": {},
   "source": [
    "<span style =\"color: green; font-weight: bold\"> COMMENTS: Slightly different approach from the suggested solution but essentially correct nevertheless. We really like the use of np.bincount().argmax(). Good job!\n",
    "</span>\n"
   ]
  },
  {
   "cell_type": "code",
   "execution_count": 14,
   "metadata": {
    "colab": {
     "base_uri": "https://localhost:8080/"
    },
    "id": "fXs_7OQI02kV",
    "outputId": "6e4fc1de-7a92-452c-efa5-0afda9e09ad3"
   },
   "outputs": [
    {
     "name": "stdout",
     "output_type": "stream",
     "text": [
      "k = 1, accuracy = 0.9874826147426982\n",
      "k = 3, accuracy = 0.9847009735744089\n",
      "k = 5, accuracy = 0.9791376912378303\n",
      "k = 9, accuracy = 0.9735744089012517\n",
      "k = 17, accuracy = 0.9596662030598053\n",
      "k = 33, accuracy = 0.9457579972183588\n"
     ]
    }
   ],
   "source": [
    "#Accuracy of the classifier with all data (not filtered)\n",
    "k_values = [1, 3, 5, 9, 17, 33]\n",
    "\n",
    "for k in k_values:\n",
    "    Y_assigned = k_NN_classifier(X_train, y_train, X_test,k)\n",
    "    acc = accuracy(Y_assigned, y_test)\n",
    "    print('k = ' + str(k) + ', accuracy = ' + str(acc)  )"
   ]
  },
  {
   "cell_type": "code",
   "execution_count": null,
   "metadata": {
    "id": "Z3eRU4rXGm4f"
   },
   "outputs": [],
   "source": []
  },
  {
   "cell_type": "code",
   "execution_count": 15,
   "metadata": {
    "ExecuteTime": {
     "end_time": "2020-11-25T20:28:05.910932Z",
     "start_time": "2020-11-25T20:28:05.894974Z"
    },
    "id": "WzniisHgGOC-"
   },
   "outputs": [],
   "source": [
    "#Filter the data to get only 3 and 9 labels\n",
    "train_filter = (y_train == 3) | (y_train == 9)\n",
    "test_filter = (y_test == 3) | (y_test == 9)\n",
    "y_train_filtered = y_train[train_filter]\n",
    "y_test_filtered = y_test[test_filter]"
   ]
  },
  {
   "cell_type": "code",
   "execution_count": 16,
   "metadata": {
    "ExecuteTime": {
     "end_time": "2020-11-25T20:16:19.158974Z",
     "start_time": "2020-11-25T20:16:19.150000Z"
    },
    "id": "dtdjwmsSGOC-"
   },
   "outputs": [],
   "source": [
    "X_train_filtered = X_train[train_filter]  #X_train which contains either 3 or 9 \n",
    "X_test_filtered = X_test[test_filter]  #X_test which contains either 3 or 9"
   ]
  },
  {
   "cell_type": "code",
   "execution_count": 17,
   "metadata": {
    "colab": {
     "base_uri": "https://localhost:8080/"
    },
    "id": "mpQwfYDPGwMx",
    "outputId": "2d91f8f7-2cb1-4ad0-b2e3-5d07922cbba6"
   },
   "outputs": [
    {
     "name": "stdout",
     "output_type": "stream",
     "text": [
      "k = 1, accuracy = 0.9861111111111112\n",
      "k = 3, accuracy = 0.9930555555555556\n",
      "k = 5, accuracy = 0.9930555555555556\n",
      "k = 9, accuracy = 0.9930555555555556\n",
      "k = 17, accuracy = 0.9930555555555556\n",
      "k = 33, accuracy = 0.9791666666666666\n"
     ]
    }
   ],
   "source": [
    "k_values = [1, 3, 5, 9, 17, 33]\n",
    "\n",
    "for k in k_values:\n",
    "    Y_assigned = k_NN_classifier(X_train_filtered, y_train_filtered, X_test_filtered,k)\n",
    "    acc = accuracy(Y_assigned, y_test_filtered)\n",
    "    print('k = ' + str(k) + ', accuracy = ' + str(acc))"
   ]
  },
  {
   "cell_type": "markdown",
   "metadata": {
    "id": "VDshBb9Fvc5q"
   },
   "source": [
    "Testing the k-NN-classifier for all the data, we saw already that the accuracy got slower with k. Our reasoning for that result was that, with this kind of features (images), the firts NNs were always more accurate, and increasing k (number of NNs to take the average with) was just introducing errors. \\\\\n",
    "\n",
    "3 and 9, however, are very similar when represented as pixels in a picture. Therefore, increasing k does increase the accuracy at the beginning. There is a threshold value $k_{t}$, from which including the next NNs decreases the accuracy, for the same reason explained above."
   ]
  },
  {
   "cell_type": "code",
   "execution_count": 18,
   "metadata": {
    "colab": {
     "base_uri": "https://localhost:8080/"
    },
    "id": "ZGsBGNIOwN3c",
    "outputId": "2ae65e89-71b1-4ec0-a1d4-81333ed6caae"
   },
   "outputs": [
    {
     "name": "stdout",
     "output_type": "stream",
     "text": [
      "k = 55, accuracy = 0.9583333333333334\n",
      "k = 101, accuracy = 0.9513888888888888\n"
     ]
    }
   ],
   "source": [
    "#Other values of k, not for the exercise\n",
    "k_values = [55, 101]\n",
    "for k in k_values:\n",
    "    Y_assigned = k_NN_classifier(X_train_filtered, y_train_filtered, X_test_filtered,k)\n",
    "    acc = accuracy(Y_assigned, y_test_filtered)\n",
    "    print('k = ' + str(k) + ', accuracy = ' + str(acc))"
   ]
  },
  {
   "cell_type": "markdown",
   "metadata": {},
   "source": [
    "<span style =\"color: green; font-weight: bold\"> COMMENTS: Slightly different approach - showing accuracy instead of error rate. Also suggest to include a graph to visualize the results. </span>"
   ]
  },
  {
   "cell_type": "markdown",
   "metadata": {
    "id": "4plxTHXety2d"
   },
   "source": [
    "## 4. Cross validation"
   ]
  },
  {
   "cell_type": "code",
   "execution_count": 19,
   "metadata": {
    "id": "lHPUseDXTNaV"
   },
   "outputs": [],
   "source": [
    "#first we define a function to split the data into L folds\n",
    "\n",
    "def split_folds(data, target, L):\n",
    "    \"\"\"\n",
    "    auguments -- data : features training set (NxD)\n",
    "                 target : responses trainig set (1xN)\n",
    "                 L : number of folds to split the set to\n",
    "    --------------------------------------------------------------\n",
    "    output : matrix of folds of shape (L,N/L,D)\n",
    "    \"\"\"\n",
    "    shuffled_a = np.empty(data.shape, dtype=data.dtype)\n",
    "    shuffled_b = np.empty(target.shape, dtype=target.dtype)\n",
    "    permutation = np.random.permutation(len(data))\n",
    "    for old_index, new_index in enumerate(permutation):\n",
    "        shuffled_a[new_index,:] = data[old_index,:]\n",
    "        shuffled_b[new_index] = target[old_index]\n",
    "        \n",
    "    data_split = np.array_split(shuffled_a, L)  \n",
    "    target_split = np.array_split(shuffled_b,L)\n",
    "    return data_split, target_split"
   ]
  },
  {
   "cell_type": "code",
   "execution_count": 20,
   "metadata": {
    "id": "oSYr4ldJTY0e"
   },
   "outputs": [],
   "source": [
    "from sklearn.neighbors import KNeighborsClassifier\n",
    "\n",
    "#Now we define a function, which, using the split_folds() function,\n",
    "#performs the cross-validation for all possibilities of test set selection.\n",
    "\n",
    "def crossvalid_us(data_whole,target_whole,L,k):\n",
    "    #cross-validation using the k-NN classifier created by us\n",
    "    a, b = split_folds(data_whole,target_whole,L)\n",
    "    acc = []\n",
    "    for i in range(L):\n",
    "        test_x = a[i]\n",
    "        test_y = b[i]\n",
    "        train_x = a[1] if i==0 else a[0]\n",
    "        train_y = b[1] if i==0 else b[0]\n",
    "        for j in range(1,L):\n",
    "            if j == i:\n",
    "                continue\n",
    "            if i == 0 & j == 1:\n",
    "                continue\n",
    "            train_x = np.append(train_x,a[j],axis=0)\n",
    "            train_y = np.append(train_y,b[j],axis=0)\n",
    "        pred_y = k_NN_classifier(train_x,train_y,test_x,k)\n",
    "        acc.append(accuracy(pred_y,test_y))\n",
    "    return [np.mean(acc), np.std(acc)]\n",
    "\n",
    "def crossvalid_predef(data_whole,target_whole,L,k):\n",
    "    #cross-validation using the k-NN classifier from sklearn\n",
    "    a, b = split_folds(data_whole,target_whole,L)\n",
    "    acc = []\n",
    "    for i in range(L):\n",
    "        test_x = a[i]\n",
    "        test_y = b[i]\n",
    "        train_x = a[1] if i==0 else a[0]\n",
    "        train_y = b[1] if i==0 else b[0]\n",
    "        for j in range(1,L):\n",
    "            if j == i:\n",
    "                continue\n",
    "            if i == 0 & j == 1:\n",
    "                continue\n",
    "            train_x = np.append(train_x,a[j],axis=0)\n",
    "            train_y = np.append(train_y,b[j],axis=0)\n",
    "        neigh = KNeighborsClassifier(n_neighbors=k)\n",
    "        neigh.fit(train_x, train_y)\n",
    "        pred_y = neigh.predict(test_x)\n",
    "        acc.append(accuracy(pred_y,test_y))\n",
    "    return [np.mean(acc), np.std(acc)]\n"
   ]
  },
  {
   "cell_type": "markdown",
   "metadata": {
    "id": "T90V8EDuTgb7"
   },
   "source": [
    "Now we compute the accuracy for various $L$"
   ]
  },
  {
   "cell_type": "code",
   "execution_count": 21,
   "metadata": {
    "id": "9llypMruTk65"
   },
   "outputs": [],
   "source": [
    "mean_us = []\n",
    "mean_predef = []\n",
    "std_us = []\n",
    "std_predef = []\n",
    "for l in [2,5,6,10,20]:\n",
    "    res_us = crossvalid_us(data,target,l,1)\n",
    "    mean_us.append(res_us[0])\n",
    "    std_us.append(res_us[1])\n",
    "    res_predef = crossvalid_predef(data,target,l,1)\n",
    "    mean_predef.append(res_predef[0])\n",
    "    std_predef.append(res_predef[1])\n",
    "\n",
    "mean_usk = []\n",
    "mean_predefk = []\n",
    "std_usk = []\n",
    "std_predefk = []\n",
    "for l in [2,5,6,10,20]:\n",
    "    res_us = crossvalid_us(data,target,l,3)\n",
    "    mean_usk.append(res_us[0])\n",
    "    std_usk.append(res_us[1])\n",
    "    res_predefk = crossvalid_predef(data,target,l,3)\n",
    "    mean_predefk.append(res_predefk[0])\n",
    "    std_predefk.append(res_predefk[1])"
   ]
  },
  {
   "cell_type": "code",
   "execution_count": 22,
   "metadata": {
    "colab": {
     "base_uri": "https://localhost:8080/",
     "height": 297
    },
    "id": "F5QZwB2NTn5n",
    "outputId": "b8001ffa-5127-4bf5-8254-50c2cef999b4"
   },
   "outputs": [
    {
     "data": {
      "text/plain": [
       "<matplotlib.legend.Legend at 0x7ff52f5e8bb0>"
      ]
     },
     "execution_count": 22,
     "metadata": {},
     "output_type": "execute_result"
    },
    {
     "data": {
      "image/png": "[encoded data removed]",
      "text/plain": [
       "<Figure size 432x288 with 1 Axes>"
      ]
     },
     "metadata": {
      "needs_background": "light"
     },
     "output_type": "display_data"
    }
   ],
   "source": [
    "plt.plot([2,5,6,10,20],mean_predef, label = 'sklearn k=1')\n",
    "plt.plot([2,5,6,10,20],mean_us, label = 'our k=1')\n",
    "plt.plot([2,5,6,10,20],mean_predefk, label = 'sklearn k=3')\n",
    "plt.plot([2,5,6,10,20],mean_usk, label = 'our k=3')\n",
    "plt.xlabel('L')\n",
    "plt.ylabel('Mean accuracy')\n",
    "plt.legend()"
   ]
  },
  {
   "cell_type": "markdown",
   "metadata": {
    "id": "qV6f1RpRTqe2"
   },
   "source": [
    "On average, the accuracy increases with $L$, as with more folds we have a bigger train set."
   ]
  },
  {
   "cell_type": "code",
   "execution_count": 23,
   "metadata": {
    "colab": {
     "base_uri": "https://localhost:8080/",
     "height": 297
    },
    "id": "Te-r5NvrTtzo",
    "outputId": "380b362f-1d78-444c-aad9-c33e36163659"
   },
   "outputs": [
    {
     "data": {
      "text/plain": [
       "<matplotlib.legend.Legend at 0x7ff52f5c3280>"
      ]
     },
     "execution_count": 23,
     "metadata": {},
     "output_type": "execute_result"
    },
    {
     "data": {
      "image/png": "[encoded data removed]",
      "text/plain": [
       "<Figure size 432x288 with 1 Axes>"
      ]
     },
     "metadata": {
      "needs_background": "light"
     },
     "output_type": "display_data"
    }
   ],
   "source": [
    "plt.plot([2,5,6,10,20],std_predef, label = 'sklearn')\n",
    "plt.plot([2,5,6,10,20],std_us, label = 'our')\n",
    "plt.plot([2,5,6,10,20],std_predefk, label = 'sklearn k=3')\n",
    "plt.plot([2,5,6,10,20],std_usk, label = 'our k=3')\n",
    "plt.xlabel('L')\n",
    "plt.ylabel('Standard deviation of accuracy')\n",
    "plt.legend()"
   ]
  },
  {
   "cell_type": "markdown",
   "metadata": {
    "id": "pYz9LrnhTwcF"
   },
   "source": [
    "We see that the standard deviation increases with $L$, as with larger $L$ the test set size decreases, and so the testing results have greater variance. All in all- more folds $L$ give a bigger train set meaning a better algorithm, but smaller test set meaning larger uncertainity of the computed accuracy."
   ]
  },
  {
   "cell_type": "markdown",
   "metadata": {
    "id": "neia_6GCTzaR"
   },
   "source": [
    "<span style =\"color: green; font-weight: bold\"> COMMENTS: Correct obserations. Could improve by presenting the results in a table format as per suggested solution.\n",
    "</span>"
   ]
  }
 ],
 "metadata": {
  "colab": {
   "collapsed_sections": [],
   "name": "ex01b",
   "provenance": []
  },
  "kernelspec": {
   "display_name": "Python 3",
   "language": "python",
   "name": "python3"
  },
  "language_info": {
   "codemirror_mode": {
    "name": "ipython",
    "version": 3
   },
   "file_extension": ".py",
   "mimetype": "text/x-python",
   "name": "python",
   "nbconvert_exporter": "python",
   "pygments_lexer": "ipython3",
   "version": "3.7.6"
  }
 },
 "nbformat": 4,
 "nbformat_minor": 1
}
