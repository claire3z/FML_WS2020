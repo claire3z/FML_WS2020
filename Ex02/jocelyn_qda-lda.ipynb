{
 "cells": [
  {
   "cell_type": "markdown",
   "metadata": {},
   "source": [
    "# Fundamentals of Machine Learning - Exercise 2\n",
    "\n",
    "\n",
    "- Johannes Kammerer, Zhao Sun, Tong Yu"
   ]
  },
  {
   "cell_type": "code",
   "execution_count": 1,
   "metadata": {},
   "outputs": [],
   "source": [
    "import numpy as np\n",
    "import matplotlib.pyplot as plt\n",
    "import pandas as pd\n",
    "\n",
    "from sklearn.datasets import load_digits\n",
    "from sklearn import model_selection\n"
   ]
  },
  {
   "cell_type": "markdown",
   "metadata": {},
   "source": [
    "# 3 Data Preparation"
   ]
  },
  {
   "cell_type": "code",
   "execution_count": 11,
   "metadata": {},
   "outputs": [
    {
     "name": "stdout",
     "output_type": "stream",
     "text": [
      "dict_keys(['data', 'target', 'frame', 'feature_names', 'target_names', 'images', 'DESCR'])\n",
      "(1797, 64) float64\n",
      "(1797,) int64\n",
      "(361,)\n",
      "(361, 64)\n",
      "(216, 64) (145, 64)\n",
      "(216,) (145,)\n"
     ]
    }
   ],
   "source": [
    "digits = load_digits()\n",
    "\n",
    "print(digits.keys())\n",
    "\n",
    "data = digits[\"data\"]\n",
    "images = digits[\"images\"]\n",
    "target = digits[\"target\"]\n",
    "target_names = digits[\"target_names\"]\n",
    "\n",
    "print(data.shape,data.dtype)\n",
    "print(target.shape,target.dtype)\n",
    "# print(images.shape,images.dtype)\n",
    "# print(target_names.shape,target_names.dtype)\n",
    "\n",
    "# Filter out digits 1 and 7 from data set.\n",
    "target17 = np.hstack([target[target == 1],target[target == 7]])\n",
    "data17 = np.vstack([data[target == 1], data[target == 7]])\n",
    "\n",
    "print(target17.shape)\n",
    "print(data17.shape)\n",
    "\n",
    "# Separate the data into a training and a test set.\n",
    "X_train, X_test, y_train, y_test = model_selection.train_test_split(data17, target17, test_size = 0.4, random_state = 0)\n",
    "print(X_train.shape, X_test.shape)\n",
    "print(y_train.shape, y_test.shape)"
   ]
  },
  {
   "cell_type": "markdown",
   "metadata": {},
   "source": [
    "## 3.1 Dimension Reduction"
   ]
  },
  {
   "cell_type": "code",
   "execution_count": 3,
   "metadata": {},
   "outputs": [],
   "source": [
    "def reduce_dim(x):\n",
    "    \"\"\"\n",
    "    Feature Selection: select two features which have maximum variance\n",
    "    \n",
    "    params\n",
    "    ------\n",
    "    x : np.array of size #instances × 64\n",
    "    \n",
    "    returns \n",
    "    -------\n",
    "    new_x : np.array of size #instances × 2\n",
    "    \"\"\"\n",
    "    var_X = [np.var(x[:,i]) for i in range(x.shape[1])]\n",
    "    indices = np.argsort(var_X)\n",
    "    indices_re = indices[-2:]\n",
    "    new_x = np.transpose(np.vstack([x[:,indices_re[0]],x[:,indices_re[1]]]))\n",
    "    \n",
    "    return new_x\n",
    "    "
   ]
  },
  {
   "cell_type": "code",
   "execution_count": 4,
   "metadata": {},
   "outputs": [
    {
     "name": "stdout",
     "output_type": "stream",
     "text": [
      "(216, 2)\n",
      "(145, 2)\n"
     ]
    }
   ],
   "source": [
    "# Dimension reduction\n",
    "training_features = reduce_dim(X_train)\n",
    "test_features = reduce_dim(X_test)\n",
    "print(training_features.shape)\n",
    "print(test_features.shape)"
   ]
  },
  {
   "cell_type": "markdown",
   "metadata": {},
   "source": [
    "## 3.2 Scatterplot"
   ]
  },
  {
   "cell_type": "code",
   "execution_count": 5,
   "metadata": {},
   "outputs": [
    {
     "data": {
      "image/png": "[encoded data removed]",
      "text/plain": [
       "<Figure size 504x504 with 1 Axes>"
      ]
     },
     "metadata": {
      "needs_background": "light"
     },
     "output_type": "display_data"
    },
    {
     "data": {
      "text/plain": [
       "<Figure size 432x288 with 0 Axes>"
      ]
     },
     "metadata": {},
     "output_type": "display_data"
    }
   ],
   "source": [
    "# Scatterplot of training set\n",
    "fig = plt.figure(figsize = (7,7))\n",
    "plt.scatter(training_features[y_train == 1, 0],training_features[y_train == 1, 1], marker=\"o\", c=\"b\",label= \"1\")\n",
    "plt.scatter(training_features[y_train == 7, 0],training_features[y_train == 7, 1], marker=\"x\", c=\"r\",label= \"7\")\n",
    "plt.legend()\n",
    "plt.xlabel(\"feature_1\")\n",
    "plt.ylabel(\"feature_2\")\n",
    "plt.title(\"Scatterplot of training set\")\n",
    "plt.show()\n",
    "plt.tight_layout()"
   ]
  },
  {
   "cell_type": "code",
   "execution_count": 6,
   "metadata": {},
   "outputs": [
    {
     "data": {
      "image/png": "[encoded data removed]",
      "text/plain": [
       "<Figure size 504x504 with 1 Axes>"
      ]
     },
     "metadata": {
      "needs_background": "light"
     },
     "output_type": "display_data"
    }
   ],
   "source": [
    "# Scatterplot of test set\n",
    "fig = plt.figure(figsize = (7,7))\n",
    "plt.scatter(test_features[y_test == 1, 0],test_features[y_test == 1, 1], marker=\"o\", c=\"b\", label= \"1\")\n",
    "plt.scatter(test_features[y_test == 7, 0],test_features[y_test == 7, 1], marker=\"x\", c=\"r\", label= \"7\")\n",
    "plt.legend()\n",
    "plt.xlabel(\"feature_1\")\n",
    "plt.ylabel(\"feature_2\")\n",
    "plt.title(\"Scatterplot of test set\")\n",
    "plt.show()"
   ]
  },
  {
   "cell_type": "markdown",
   "metadata": {},
   "source": [
    "# 4 Nearest Mean\n",
    "## 4.1 Implement the nearest mean classifier"
   ]
  },
  {
   "cell_type": "code",
   "execution_count": 7,
   "metadata": {},
   "outputs": [],
   "source": [
    "def nearest_mean(training_features, training_labels, test_features):\n",
    "    \"\"\"\n",
    "    The nearest mean classifier\n",
    "    \n",
    "    params\n",
    "    ------\n",
    "    training_features : np.array of size #training × 2\n",
    "    training_labels : np.array of size #training × 1\n",
    "    test_features : np.array of size #test × 2\n",
    "    \n",
    "    returns \n",
    "    -------\n",
    "    predicted_labels : np.array of size #test\n",
    "    \"\"\"\n",
    "    \n",
    "    #Find the mean of 2D feature vecotors of each class in the training set\n",
    "    mean_1 = np.mean(training_features[training_labels == 1], axis = 0)\n",
    "    mean_7 = np.mean(training_features[training_labels == 7], axis = 0)\n",
    "    \n",
    "    #Compute distances between every test instance and mean of each class.\n",
    "    distance_1 = np.sqrt(np.sum((test_features - mean_1)**2, axis = 1))\n",
    "    distance_7 = np.sqrt(np.sum((test_features - mean_7)**2, axis = 1))\n",
    "    \n",
    "    predicted_labels = []\n",
    "    for i in range(len(test_features)):\n",
    "        if distance_1[i] < distance_7[i]:\n",
    "            predicted_labels.append(1)\n",
    "        else:\n",
    "            predicted_labels.append(7)\n",
    "    return predicted_labels"
   ]
  },
  {
   "cell_type": "code",
   "execution_count": 8,
   "metadata": {},
   "outputs": [
    {
     "name": "stdout",
     "output_type": "stream",
     "text": [
      "The accurancy of nearest mean classifier :0.9448275862068966\n"
     ]
    }
   ],
   "source": [
    "predicted_labels = nearest_mean(training_features, y_train, test_features)\n",
    "print('The accurancy of nearest mean classifier :{}'.format(np.mean(predicted_labels == y_test)))"
   ]
  },
  {
   "cell_type": "markdown",
   "metadata": {},
   "source": [
    "## 4.2 Visualize the decision regions"
   ]
  },
  {
   "cell_type": "code",
   "execution_count": null,
   "metadata": {},
   "outputs": [],
   "source": []
  },
  {
   "cell_type": "code",
   "execution_count": null,
   "metadata": {},
   "outputs": [],
   "source": []
  },
  {
   "cell_type": "markdown",
   "metadata": {},
   "source": [
    "# 5 QDA\n",
    "## 5.1 Implement QDA"
   ]
  },
  {
   "cell_type": "code",
   "execution_count": null,
   "metadata": {},
   "outputs": [],
   "source": [
    "y_train[y_train == 1] =0\n",
    "y_train[y_train == 7] =1"
   ]
  },
  {
   "cell_type": "code",
   "execution_count": 40,
   "metadata": {},
   "outputs": [],
   "source": [
    "def fit_qda(training_features, training_labels):\n",
    "    \"\"\"\n",
    "    The qda training\n",
    "    \n",
    "    params\n",
    "    ------\n",
    "    training_features : np.array of size N(#training) × D(feature dimension)\n",
    "    training_labels : np.array of size N(#training) × 1\n",
    "    \n",
    "    returns \n",
    "    -------\n",
    "    mu : np.array of size 2 × D(feature dimension)\n",
    "    covmat : np.array of size 2 × D × D\n",
    "    p : np.array of size: 1 × 2\n",
    "    \"\"\"\n",
    "    label = np.unique(training_labels)\n",
    "    D =label.shape[0]\n",
    "    \n",
    "    mu = np.zeros([2,D])\n",
    "    covmat = np.zeros([2,D,D])\n",
    "    p = np.zeros(2)\n",
    "    \n",
    "    for i in range(D):\n",
    "        features = training_features[training_labels == label[i]]\n",
    "        \n",
    "        mu[i] = np.mean(features, axis = 0)\n",
    "        covmat[i] = np.cov(features.T)\n",
    "        p[i] = features.shape[0]/training_features.shape[0]\n",
    "        \n",
    "    return mu, covmat, p"
   ]
  },
  {
   "cell_type": "code",
   "execution_count": 41,
   "metadata": {},
   "outputs": [
    {
     "name": "stdout",
     "output_type": "stream",
     "text": [
      "[[13.48148148 14.99074074]\n",
      " [ 2.30555556  2.49074074]]\n",
      "[[[ 8.08376601 -0.22914503]\n",
      "  [-0.22914503  3.2802873 ]]\n",
      "\n",
      " [[10.27024922 -0.11396677]\n",
      "  [-0.11396677 12.68215646]]]\n",
      "[0.5 0.5]\n"
     ]
    }
   ],
   "source": [
    "mu, covmat, p = fit_qda(training_features, y_train)\n",
    "print(mu)\n",
    "print(covmat)\n",
    "print(p)"
   ]
  },
  {
   "cell_type": "markdown",
   "metadata": {},
   "source": [
    "## 5.2 Implement QDA Prediction"
   ]
  },
  {
   "cell_type": "code",
   "execution_count": null,
   "metadata": {},
   "outputs": [],
   "source": []
  },
  {
   "cell_type": "code",
   "execution_count": null,
   "metadata": {},
   "outputs": [],
   "source": []
  },
  {
   "cell_type": "code",
   "execution_count": null,
   "metadata": {},
   "outputs": [],
   "source": []
  },
  {
   "cell_type": "code",
   "execution_count": null,
   "metadata": {},
   "outputs": [],
   "source": []
  },
  {
   "cell_type": "code",
   "execution_count": null,
   "metadata": {},
   "outputs": [],
   "source": []
  },
  {
   "cell_type": "code",
   "execution_count": null,
   "metadata": {},
   "outputs": [],
   "source": []
  }
 ],
 "metadata": {
  "kernelspec": {
   "display_name": "Python 3",
   "language": "python",
   "name": "python3"
  },
  "language_info": {
   "codemirror_mode": {
    "name": "ipython",
    "version": 3
   },
   "file_extension": ".py",
   "mimetype": "text/x-python",
   "name": "python",
   "nbconvert_exporter": "python",
   "pygments_lexer": "ipython3",
   "version": "3.8.5"
  }
 },
 "nbformat": 4,
 "nbformat_minor": 4
}
