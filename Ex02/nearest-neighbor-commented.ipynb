{
 "cells": [
  {
   "cell_type": "markdown",
   "metadata": {},
   "source": [
    "# Fundamentals of Machine Learning - Exercise 1b\n",
    "### Deadline: 27.11.2020, 16:00\n",
    "\n",
    "- Johannes Kammerer, Zhao Sun, Tong Yu\n"
   ]
  },
  {
   "cell_type": "code",
   "execution_count": 1,
   "metadata": {},
   "outputs": [],
   "source": [
    "import numpy as np\n",
    "import matplotlib.pyplot as plt\n",
    "from sklearn.datasets import load_digits\n",
    "from sklearn import model_selection\n",
    "from sklearn.neighbors import KNeighborsClassifier"
   ]
  },
  {
   "cell_type": "markdown",
   "metadata": {},
   "source": [
    "## 3 Nearest Neighbor Classification\n",
    "### 3.1 Exploring the Data (3 points)"
   ]
  },
  {
   "cell_type": "code",
   "execution_count": 2,
   "metadata": {},
   "outputs": [
    {
     "name": "stdout",
     "output_type": "stream",
     "text": [
      "dict_keys(['data', 'target', 'target_names', 'images', 'DESCR'])\n",
      "data.dype= float64\n",
      "data.shape= (1797, 64)\n",
      "COMMENTS: Size of these images is 8x8\n"
     ]
    },
    {
     "data": {
      "image/png": "[encoded data removed]",
      "text/plain": [
       "<Figure size 432x288 with 2 Axes>"
      ]
     },
     "metadata": {
      "needs_background": "light"
     },
     "output_type": "display_data"
    }
   ],
   "source": [
    "# Load the dataset from sklearn and extract the data:\n",
    "\n",
    "digits = load_digits()\n",
    "print(digits.keys())\n",
    "\n",
    "data = digits[\"data\"]\n",
    "images = digits[\"images\"]\n",
    "target = digits[\"target\"]\n",
    "target_names = digits[\"target_names\"]\n",
    "print('data.dype=',data.dtype)\n",
    "print('data.shape=',data.shape)\n",
    "m = int(data.shape[1]**0.5)\n",
    "print('COMMENTS: Size of these images is {}x{}'.format(m,m))\n",
    "\n",
    "img = data[3].reshape(m,m)\n",
    "assert 2 == len(img.shape)\n",
    "plt.figure()\n",
    "plt.gray()\n",
    "\n",
    "plt.subplot(1,2,1)\n",
    "plt.imshow(img, interpolation =\"nearest\") # also try interpolation =\" bicubic \"\n",
    "plt.title('Nearerest')\n",
    "\n",
    "plt.subplot(1,2,2)\n",
    "plt.imshow(img, interpolation =\"bicubic\") # also try interpolation =\" bicubic \"\n",
    "plt.title('Bicubic')\n",
    "\n",
    "plt.show()"
   ]
  },
  {
   "cell_type": "code",
   "execution_count": 3,
   "metadata": {},
   "outputs": [
    {
     "name": "stdout",
     "output_type": "stream",
     "text": [
      "training set size = 1078, test set size = 719\n"
     ]
    }
   ],
   "source": [
    "# Moreover, sklearn provides a convenient function to separate the data into a training and a test set.\n",
    "X_all = data\n",
    "y_all = target\n",
    "X_train, X_test, y_train, y_test = model_selection.train_test_split(digits.data, digits.target, test_size = 0.4, random_state = 0)\n",
    "\n",
    "# print(np.all(X_all == digits.data),np.all(y_all == digits.target))\n",
    "print('training set size = {}, test set size = {}'.format(X_train.shape[0],X_test.shape[0]))\n"
   ]
  },
  {
   "cell_type": "markdown",
   "metadata": {},
   "source": [
    "<span style =\"color: green; font-weight: bold;  \"> COMMENTS: Same as the solution provided. </span>"
   ]
  },
  {
   "cell_type": "markdown",
   "metadata": {},
   "source": [
    "### 3.2 Distance function computation using loops (3 points)"
   ]
  },
  {
   "cell_type": "code",
   "execution_count": 4,
   "metadata": {},
   "outputs": [],
   "source": [
    "# Naive implementation of the nearest neighbor classifier using loops\n",
    "\n",
    "def dist_loop(training, test):\n",
    "    \"\"\"\n",
    "    Computes the Euclidean distance between all instances in the training and test set (in the feature space). \n",
    "    Parameters:\n",
    "    ---------------------------------------\n",
    "    training: matrix of size N × D\n",
    "    test: matrix of size M × D \n",
    "    where D: pixels per image, N: size of training set, M: size of test set\n",
    "    \n",
    "    Return:\n",
    "    ---------------------------------------\n",
    "    A distance matrix of size N x M\n",
    "    \"\"\"\n",
    "    # numpy.square(), numpy.sum() and numpy.sqrt() or numpy.linalg.norm()\n",
    "\n",
    "    N,D = training.shape\n",
    "    M = test.shape[0]\n",
    "    dist = np.zeros([N,M])\n",
    "    \n",
    "    for i in range(N):\n",
    "        for j in range(M):\n",
    "            # dist[i,j] = np.sqrt(np.square(training[i] - test[j]).sum())  # alternatively\n",
    "            sum = 0\n",
    "            for k in range(D):\n",
    "                sum += (training[i,k] - test[j,k])**2\n",
    "            dist[i,j] = sum ** 0.5\n",
    "    \n",
    "    return dist\n"
   ]
  },
  {
   "cell_type": "code",
   "execution_count": 12,
   "metadata": {},
   "outputs": [],
   "source": [
    "# def dist_vec_old(training, test):\n",
    "#     N = training.shape[0]\n",
    "#     M = test.shape[0]\n",
    "    \n",
    "#     dist = np.zeros([N,M])\n",
    "#     for i in range(N):\n",
    "#         dist[i] = np.linalg.norm(training[i] - test, axis = 1) #Euclidean distance is the l2 norm\n",
    "#     return dist  \n",
    "\n",
    "#a= np.array([[1,0],[0,1],[1,1],[0,0]])\n",
    "#b = np.array([[0,1,1],[1,0,0]])\n",
    "#print(dist_vec(a,b.T))\n",
    "#print(np.all(dist_loop(a,b.T) == dist_vec_old(a,b.T)))\n",
    "#print(np.all(dist_vec(a,b.T) == dist_vec_old(a,b.T)))\n"
   ]
  },
  {
   "cell_type": "markdown",
   "metadata": {},
   "source": [
    "<span style =\"color: green; font-weight: bold;  \"> COMMENTS: Slightly different from the suggested solution; we have actually implemented a function with 3 loops that did not use any numpy methods at all to demonstrate a more prominant difference in terms of execution speed. </span>"
   ]
  },
  {
   "cell_type": "markdown",
   "metadata": {},
   "source": [
    "### 3.3 Distance function computation using vectorization (8 points)\n",
    "\n",
    "#### Compute distance between two matrixes\n",
    "Suppose Training set P : { $N \\times D$ }. Test set C : { $M \\times D$ }.<br/>   \n",
    "\n",
    "And tranining set: $P_i =[P_{i1}P_{i2}...P_{iD}]$, test set: $C_i =[C_{j1}C_{j2}... C_{jD}]$\n",
    "\n",
    "\n",
    "First, compute the distance  $dist(i,j)$ between $P_{i}$ and $C_{j}$:\n",
    "$$d(P_i,C_j) = \\sqrt{(P_{i1}-C_{j1})^2 +(P_{i2}-C_{j2})^2+...+(P_{iD}-C_{jD})^2}$$  \n",
    "$$=\\sqrt{(P_{i1}^2+ P_{i2}^2 +...+ P_{iD}^2) + (C_{j1}^2 + C_{j2}^2+...+ C_{jD}^2) - 2\\times(P_{i1}C_{j1} +P_{i2}C_{j2}+...P_{iD}C_{jD})}$$  \n",
    "$$=\\sqrt{||P_i||_2+||C_j||_2 - 2\\times P_iC_j^T}$$\n",
    "\n",
    "Then, compute the distance  $dist(i)$ between $P_{i}$ and matrix C:\n",
    "\n",
    "$$d(P_i) = \\sqrt{(||P_i||_2 ||P_i||_2 ... ||P_i||_2) + (||C_1||_2  ||C_2||_2 ... ||C_N||_2) - 2\\times P_iC^T}$$\n",
    "\n",
    "Finally, compute the distance dist between P and C:\n",
    "\n",
    "$$dist = \\sqrt{\\begin{bmatrix}\n",
    "||P_1||_2&||P_1||_2&\\cdots&||P_1||_2\\\\\n",
    "||P_2||_2&||P_2||_2&\\cdots&||P_2||_2\\\\\n",
    "\\vdots&\\vdots&\\ddots&\\vdots\\\\\n",
    "||P_M||_2&||P_M||_2&\\cdots&||P_M||_2\n",
    "\\end{bmatrix} + \n",
    "\\begin{bmatrix}\n",
    "||C_1||_2&||C_2||_2&\\cdots&||C_N||_2\\\\\n",
    "||C_1||_2&||C_2||_2&\\cdots&||C_N||_2\\\\\n",
    "\\vdots&\\vdots&\\ddots&\\vdots\\\\\n",
    "||C_1||_2&||C_2||_2&\\cdots&||C_N||_2\n",
    "\\end{bmatrix} - 2 \\times PC^T}$$\n",
    "\n",
    "\n"
   ]
  },
  {
   "cell_type": "code",
   "execution_count": 10,
   "metadata": {},
   "outputs": [],
   "source": [
    "def dist_vec(training, test):\n",
    "    \"\"\"\n",
    "    Computes the Euclidean distance between all instances in the training and test set (in the feature space). \n",
    "    Parameters:\n",
    "    ---------------------------------------\n",
    "    training: matrix of size N × D\n",
    "    test: matrix of size M × D \n",
    "    where D: pixels per image, N: size of training set, M: size of test set\n",
    "    \n",
    "    Return:\n",
    "    ---------------------------------------\n",
    "    A distance matrix of size N x M\n",
    "    \"\"\"\n",
    "\n",
    "    N = training.shape[0]\n",
    "    M = test.shape[0]\n",
    "    dist = np.zeros([N,M])\n",
    "    dist = np.sqrt(-2* np.dot(training, test.T)+ np.sum(np.square(test), axis =1) + np.transpose([np.sum(np.square(training), axis = 1)]))\n",
    "    \n",
    "    return dist"
   ]
  },
  {
   "cell_type": "code",
   "execution_count": 11,
   "metadata": {},
   "outputs": [
    {
     "name": "stdout",
     "output_type": "stream",
     "text": [
      "For the naive dist_loop function: \n",
      "38.9 s ± 262 ms per loop (mean ± std. dev. of 7 runs, 1 loop each)\n",
      "\n",
      "For the vectorized dist_vec function: \n",
      "17.1 ms ± 252 µs per loop (mean ± std. dev. of 7 runs, 100 loops each)\n"
     ]
    }
   ],
   "source": [
    "#a= np.array([[1,0],[0,1],[1,1],[0,0]])\n",
    "#b = np.array([[0,1,1],[1,0,0]])\n",
    "#print(dist_vec(a,b.T))\n",
    "#print(np.all(dist_loop(a,b.T) == dist_vec(a,b.T)))\n",
    "\n",
    "# print(np.all(dist_loop(X_train, X_test) == dist_vec(X_train, X_test)))\n",
    "\n",
    "print(\"For the naive dist_loop function: \")\n",
    "%timeit dist_loop(X_train, X_test)\n",
    "\n",
    "print(\"\\nFor the vectorized dist_vec function: \")\n",
    "%timeit dist_vec(X_train, X_test)"
   ]
  },
  {
   "cell_type": "markdown",
   "metadata": {},
   "source": [
    "<span style =\"color: green; font-weight: bold\"> COMMENTS: Same approach as the alternative solution provided. However, we really like the suggested approach using broadcasting. We also like the helper function to test if the two methods return the same results or close enough. Furthermore, we noticed another really smart and elegent implementation from our peer-validation group: >>> np.linalg.norm((training[:,None,:] - test[None,:,:]), axis=2). </span>"
   ]
  },
  {
   "cell_type": "markdown",
   "metadata": {},
   "source": [
    "### 3.4 Implement the k-nearest neighbor classifier (6 points)"
   ]
  },
  {
   "cell_type": "code",
   "execution_count": 13,
   "metadata": {},
   "outputs": [],
   "source": [
    "def knn_classifier(k, X_train, y_train, X_test):\n",
    "    \"\"\"\n",
    "    K-nearest neighbour classifier for arbitrary training set size.\n",
    "    \n",
    "    params\n",
    "    ------------------------------------------------\n",
    "    k: int, number of neighbours to be included in the majority vote\n",
    "    \n",
    "    X_train: np.array of size N x D consisting of N training data points each with D features \n",
    "    y_train: np.array of size N x 1 consisting of N labels for training data    \n",
    "    X_test: np.array of size M x D consisting of M test data points each with D features\n",
    "    \n",
    "    returns\n",
    "    -------------------------------------------------\n",
    "    y_predict: np.array of size M x 1 consisting of predicted class labels for X_test samples\n",
    "    \n",
    "    \"\"\"\n",
    "    N = X_train.shape[0]\n",
    "    M = X_test.shape[0]\n",
    "    y_predict = np.zeros(M)\n",
    "    \n",
    "    dist = dist_vec(X_train, X_test) # matrix of N x M\n",
    "    \n",
    "    k_indices = dist.argsort(axis = 0)[:k] # choose the top k rows \n",
    "    \n",
    "    for i in range(M):\n",
    "        # for each test point i\n",
    "        k_labels = y_train[k_indices[:,i]] \n",
    "        # print(i, k_labels)\n",
    "        labels, counts = np.unique(k_labels,return_counts=True)\n",
    "        idx = np.argmax(counts)\n",
    "        y_predict[i] = labels[idx]\n",
    "    \n",
    "    return y_predict\n",
    "\n",
    "# Test\n",
    "#k = 3\n",
    "#X_train = np.array([[10,0],[11,0],[12,0],[13,0],[20,1],[21,1],[22,1],[23,1],[24,1]])\n",
    "#y_train = np.array([0,0,0,0,1,1,1,1,1])\n",
    "#X_test = np.array([[15,2]])\n",
    "#knn_classifier(k, X_train, y_train, X_test)"
   ]
  },
  {
   "cell_type": "markdown",
   "metadata": {},
   "source": [
    "<span style =\"color: green; font-weight: bold\"> COMMENTS: Essentially the same as the suggested solution, except we make use of np.unique() to count the number of occurances for each class in the k neighbours\n",
    "</span>"
   ]
  },
  {
   "cell_type": "code",
   "execution_count": 14,
   "metadata": {},
   "outputs": [
    {
     "name": "stdout",
     "output_type": "stream",
     "text": [
      "error rates:  [0.0139, 0.0069, 0.0069, 0.0, 0.0069, 0.0, 0.0, 0.0069, 0.0069, 0.0208, 0.0208, 0.0278, 0.0208, 0.0208, 0.0208, 0.0208, 0.0208]\n",
      "Describe the dependency of the classification performance on k. \n",
      "COMMENTS: For small values of k, the error rate decreases with increasing k initially, but for large k values (i.e. k > 15), the error rate increases. the optimal k value is probably between 7 and 13.\n"
     ]
    },
    {
     "data": {
      "image/png": "[encoded data removed]",
      "text/plain": [
       "<Figure size 432x288 with 1 Axes>"
      ]
     },
     "metadata": {
      "needs_background": "light"
     },
     "output_type": "display_data"
    }
   ],
   "source": [
    "# Filter out digits 3 and 9 from data set:\n",
    "\n",
    "y_train_39 = np.hstack((y_train[y_train == 3],y_train[y_train == 9]))\n",
    "X_train_39 = np.vstack((X_train[y_train == 3],X_train[y_train == 9]))\n",
    "\n",
    "y_test_39 = np.hstack((y_test[y_test == 3],y_test[y_test == 9]))\n",
    "X_test_39 = np.vstack((X_test[y_test == 3],X_test[y_test == 9]))\n",
    "\n",
    "#print(y_train.shape, (y_train[y_train == 3]).shape,(y_train[y_train == 9]).shape)\n",
    "#print(y_train_39.shape, y_train_39)\n",
    "#print(X_train.shape, (X_train[y_train == 3]).shape,(X_train[y_train == 9]).shape)\n",
    "#print(X_train_39.shape)\n",
    "\n",
    "#print(y_test.shape, (y_test[y_test == 3]).shape,(y_test[y_test == 9]).shape)\n",
    "#print(y_test_39.shape, y_test_39)\n",
    "#print(X_test.shape, (X_test[y_test == 3]).shape,(X_test[y_test == 9]).shape)\n",
    "#print(X_test_39.shape)\n",
    "\n",
    "k_values = np.arange(1, 35, 2).tolist()\n",
    "errors_39 = []\n",
    "for k in k_values:\n",
    "    y_predict_39 = knn_classifier(k, X_train_39, y_train_39, X_test_39)\n",
    "    err = (y_predict_39 != y_test_39).sum() / y_test_39.shape[0]\n",
    "    errors_39.append(round(err,4))\n",
    "\n",
    "k_dots = [1, 3, 5, 9, 17, 33]\n",
    "indx = [k_values.index(i) for i in k_dots]\n",
    "errors_dots = np.array(errors_39)[indx]\n",
    "    \n",
    "print(\"error rates: \", errors_39)\n",
    "plt.plot(k_values, errors_39,c='red',label=\"odd numbers in between 1 -33\")\n",
    "plt.scatter(k_dots, errors_dots,marker='o',label=\"selected k values\")\n",
    "\n",
    "plt.title('KNN Classification Performance')\n",
    "plt.xlabel(\"k\")\n",
    "plt.ylabel('error rate')\n",
    "plt.legend()\n",
    "\n",
    "print(\"Describe the dependency of the classification performance on k.\",\n",
    "      \"\\nCOMMENTS: For small values of k, the error rate decreases with increasing k initially, but for large k values (i.e. k > 15), the error rate increases.\",\n",
    "      \"the optimal k value is probably between 7 and 13.\")\n"
   ]
  },
  {
   "cell_type": "markdown",
   "metadata": {},
   "source": [
    "<span style =\"color: green; font-weight: bold\"> COMMENTS: \n",
    "    <br> * We notice the X_train[np.logical_or(classA==y_train, classB==y_train)] is a better implementation than our np.stack(). \n",
    "    <br> * We also notice that np.count_nonzero(A==B) is an alternative way of expressing (A != B).sum()\n",
    "    <br> * In addition, we like the idea of presenting the confusion matrix in the suggested solution and will try to incorporate that in future solutions.\n",
    "</span>"
   ]
  },
  {
   "cell_type": "markdown",
   "metadata": {},
   "source": [
    "## 4 Cross-validation (8 points)"
   ]
  },
  {
   "cell_type": "code",
   "execution_count": 15,
   "metadata": {},
   "outputs": [],
   "source": [
    "def split_folds(data,target,L):\n",
    "    \"\"\"\n",
    "    To randomly split the given data and labels into L folds of roughly equal size\n",
    "    \n",
    "    \"\"\"\n",
    "    N = data.shape[0]\n",
    "    idx = np.random.permutation(N)\n",
    "    X_folds = np.array_split(data[idx],L)\n",
    "    y_folds = np.array_split(target[idx],L)\n",
    "\n",
    "    return X_folds, y_folds\n",
    "\n",
    "#L = 10\n",
    "#X_folds, y_folds = split_folds(data, target, L)"
   ]
  },
  {
   "cell_type": "code",
   "execution_count": 16,
   "metadata": {},
   "outputs": [
    {
     "data": {
      "text/plain": [
       "(2, 3, 4, 2)"
      ]
     },
     "execution_count": 16,
     "metadata": {},
     "output_type": "execute_result"
    }
   ],
   "source": [
    "data_39 = np.vstack((X_train_39,X_test_39))\n",
    "target_39 = np.hstack((y_train_39,y_test_39))\n",
    "\n",
    "L_values = [2,5,10]\n",
    "k_values = [1,5,9,13]\n",
    "\n",
    "sklearn_L = []\n",
    "knn_L = []\n",
    "\n",
    "for L in L_values:\n",
    "    X_folds, y_folds = split_folds(data_39, target_39, L)\n",
    "    \n",
    "    sklearn_k = []\n",
    "    knn_k = []\n",
    "\n",
    "    for k in k_values:\n",
    "        skmodel = KNeighborsClassifier(n_neighbors=k)\n",
    "        \n",
    "        errors_sk = []\n",
    "        errors_knn = []\n",
    "        \n",
    "        for i in range(L):\n",
    "            X_test = X_folds[i]\n",
    "            y_test = y_folds[i]\n",
    "            \n",
    "            X_ = [X_folds[j] for j in range(L) if j!=i]\n",
    "            X_train = np.vstack(X_)\n",
    "\n",
    "            y_ = [y_folds[j] for j in range(L) if j!=i]\n",
    "            y_train = np.hstack(y_)\n",
    "            \n",
    "            skmodel.fit(X_train,y_train)\n",
    "            y_skmodel = skmodel.predict(X_test)\n",
    "            err_sk = (y_skmodel != y_test).sum() / y_test.shape[0]\n",
    "            errors_sk.append(err_sk)\n",
    "            \n",
    "            y_knn = knn_classifier(k, X_train, y_train, X_test)\n",
    "            err_knn = (y_knn != y_test).sum() / y_test.shape[0]\n",
    "            errors_knn.append(err_knn)\n",
    "        \n",
    "        sklearn_k.append([np.array(errors_sk).mean(),np.array(errors_sk).std()])\n",
    "        knn_k.append([np.array(errors_knn).mean(),np.array(errors_knn).std()])\n",
    "        \n",
    "    sklearn_L.append(sklearn_k)\n",
    "    knn_L.append(knn_k)\n",
    "\n",
    "results = np.array([sklearn_L,knn_L])\n",
    "results.shape\n"
   ]
  },
  {
   "cell_type": "code",
   "execution_count": 17,
   "metadata": {},
   "outputs": [
    {
     "data": {
      "image/png": "[encoded data removed]",
      "text/plain": [
       "<Figure size 1080x360 with 4 Axes>"
      ]
     },
     "metadata": {
      "needs_background": "light"
     },
     "output_type": "display_data"
    }
   ],
   "source": [
    "fig, ax = plt.subplots(1, len(k_values), figsize = (15, 5), tight_layout = True, sharey = True, sharex=True)\n",
    "fig.suptitle(\"Mean & Std of Error Rates\")\n",
    "for i in range(len(k_values)):\n",
    "    ax[i].set_title('k = %i' %k_values[i])\n",
    "    ax[i].set_xlabel(\"Number of folds\")\n",
    "    ax[i].set_ylabel(\"Error rate\")\n",
    "    ax[i].errorbar(np.array(L_values)-0.1, results[0,:,i,0], yerr = results[0,:,i,1], fmt = 'x--', label = 'sklearn model')\n",
    "    ax[i].errorbar(np.array(L_values)+0.1, results[1,:,i,0], yerr = results[1,:,i,1], fmt = 'o-', label = 'knn_classifier()')\n",
    "    ax[i].legend(loc='lower left')\n",
    "fig.tight_layout()"
   ]
  },
  {
   "cell_type": "code",
   "execution_count": 18,
   "metadata": {},
   "outputs": [
    {
     "name": "stdout",
     "output_type": "stream",
     "text": [
      "COMMENTS: As L increases, the mean error rate stablises but the standard deviation increases.\n"
     ]
    }
   ],
   "source": [
    "print(\"COMMENTS: As L increases, the mean error rate stablises but the standard deviation increases.\")"
   ]
  },
  {
   "cell_type": "markdown",
   "metadata": {},
   "source": [
    "<span style =\"color: green; font-weight: bold\"> COMMENTS: Correct observation and more or less in line with the provided solution.\n",
    "</span>"
   ]
  }
 ],
 "metadata": {
  "kernelspec": {
   "display_name": "Python 3",
   "language": "python",
   "name": "python3"
  },
  "language_info": {
   "codemirror_mode": {
    "name": "ipython",
    "version": 3
   },
   "file_extension": ".py",
   "mimetype": "text/x-python",
   "name": "python",
   "nbconvert_exporter": "python",
   "pygments_lexer": "ipython3",
   "version": "3.7.6"
  }
 },
 "nbformat": 4,
 "nbformat_minor": 4
}
